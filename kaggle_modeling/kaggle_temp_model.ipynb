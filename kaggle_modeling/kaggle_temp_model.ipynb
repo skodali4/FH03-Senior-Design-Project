{
 "cells": [
  {
   "cell_type": "code",
   "execution_count": 1,
   "metadata": {},
   "outputs": [
    {
     "name": "stderr",
     "output_type": "stream",
     "text": [
      "2024-02-20 18:43:56.684400: I tensorflow/core/platform/cpu_feature_guard.cc:182] This TensorFlow binary is optimized to use available CPU instructions in performance-critical operations.\n",
      "To enable the following instructions: AVX2 AVX512F AVX512_VNNI FMA, in other operations, rebuild TensorFlow with the appropriate compiler flags.\n"
     ]
    }
   ],
   "source": [
    "import numpy as np\n",
    "import pandas as pd  \n",
    "import matplotlib.pyplot as plt \n",
    "import seaborn as sns\n",
    "import warnings\n",
    "from scipy.stats import pearsonr \n",
    "from sklearn.model_selection import train_test_split\n",
    "from sklearn.metrics import mean_squared_error, r2_score\n",
    "from statsmodels.tsa.arima.model import ARIMA\n",
    "import xgboost as xgb\n",
    "import tensorflow as tf\n",
    "from tensorflow.keras.models import Sequential\n",
    "from tensorflow.keras.layers import Dense, LSTM, Dropout, Bidirectional\n",
    "from math import sqrt"
   ]
  },
  {
   "cell_type": "code",
   "execution_count": 3,
   "metadata": {},
   "outputs": [],
   "source": [
    "df = pd.read_csv(\"../kaggle/coin_gecko_2022-03-16.csv\")\n",
    "df2 = pd.read_csv(\"../kaggle/coin_gecko_2022-03-17.csv\")"
   ]
  },
  {
   "cell_type": "code",
   "execution_count": 4,
   "metadata": {},
   "outputs": [
    {
     "data": {
      "text/html": [
       "<div>\n",
       "<style scoped>\n",
       "    .dataframe tbody tr th:only-of-type {\n",
       "        vertical-align: middle;\n",
       "    }\n",
       "\n",
       "    .dataframe tbody tr th {\n",
       "        vertical-align: top;\n",
       "    }\n",
       "\n",
       "    .dataframe thead th {\n",
       "        text-align: right;\n",
       "    }\n",
       "</style>\n",
       "<table border=\"1\" class=\"dataframe\">\n",
       "  <thead>\n",
       "    <tr style=\"text-align: right;\">\n",
       "      <th></th>\n",
       "      <th>coin</th>\n",
       "      <th>symbol</th>\n",
       "      <th>price</th>\n",
       "      <th>1h</th>\n",
       "      <th>24h</th>\n",
       "      <th>7d</th>\n",
       "      <th>24h_volume</th>\n",
       "      <th>mkt_cap</th>\n",
       "      <th>date</th>\n",
       "    </tr>\n",
       "  </thead>\n",
       "  <tbody>\n",
       "    <tr>\n",
       "      <th>0</th>\n",
       "      <td>Bitcoin</td>\n",
       "      <td>BTC</td>\n",
       "      <td>40859.460000</td>\n",
       "      <td>0.022</td>\n",
       "      <td>0.030</td>\n",
       "      <td>0.055</td>\n",
       "      <td>3.539076e+10</td>\n",
       "      <td>7.709915e+11</td>\n",
       "      <td>2022-03-16</td>\n",
       "    </tr>\n",
       "    <tr>\n",
       "      <th>1</th>\n",
       "      <td>Ethereum</td>\n",
       "      <td>ETH</td>\n",
       "      <td>2744.410000</td>\n",
       "      <td>0.024</td>\n",
       "      <td>0.034</td>\n",
       "      <td>0.065</td>\n",
       "      <td>1.974870e+10</td>\n",
       "      <td>3.271044e+11</td>\n",
       "      <td>2022-03-16</td>\n",
       "    </tr>\n",
       "    <tr>\n",
       "      <th>2</th>\n",
       "      <td>Tether</td>\n",
       "      <td>USDT</td>\n",
       "      <td>1.000000</td>\n",
       "      <td>-0.001</td>\n",
       "      <td>-0.001</td>\n",
       "      <td>0.000</td>\n",
       "      <td>5.793497e+10</td>\n",
       "      <td>7.996516e+10</td>\n",
       "      <td>2022-03-16</td>\n",
       "    </tr>\n",
       "    <tr>\n",
       "      <th>3</th>\n",
       "      <td>BNB</td>\n",
       "      <td>BNB</td>\n",
       "      <td>383.430000</td>\n",
       "      <td>0.018</td>\n",
       "      <td>0.028</td>\n",
       "      <td>0.004</td>\n",
       "      <td>1.395854e+09</td>\n",
       "      <td>6.404382e+10</td>\n",
       "      <td>2022-03-16</td>\n",
       "    </tr>\n",
       "    <tr>\n",
       "      <th>4</th>\n",
       "      <td>USD Coin</td>\n",
       "      <td>USDC</td>\n",
       "      <td>0.999874</td>\n",
       "      <td>-0.001</td>\n",
       "      <td>0.000</td>\n",
       "      <td>-0.000</td>\n",
       "      <td>3.872274e+09</td>\n",
       "      <td>5.222214e+10</td>\n",
       "      <td>2022-03-16</td>\n",
       "    </tr>\n",
       "  </tbody>\n",
       "</table>\n",
       "</div>"
      ],
      "text/plain": [
       "       coin symbol         price     1h    24h     7d    24h_volume  \\\n",
       "0   Bitcoin    BTC  40859.460000  0.022  0.030  0.055  3.539076e+10   \n",
       "1  Ethereum    ETH   2744.410000  0.024  0.034  0.065  1.974870e+10   \n",
       "2    Tether   USDT      1.000000 -0.001 -0.001  0.000  5.793497e+10   \n",
       "3       BNB    BNB    383.430000  0.018  0.028  0.004  1.395854e+09   \n",
       "4  USD Coin   USDC      0.999874 -0.001  0.000 -0.000  3.872274e+09   \n",
       "\n",
       "        mkt_cap        date  \n",
       "0  7.709915e+11  2022-03-16  \n",
       "1  3.271044e+11  2022-03-16  \n",
       "2  7.996516e+10  2022-03-16  \n",
       "3  6.404382e+10  2022-03-16  \n",
       "4  5.222214e+10  2022-03-16  "
      ]
     },
     "execution_count": 4,
     "metadata": {},
     "output_type": "execute_result"
    }
   ],
   "source": [
    "df.head()"
   ]
  },
  {
   "cell_type": "code",
   "execution_count": 5,
   "metadata": {},
   "outputs": [
    {
     "data": {
      "text/plain": [
       "(Index([310, 416, 472], dtype='int64'),\n",
       " Index([310, 416, 472], dtype='int64'),\n",
       " Index([310, 416, 472], dtype='int64'),\n",
       " Index([310, 416, 472], dtype='int64'))"
      ]
     },
     "execution_count": 5,
     "metadata": {},
     "output_type": "execute_result"
    }
   ],
   "source": [
    "# checking if missing values come from the same coin\n",
    "df[df[\"1h\"].isnull()==True].index, df[df[\"24h\"].isnull()==True].index, df[df[\"7d\"].isnull()==True].index, df[df[\"24h_volume\"].isnull()==True].index "
   ]
  },
  {
   "cell_type": "code",
   "execution_count": 6,
   "metadata": {},
   "outputs": [],
   "source": [
    "# removing the row with missing value \n",
    "df = df.drop([310, 416, 472])"
   ]
  },
  {
   "cell_type": "code",
   "execution_count": 7,
   "metadata": {},
   "outputs": [],
   "source": [
    "# add price and price changes in 1h, 24h, 7d to know the movement of the price \n",
    "df[\"price_7d\"] = df[\"price\"] + df[\"7d\"]\n",
    "df[\"price_24h\"] = df[\"price\"] + df[\"24h\"]\n",
    "df[\"price_1h\"] = df[\"price\"] + df[\"1h\"]"
   ]
  },
  {
   "cell_type": "code",
   "execution_count": 8,
   "metadata": {},
   "outputs": [
    {
     "data": {
      "text/plain": [
       "(array(['Bitcoin', 'Ethereum', 'Tether', 'BNB', 'USD Coin', 'XRP', 'Terra',\n",
       "        'Solana', 'Cardano', 'Polkadot', 'Avalanche', 'Binance USD',\n",
       "        'Dogecoin', 'TerraUSD', 'Shiba Inu', 'Wrapped Bitcoin', 'Cronos',\n",
       "        'Polygon', 'Dai', 'Cosmos Hub', 'Litecoin', 'Lido Staked Ether',\n",
       "        'Near', 'Chainlink', 'TRON', 'FTX Token', 'Bitcoin Cash',\n",
       "        'LEO Token', 'OKB', 'Algorand', 'Stellar', 'Uniswap', 'Hedera',\n",
       "        'Axie Infinity', 'Decentraland', 'Ethereum Classic', 'Elrond',\n",
       "        'The Sandbox', 'Internet Computer', 'Monero', 'cETH', 'VeChain',\n",
       "        'Fantom', 'Filecoin', 'Osmosis', 'Klaytn', 'Frax', 'Waves',\n",
       "        'Theta Network', 'Magic Internet Money', 'The Graph', 'Tezos',\n",
       "        'cUSDC', 'Helium', 'THORChain', 'EOS', 'ECOMI', 'IOTA', 'cDAI',\n",
       "        'Flow', 'Theta Fuel', 'Aave', 'Zcash', 'Maker', 'JUNO', 'Gala',\n",
       "        'BitTorrent', 'Arweave', 'Huobi BTC', 'PancakeSwap', 'Quant',\n",
       "        'Harmony', 'eCash', 'Bitcoin SV', 'NEO', 'TrueUSD', 'Huobi Token',\n",
       "        'KuCoin Token', 'Celsius Network', 'Stacks', 'Humans.ai',\n",
       "        'Enjin Coin', 'Basic Attention Token', 'NEXO', 'Amp', 'Radix',\n",
       "        'Kusama', 'Celo', 'Kadena', 'Chiliz', 'Dash', 'Frax Share',\n",
       "        'Pax Dollar', 'BitDAO', 'GateToken', 'Convex Finance',\n",
       "        'Synthetix Network Token', 'Xido Finance', 'Loopring', 'NEM',\n",
       "        'Anchor Protocol', 'Oasis Network', 'Curve DAO Token', 'Decred',\n",
       "        'cUSDT', 'Secret', 'LINK', 'Mina Protocol', 'Holo', 'Compound',\n",
       "        'IoTeX', 'Bitkub Coin', 'Neutrino USD', 'yearn.finance',\n",
       "        'Nexus Mutual', 'XDC Network', '1inch', 'WAX',\n",
       "        'Smooth Love Potion', 'Qtum', 'PAX Gold', 'Sushi', 'renBTC',\n",
       "        'Livepeer', 'Ankr', 'Bancor Network Token', 'Pocket Network',\n",
       "        'Marinade staked SOL', 'OMG Network', 'Zilliqa', 'SafeMoon',\n",
       "        'Render Token', 'Fei USD', 'Gnosis', 'ICON', 'Ravencoin', 'IOST',\n",
       "        'Bitcoin Gold', 'Kava', 'UMA', 'OEC Token', 'Songbird', 'e-Radix',\n",
       "        'Velas', 'Rocket Pool', 'Tether Gold', 'Moonbeam', 'Sapphire',\n",
       "        'Horizen', 'WOO Network', 'Liquity USD', 'Golem', 'Rally',\n",
       "        'Baby Doge Coin', 'Audius', 'Siacoin', 'Metis Token', 'Ontology',\n",
       "        '0x', 'APENFT', 'SKALE', 'SwissBorg', 'dYdX', 'Dogelon Mars',\n",
       "        'Olympus', 'Constellation', 'Synapse', 'Immutable X', 'Convex CRV',\n",
       "        'Everdome', 'Gemini Dollar', 'JUST', 'Decentralized Social',\n",
       "        'Polymath', 'NuCypher', 'REN', 'Keep Network', 'Illuvium', 'Flux',\n",
       "        'Ethereum Name Service', 'Hive', 'Lido DAO', 'STEPN',\n",
       "        'Spell Token', 'Nervos Network', 'Kyber Network Crystal',\n",
       "        'FLEX Coin', 'HUSD', 'Ultra', 'ConstitutionDAO', 'LooksRare',\n",
       "        'DeFi Kingdoms', 'Telcoin', 'Tomb', 'Stargaze', 'DigiByte',\n",
       "        'DigitalBits', 'Syscoin', 'Lisk', 'Tokemak', 'Nano', 'Tenset',\n",
       "        'PlayDapp', 'SafeMoon [OLD]', 'Ronin', 'Persistence', 'Radio Caca',\n",
       "        'Pirate Chain', 'MAI', 'Casper Network', 'Everscale', 'SXP',\n",
       "        'Floki Inu', 'Zenon', 'Injective', 'MXC', 'WINkLink', 'WazirX',\n",
       "        'Perpetual Protocol', 'Mobox', 'Astroport', 'Trust Wallet Token',\n",
       "        'Serum', 'Coin98', 'Mirror Protocol', 'Zipmex Token', 'Tribe',\n",
       "        'VVS Finance', 'Metahero', 'Creditcoin', 'Lido Staked SOL', 'API3',\n",
       "        'Escoin Token', 'Function X', 'Raydium', 'CoinEx Token',\n",
       "        'Euro Tether', 'Fetch.ai', 'Dent', 'Chia', 'Status',\n",
       "        'Power Ledger', 'Medibloc', 'xSUSHI', 'Chromia',\n",
       "        'Yield Guild Games', 'Telos', 'COTI', 'Alchemix USD',\n",
       "        'Celer Network', 'Orbs', 'Vulcan Forged', 'Energy Web Token',\n",
       "        'Astar', 'Origin Protocol', 'Cratos', 'Ocean Protocol',\n",
       "        'XYO Network', 'Dopex', 'PLEX', 'LUKSO Token', 'DAO Maker',\n",
       "        'Boba Network', 'Mdex', 'UFO Gaming', 'Ardor', 'Pundi X',\n",
       "        'Mask Network', 'Kyber Network Crystal Legacy',\n",
       "        'Interest Bearing Bitcoin', 'Coinmetro', 'MX Token',\n",
       "        'Reserve Rights Token', 'Radicle', 'Conflux', 'Wonderland', 'XSGD',\n",
       "        'MiL.k Alliance', 'Civic', 'Unibright', 'Aragon', 'Yoshi.exchange',\n",
       "        'SuperFarm', 'Divi', 'BTSE Token', 'GMX', 'Request', 'Multichain',\n",
       "        'Ergo', 'Rari Governance Token', 'FEG Token BSC', 'Alchemy Pay',\n",
       "        'Numeraire', 'Power Cash', 'Moonriver', 'sBTC', 'Cartesi', 'JOE',\n",
       "        'Veritaseum', 'Bifrost', 'inSure DeFi', 'Aurora', 'AscendEx Token',\n",
       "        'Reef Finance', 'World Mobile Token', 'Mango', 'Beldex',\n",
       "        'Poollotto.finance', 'Biconomy', 'FEG Token', 'Ion', 'MMFinance',\n",
       "        'Origin Dollar', 'Verge', 'Kishu Inu', 'Band Protocol',\n",
       "        'Tokamak Network', 'Storj', 'VeThor Token', 'USDX', 'OriginTrail',\n",
       "        'Merit Circle', 'aelf', 'Akash Network', 'GPEX', 'StarLink',\n",
       "        'Pundi X [OLD]', 'Acala', 'Orchid Protocol', 'Beta Finance', 'Ark',\n",
       "        'STASIS EURO', 'Magic', 'Keep3rV1', 'Polkastarter', 'Hxro',\n",
       "        'flexUSD', 'Bezoge Earth', 'MaidSafeCoin', 'Prometeus',\n",
       "        'Iron Bank EURO', 'Metadium', 'Sperax', 'iExec RLC',\n",
       "        'DUSK Network', 'DEAPCOIN', 'StormX', 'RMRK', 'Qredo', 'Stratis',\n",
       "        'STP Network', 'Steem', 'Alpha Finance', 'NKN',\n",
       "        'RSK Infrastructure Framework', 'Balancer', 'Dawn Protocol',\n",
       "        'GXChain', 'Sun Token', 'Dero', 'Kirobo', 'Alien Worlds', 'Strike',\n",
       "        'Aavegotchi', 'Victoria VR', 'Ankr Reward-Bearing Staked ETH',\n",
       "        'Decentral Games', 'Meerkat Shares', 'FUNToken',\n",
       "        'THORChain (ERC20)', 'TrueFi', 'agEUR', 'sETH2', 'Maple',\n",
       "        'Spookyswap', 'AIOZ Network', 'Tomb Shares', 'Beefy.Finance',\n",
       "        'TitanSwap', 'Phantasma', 'Tornado Cash', 'Alchemix', 'DODO',\n",
       "        'Hoo Token', 'BTC Standard Hashrate Token', 'KardiaChain',\n",
       "        'Klever', 'Orion Protocol', 'BENQI Liquid Staked AVAX',\n",
       "        'PlatON Network', 'Hathor', 'Kava Swap', 'Proton', 'Utrust',\n",
       "        'Regen', 'My Neighbor Alice', 'BakerySwap', 'QuarkChain', 'Hydra',\n",
       "        'TomoChain', 'Pylon Protocol', 'Ellipsis', 'Venus', 'Railgun',\n",
       "        'Seedify.fund', 'Hermez Network', 'Alpine F1 Team Fan Token',\n",
       "        'ICHI', 'JasmyCoin', 'CRYPTO20', 'Decentral Games Governance',\n",
       "        'Metal', 'Wilder World', 'Wrapped Centrifuge', 'Bitcoin Diamond',\n",
       "        'sUSD', 'sETH', 'Bounce', 'Augur', 'Verasity',\n",
       "        'Neutrino System Base Token', 'Platypus Finance', 'Ampleforth',\n",
       "        'Wanchain', 'IDEX', 'Dopex Rebate Token', 'Everipedia', 'ZoidPay',\n",
       "        'Electroneum', 'KeeperDAO', 'cUNI', 'Dvision Network',\n",
       "        'AllianceBlock', 'Bonfida', 'Adventure Gold', 'Avalaunch', 'HUNT',\n",
       "        'Automata', 'Banana', 'chrono.tech', 'Celo Dollar', 'CertiK',\n",
       "        'Adshares', 'DFI.money', 'Gains Farm', 'Gitcoin', 'Biswap',\n",
       "        'Clover Finance', 'SafePal', 'Enzyme', 'Crabada', 'Covalent',\n",
       "        'Aergo', 'Nerve Finance', 'Swarm', 'BENQI', 'Somnium Space CUBEs',\n",
       "        'Rai Reflex Index', 'PEAKDEFI', 'Propy', 'Aurory', 'mStable USD',\n",
       "        'bZx Protocol', 'ShapeShift FOX Token', 'SingularityNET',\n",
       "        'Handshake', 'Kin', 'RIZON', 'Vader Protocol', 'DeFi Pulse Index',\n",
       "        'Sovryn', 'Badger DAO', 'TempleDAO', 'Wrapped NXM', 'Hifi Finance',\n",
       "        'Dock', 'Sifchain', 'Retreeb', 'Presearch', 'PlatonCoin',\n",
       "        'Aave [OLD]', 'ShareToken', 'Circuits of Value', 'Travala.com',\n",
       "        'Redacted Cartel', 'IRISnet', 'ChainX',\n",
       "        'Index Coop - ETH 2x Flexible Leverage Index', 'cVault.finance',\n",
       "        'ThunderCore', 'OpenDAO', 'Carry', 'ARPA Chain', 'GuildFi',\n",
       "        'EverRise', 'SuperRare', 'Oxygen'], dtype=object),\n",
       " array(['BTC', 'ETH', 'USDT', 'BNB', 'USDC', 'XRP', 'LUNA', 'SOL', 'ADA',\n",
       "        'DOT', 'AVAX', 'BUSD', 'DOGE', 'UST', 'SHIB', 'WBTC', 'CRO',\n",
       "        'MATIC', 'DAI', 'ATOM', 'LTC', 'STETH', 'NEAR', 'LINK', 'TRX',\n",
       "        'FTT', 'BCH', 'LEO', 'OKB', 'ALGO', 'XLM', 'UNI', 'HBAR', 'AXS',\n",
       "        'MANA', 'ETC', 'EGLD', 'SAND', 'ICP', 'XMR', 'CETH', 'VET', 'FTM',\n",
       "        'FIL', 'OSMO', 'KLAY', 'FRAX', 'WAVES', 'THETA', 'MIM', 'GRT',\n",
       "        'XTZ', 'CUSDC', 'HNT', 'RUNE', 'EOS', 'OMI', 'MIOTA', 'CDAI',\n",
       "        'FLOW', 'TFUEL', 'AAVE', 'ZEC', 'MKR', 'JUNO', 'GALA', 'BTT', 'AR',\n",
       "        'HBTC', 'CAKE', 'QNT', 'ONE', 'XEC', 'BSV', 'NEO', 'TUSD', 'HT',\n",
       "        'KCS', 'CEL', 'STX', 'HEART', 'ENJ', 'BAT', 'NEXO', 'AMP', 'XRD',\n",
       "        'KSM', 'CELO', 'KDA', 'CHZ', 'DASH', 'FXS', 'USDP', 'BIT', 'GT',\n",
       "        'CVX', 'SNX', 'XIDO', 'LRC', 'XEM', 'ANC', 'ROSE', 'CRV', 'DCR',\n",
       "        'CUSDT', 'SCRT', 'LN', 'MINA', 'HOT', 'COMP', 'IOTX', 'KUB',\n",
       "        'USDN', 'YFI', 'NXM', 'XDC', '1INCH', 'WAXP', 'SLP', 'QTUM',\n",
       "        'PAXG', 'SUSHI', 'RENBTC', 'LPT', 'ANKR', 'BNT', 'POKT', 'MSOL',\n",
       "        'OMG', 'ZIL', 'SFM', 'RNDR', 'FEI', 'GNO', 'ICX', 'RVN', 'IOST',\n",
       "        'BTG', 'KAVA', 'UMA', 'OKT', 'SGB', 'EXRD', 'VLX', 'RPL', 'XAUT',\n",
       "        'GLMR', 'SAPP', 'ZEN', 'WOO', 'LUSD', 'GLM', 'RLY', 'BABYDOGE',\n",
       "        'AUDIO', 'SC', 'METIS', 'ONT', 'ZRX', 'NFT', 'SKL', 'CHSB', 'DYDX',\n",
       "        'ELON', 'OHM', 'DAG', 'SYN', 'IMX', 'CVXCRV', 'DOME', 'GUSD',\n",
       "        'JST', 'DESO', 'POLY', 'NU', 'REN', 'KEEP', 'ILV', 'FLUX', 'ENS',\n",
       "        'HIVE', 'LDO', 'GMT', 'SPELL', 'CKB', 'KNC', 'FLEX', 'HUSD', 'UOS',\n",
       "        'PEOPLE', 'LOOKS', 'JEWEL', 'TEL', 'TOMB', 'STARS', 'DGB', 'XDB',\n",
       "        'SYS', 'LSK', 'TOKE', 'XNO', '10SET', 'PLA', 'SAFEMOON', 'RON',\n",
       "        'XPRT', 'RACA', 'ARRR', 'MIMATIC', 'CSPR', 'EVER', 'SXP', 'FLOKI',\n",
       "        'ZNN', 'INJ', 'MXC', 'WIN', 'WRX', 'PERP', 'MBOX', 'ASTRO', 'TWT',\n",
       "        'SRM', 'C98', 'MIR', 'ZMT', 'TRIBE', 'VVS', 'HERO', 'CTC', 'STSOL',\n",
       "        'API3', 'ELG', 'FX', 'RAY', 'CET', 'EURT', 'FET', 'DENT', 'XCH',\n",
       "        'SNT', 'POWR', 'MED', 'XSUSHI', 'CHR', 'YGG', 'TLOS', 'COTI',\n",
       "        'ALUSD', 'CELR', 'ORBS', 'PYR', 'EWT', 'ASTR', 'OGN', 'CRTS',\n",
       "        'OCEAN', 'XYO', 'DPX', 'PLEX', 'LYXE', 'DAO', 'BOBA', 'MDX', 'UFO',\n",
       "        'ARDR', 'PUNDIX', 'MASK', 'KNCL', 'IBBTC', 'XCM', 'MX', 'RSR',\n",
       "        'RAD', 'CFX', 'TIME', 'XSGD', 'MLK', 'CVC', 'UBT', 'ANT', 'YOSHI',\n",
       "        'SUPER', 'DIVI', 'BTSE', 'GMX', 'REQ', 'MULTI', 'ERG', 'RGT',\n",
       "        'FEG', 'ACH', 'NMR', 'PRCH', 'MOVR', 'SBTC', 'CTSI', 'JOE', 'VERI',\n",
       "        'BFC', 'SURE', 'AURORA', 'ASD', 'REEF', 'WMT', 'MNGO', 'BDX',\n",
       "        'PLT', 'BICO', 'ION', 'MMF', 'OUSD', 'XVG', 'KISHU', 'BAND', 'TON',\n",
       "        'STORJ', 'VTHO', 'USDX', 'TRAC', 'MC', 'ELF', 'AKT', 'GPX',\n",
       "        'STARL', 'NPXS', 'ACA', 'OXT', 'BETA', 'ARK', 'EURS', 'MAGIC',\n",
       "        'KP3R', 'POLS', 'HXRO', 'FLEXUSD', 'BEZOGE', 'MAID', 'PROM',\n",
       "        'IBEUR', 'META', 'SPA', 'RLC', 'DUSK', 'DEP', 'STMX', 'RMRK',\n",
       "        'QRDO', 'STRAX', 'STPT', 'STEEM', 'ALPHA', 'NKN', 'RIF', 'BAL',\n",
       "        'DAWN', 'GXC', 'SUN', 'DERO', 'KIRO', 'TLM', 'STRK', 'GHST', 'VR',\n",
       "        'AETHC', 'DG', 'MSHARE', 'FUN', 'TRU', 'AGEUR', 'SETH2', 'MPL',\n",
       "        'BOO', 'AIOZ', 'TSHARE', 'BIFI', 'TITAN', 'SOUL', 'TORN', 'ALCX',\n",
       "        'DODO', 'HOO', 'BTCST', 'KAI', 'KLV', 'ORN', 'SAVAX', 'LAT', 'HTR',\n",
       "        'SWP', 'XPR', 'UTK', 'REGEN', 'ALICE', 'BAKE', 'QKC', 'HYDRA',\n",
       "        'TOMO', 'MINE', 'EPS', 'XVS', 'RAIL', 'SFUND', 'HEZ', 'ALPINE',\n",
       "        'ICHI', 'JASMY', 'C20', 'XDG', 'MTL', 'WILD', 'WCFG', 'BCD',\n",
       "        'SUSD', 'SETH', 'AUCTION', 'REP', 'VRA', 'NSBT', 'PTP', 'AMPL',\n",
       "        'WAN', 'IDEX', 'RDPX', 'IQ', 'ZPAY', 'ETN', 'ROOK', 'CUNI', 'DVI',\n",
       "        'ALBT', 'FIDA', 'AGLD', 'XAVA', 'HUNT', 'ATA', 'BANANA', 'CUSD',\n",
       "        'CTK', 'ADS', 'YFII', 'GFARM2', 'GTC', 'BSW', 'CLV', 'SFP', 'MLN',\n",
       "        'CRA', 'CQT', 'AERGO', 'NRV', 'BZZ', 'QI', 'CUBE', 'RAI', 'PEAK',\n",
       "        'PRO', 'AURY', 'MUSD', 'BZRX', 'FOX', 'AGIX', 'HNS', 'KIN',\n",
       "        'ATOLO', 'VADER', 'DPI', 'SOV', 'BADGER', 'TEMPLE', 'WNXM', 'MFT',\n",
       "        'DOCK', 'EROWAN', 'TREEB', 'PRE', 'PLTC', 'LEND', 'SHR', 'COVAL',\n",
       "        'AVA', 'BTRFLY', 'IRIS', 'PCX', 'ETH2X-FLI', 'CORE', 'TT', 'SOS',\n",
       "        'CRE', 'ARPA', 'GF', 'RISE', 'RARE', 'OXY'], dtype=object))"
      ]
     },
     "execution_count": 8,
     "metadata": {},
     "output_type": "execute_result"
    }
   ],
   "source": [
    "df[\"coin\"].unique(), df[\"symbol\"].unique()"
   ]
  },
  {
   "cell_type": "code",
   "execution_count": 9,
   "metadata": {},
   "outputs": [
    {
     "data": {
      "text/plain": [
       "(497, 494)"
      ]
     },
     "execution_count": 9,
     "metadata": {},
     "output_type": "execute_result"
    }
   ],
   "source": [
    "df[\"coin\"].nunique(), df[\"symbol\"].nunique() "
   ]
  },
  {
   "cell_type": "markdown",
   "metadata": {},
   "source": [
    "497 coins and 494 symbols in the dataset, single row for each coin"
   ]
  },
  {
   "cell_type": "code",
   "execution_count": 10,
   "metadata": {},
   "outputs": [
    {
     "data": {
      "text/html": [
       "<div>\n",
       "<style scoped>\n",
       "    .dataframe tbody tr th:only-of-type {\n",
       "        vertical-align: middle;\n",
       "    }\n",
       "\n",
       "    .dataframe tbody tr th {\n",
       "        vertical-align: top;\n",
       "    }\n",
       "\n",
       "    .dataframe thead th {\n",
       "        text-align: right;\n",
       "    }\n",
       "</style>\n",
       "<table border=\"1\" class=\"dataframe\">\n",
       "  <thead>\n",
       "    <tr style=\"text-align: right;\">\n",
       "      <th></th>\n",
       "      <th>coin</th>\n",
       "      <th>symbol</th>\n",
       "      <th>price</th>\n",
       "      <th>1h</th>\n",
       "      <th>24h</th>\n",
       "      <th>7d</th>\n",
       "      <th>24h_volume</th>\n",
       "      <th>mkt_cap</th>\n",
       "      <th>date</th>\n",
       "      <th>price_7d</th>\n",
       "      <th>price_24h</th>\n",
       "      <th>price_1h</th>\n",
       "    </tr>\n",
       "  </thead>\n",
       "  <tbody>\n",
       "    <tr>\n",
       "      <th>0</th>\n",
       "      <td>Bitcoin</td>\n",
       "      <td>BTC</td>\n",
       "      <td>40859.460000</td>\n",
       "      <td>0.022</td>\n",
       "      <td>0.030</td>\n",
       "      <td>0.055</td>\n",
       "      <td>3.539076e+10</td>\n",
       "      <td>7.709915e+11</td>\n",
       "      <td>2022-03-16</td>\n",
       "      <td>40859.515000</td>\n",
       "      <td>40859.490000</td>\n",
       "      <td>40859.482000</td>\n",
       "    </tr>\n",
       "    <tr>\n",
       "      <th>1</th>\n",
       "      <td>Ethereum</td>\n",
       "      <td>ETH</td>\n",
       "      <td>2744.410000</td>\n",
       "      <td>0.024</td>\n",
       "      <td>0.034</td>\n",
       "      <td>0.065</td>\n",
       "      <td>1.974870e+10</td>\n",
       "      <td>3.271044e+11</td>\n",
       "      <td>2022-03-16</td>\n",
       "      <td>2744.475000</td>\n",
       "      <td>2744.444000</td>\n",
       "      <td>2744.434000</td>\n",
       "    </tr>\n",
       "    <tr>\n",
       "      <th>2</th>\n",
       "      <td>Tether</td>\n",
       "      <td>USDT</td>\n",
       "      <td>1.000000</td>\n",
       "      <td>-0.001</td>\n",
       "      <td>-0.001</td>\n",
       "      <td>0.000</td>\n",
       "      <td>5.793497e+10</td>\n",
       "      <td>7.996516e+10</td>\n",
       "      <td>2022-03-16</td>\n",
       "      <td>1.000000</td>\n",
       "      <td>0.999000</td>\n",
       "      <td>0.999000</td>\n",
       "    </tr>\n",
       "    <tr>\n",
       "      <th>3</th>\n",
       "      <td>BNB</td>\n",
       "      <td>BNB</td>\n",
       "      <td>383.430000</td>\n",
       "      <td>0.018</td>\n",
       "      <td>0.028</td>\n",
       "      <td>0.004</td>\n",
       "      <td>1.395854e+09</td>\n",
       "      <td>6.404382e+10</td>\n",
       "      <td>2022-03-16</td>\n",
       "      <td>383.434000</td>\n",
       "      <td>383.458000</td>\n",
       "      <td>383.448000</td>\n",
       "    </tr>\n",
       "    <tr>\n",
       "      <th>4</th>\n",
       "      <td>USD Coin</td>\n",
       "      <td>USDC</td>\n",
       "      <td>0.999874</td>\n",
       "      <td>-0.001</td>\n",
       "      <td>0.000</td>\n",
       "      <td>-0.000</td>\n",
       "      <td>3.872274e+09</td>\n",
       "      <td>5.222214e+10</td>\n",
       "      <td>2022-03-16</td>\n",
       "      <td>0.999874</td>\n",
       "      <td>0.999874</td>\n",
       "      <td>0.998874</td>\n",
       "    </tr>\n",
       "  </tbody>\n",
       "</table>\n",
       "</div>"
      ],
      "text/plain": [
       "       coin symbol         price     1h    24h     7d    24h_volume  \\\n",
       "0   Bitcoin    BTC  40859.460000  0.022  0.030  0.055  3.539076e+10   \n",
       "1  Ethereum    ETH   2744.410000  0.024  0.034  0.065  1.974870e+10   \n",
       "2    Tether   USDT      1.000000 -0.001 -0.001  0.000  5.793497e+10   \n",
       "3       BNB    BNB    383.430000  0.018  0.028  0.004  1.395854e+09   \n",
       "4  USD Coin   USDC      0.999874 -0.001  0.000 -0.000  3.872274e+09   \n",
       "\n",
       "        mkt_cap        date      price_7d     price_24h      price_1h  \n",
       "0  7.709915e+11  2022-03-16  40859.515000  40859.490000  40859.482000  \n",
       "1  3.271044e+11  2022-03-16   2744.475000   2744.444000   2744.434000  \n",
       "2  7.996516e+10  2022-03-16      1.000000      0.999000      0.999000  \n",
       "3  6.404382e+10  2022-03-16    383.434000    383.458000    383.448000  \n",
       "4  5.222214e+10  2022-03-16      0.999874      0.999874      0.998874  "
      ]
     },
     "execution_count": 10,
     "metadata": {},
     "output_type": "execute_result"
    }
   ],
   "source": [
    "df.head()"
   ]
  },
  {
   "cell_type": "markdown",
   "metadata": {},
   "source": [
    "# Training ARIMA model on all data"
   ]
  },
  {
   "cell_type": "code",
   "execution_count": 11,
   "metadata": {},
   "outputs": [
    {
     "name": "stderr",
     "output_type": "stream",
     "text": [
      "/Users/malvikavaidya/Documents/UT_Austin/Senior_Design/FH03-Senior-Design-Project/venv/lib/python3.10/site-packages/statsmodels/tsa/base/tsa_model.py:473: ValueWarning: An unsupported index was provided and will be ignored when e.g. forecasting.\n",
      "  self._init_dates(dates, freq)\n",
      "/Users/malvikavaidya/Documents/UT_Austin/Senior_Design/FH03-Senior-Design-Project/venv/lib/python3.10/site-packages/statsmodels/tsa/base/tsa_model.py:473: ValueWarning: An unsupported index was provided and will be ignored when e.g. forecasting.\n",
      "  self._init_dates(dates, freq)\n",
      "/Users/malvikavaidya/Documents/UT_Austin/Senior_Design/FH03-Senior-Design-Project/venv/lib/python3.10/site-packages/statsmodels/tsa/base/tsa_model.py:473: ValueWarning: An unsupported index was provided and will be ignored when e.g. forecasting.\n",
      "  self._init_dates(dates, freq)\n"
     ]
    }
   ],
   "source": [
    "model = ARIMA(df[\"price\"], order=(1,1,1))\n",
    "model_fit = model.fit()"
   ]
  },
  {
   "cell_type": "code",
   "execution_count": 12,
   "metadata": {},
   "outputs": [
    {
     "name": "stdout",
     "output_type": "stream",
     "text": [
      "                               SARIMAX Results                                \n",
      "==============================================================================\n",
      "Dep. Variable:                  price   No. Observations:                  497\n",
      "Model:                 ARIMA(1, 1, 1)   Log Likelihood               -4870.947\n",
      "Date:                Thu, 18 Jan 2024   AIC                           9747.894\n",
      "Time:                        17:59:51   BIC                           9760.513\n",
      "Sample:                             0   HQIC                          9752.847\n",
      "                                - 497                                         \n",
      "Covariance Type:                  opg                                         \n",
      "==============================================================================\n",
      "                 coef    std err          z      P>|z|      [0.025      0.975]\n",
      "------------------------------------------------------------------------------\n",
      "ar.L1          0.0252      0.045      0.557      0.578      -0.064       0.114\n",
      "ma.L1         -0.9908      0.009   -108.272      0.000      -1.009      -0.973\n",
      "sigma2      2.281e+07   3.43e-10   6.66e+16      0.000    2.28e+07    2.28e+07\n",
      "===================================================================================\n",
      "Ljung-Box (L1) (Q):                   0.06   Jarque-Bera (JB):             99374.14\n",
      "Prob(Q):                              0.81   Prob(JB):                         0.00\n",
      "Heteroskedasticity (H):               0.04   Skew:                             7.65\n",
      "Prob(H) (two-sided):                  0.00   Kurtosis:                        70.63\n",
      "===================================================================================\n",
      "\n",
      "Warnings:\n",
      "[1] Covariance matrix calculated using the outer product of gradients (complex-step).\n",
      "[2] Covariance matrix is singular or near-singular, with condition number 2.13e+31. Standard errors may be unstable.\n"
     ]
    }
   ],
   "source": [
    "print(model_fit.summary())"
   ]
  },
  {
   "cell_type": "code",
   "execution_count": 13,
   "metadata": {},
   "outputs": [
    {
     "name": "stdout",
     "output_type": "stream",
     "text": [
      "497    323.850826\n",
      "498    332.002440\n",
      "499    332.207830\n",
      "500    332.213005\n",
      "501    332.213135\n",
      "Name: predicted_mean, dtype: float64\n"
     ]
    },
    {
     "name": "stderr",
     "output_type": "stream",
     "text": [
      "/Users/malvikavaidya/Documents/UT_Austin/Senior_Design/FH03-Senior-Design-Project/venv/lib/python3.10/site-packages/statsmodels/tsa/base/tsa_model.py:836: ValueWarning: No supported index is available. Prediction results will be given with an integer index beginning at `start`.\n",
      "  return get_prediction_index(\n",
      "/Users/malvikavaidya/Documents/UT_Austin/Senior_Design/FH03-Senior-Design-Project/venv/lib/python3.10/site-packages/statsmodels/tsa/base/tsa_model.py:836: FutureWarning: No supported index is available. In the next version, calling this method in a model without a supported index will result in an exception.\n",
      "  return get_prediction_index(\n"
     ]
    }
   ],
   "source": [
    "forecast = model_fit.forecast(steps=5)\n",
    "print(forecast)"
   ]
  },
  {
   "cell_type": "markdown",
   "metadata": {},
   "source": [
    "# ARIMA model with Train and Test Data"
   ]
  },
  {
   "cell_type": "code",
   "execution_count": 98,
   "metadata": {},
   "outputs": [
    {
     "name": "stdout",
     "output_type": "stream",
     "text": [
      "Index([  0,   1,   2,   3,   4,   5,   6,   7,   8,   9,\n",
      "       ...\n",
      "       490, 491, 492, 493, 494, 495, 496, 497, 498, 499],\n",
      "      dtype='int64', length=497)\n"
     ]
    }
   ],
   "source": [
    "\n",
    "# print indexes\n",
    "print(df[\"price\"].index)"
   ]
  },
  {
   "cell_type": "code",
   "execution_count": 99,
   "metadata": {},
   "outputs": [],
   "source": [
    "size = int(len(df) * 0.8)\n",
    "train, test = df[0:size], df[size:len(df)]\n",
    "train_price = train[\"price\"]\n",
    "test_price = test[\"price\"]"
   ]
  },
  {
   "cell_type": "code",
   "execution_count": 100,
   "metadata": {},
   "outputs": [
    {
     "name": "stdout",
     "output_type": "stream",
     "text": [
      "Index([398, 399, 400, 401, 402, 403, 404, 405, 406, 407, 408, 409, 410, 411,\n",
      "       412, 413, 414, 415, 417, 418, 419, 420, 421, 422, 423, 424, 425, 426,\n",
      "       427, 428, 429, 430, 431, 432, 433, 434, 435, 436, 437, 438, 439, 440,\n",
      "       441, 442, 443, 444, 445, 446, 447, 448, 449, 450, 451, 452, 453, 454,\n",
      "       455, 456, 457, 458, 459, 460, 461, 462, 463, 464, 465, 466, 467, 468,\n",
      "       469, 470, 471, 473, 474, 475, 476, 477, 478, 479, 480, 481, 482, 483,\n",
      "       484, 485, 486, 487, 488, 489, 490, 491, 492, 493, 494, 495, 496, 497,\n",
      "       498, 499],\n",
      "      dtype='int64')\n",
      "100\n"
     ]
    }
   ],
   "source": [
    "print(test_price.index)"
   ]
  },
  {
   "cell_type": "code",
   "execution_count": 93,
   "metadata": {},
   "outputs": [
    {
     "name": "stderr",
     "output_type": "stream",
     "text": [
      "/Users/malvikavaidya/Documents/UT_Austin/Senior_Design/FH03-Senior-Design-Project/venv/lib/python3.10/site-packages/statsmodels/tsa/base/tsa_model.py:473: ValueWarning: An unsupported index was provided and will be ignored when e.g. forecasting.\n",
      "  self._init_dates(dates, freq)\n",
      "/Users/malvikavaidya/Documents/UT_Austin/Senior_Design/FH03-Senior-Design-Project/venv/lib/python3.10/site-packages/statsmodels/tsa/base/tsa_model.py:473: ValueWarning: An unsupported index was provided and will be ignored when e.g. forecasting.\n",
      "  self._init_dates(dates, freq)\n",
      "/Users/malvikavaidya/Documents/UT_Austin/Senior_Design/FH03-Senior-Design-Project/venv/lib/python3.10/site-packages/statsmodels/tsa/base/tsa_model.py:473: ValueWarning: An unsupported index was provided and will be ignored when e.g. forecasting.\n",
      "  self._init_dates(dates, freq)\n",
      "/Users/malvikavaidya/Documents/UT_Austin/Senior_Design/FH03-Senior-Design-Project/venv/lib/python3.10/site-packages/statsmodels/tsa/statespace/sarimax.py:978: UserWarning: Non-invertible starting MA parameters found. Using zeros as starting parameters.\n",
      "  warn('Non-invertible starting MA parameters found.'\n"
     ]
    }
   ],
   "source": [
    "model = ARIMA(train_price, order=(2, 2, 2))  \n",
    "model_fit = model.fit()"
   ]
  },
  {
   "cell_type": "code",
   "execution_count": 108,
   "metadata": {},
   "outputs": [
    {
     "name": "stdout",
     "output_type": "stream",
     "text": [
      "397    491.282719\n",
      "398    513.019077\n",
      "399    505.132176\n",
      "400    503.131150\n",
      "401    501.864598\n",
      "          ...    \n",
      "492    380.205908\n",
      "493    378.868858\n",
      "494    377.531807\n",
      "495    376.194757\n",
      "496    374.857706\n",
      "Name: predicted_mean, Length: 100, dtype: float64\n",
      "100\n",
      "398    491.282719\n",
      "399    513.019077\n",
      "400    505.132176\n",
      "401    503.131150\n",
      "402    501.864598\n",
      "          ...    \n",
      "495    380.205908\n",
      "496    378.868858\n",
      "497    377.531807\n",
      "498    376.194757\n",
      "499    374.857706\n",
      "Name: predicted_mean, Length: 100, dtype: float64\n"
     ]
    },
    {
     "name": "stderr",
     "output_type": "stream",
     "text": [
      "/Users/malvikavaidya/Documents/UT_Austin/Senior_Design/FH03-Senior-Design-Project/venv/lib/python3.10/site-packages/statsmodels/tsa/base/tsa_model.py:836: ValueWarning: No supported index is available. Prediction results will be given with an integer index beginning at `start`.\n",
      "  return get_prediction_index(\n",
      "/Users/malvikavaidya/Documents/UT_Austin/Senior_Design/FH03-Senior-Design-Project/venv/lib/python3.10/site-packages/statsmodels/tsa/base/tsa_model.py:836: FutureWarning: No supported index is available. In the next version, calling this method in a model without a supported index will result in an exception.\n",
      "  return get_prediction_index(\n"
     ]
    }
   ],
   "source": [
    "forecasted_values = model_fit.forecast(steps=len(test_price))\n",
    "print(forecasted_values)\n",
    "if np.isnan(forecasted_values).any():\n",
    "    print(\"Forecast contains NaN values\")\n",
    "# get length of forecasted values\n",
    "print(len(forecasted_values))\n",
    "forecasted_values.index = test_price.index\n",
    "\n",
    "print(forecasted_values)\n",
    "if np.isnan(forecasted_values).any():\n",
    "    print(\"Predictions contains NaN values\")"
   ]
  },
  {
   "cell_type": "code",
   "execution_count": 109,
   "metadata": {},
   "outputs": [
    {
     "name": "stdout",
     "output_type": "stream",
     "text": [
      "Test RMSE: 835.240\n"
     ]
    }
   ],
   "source": [
    "# Calculate and print the mean squared error\n",
    "\n",
    "mse = mean_squared_error(test_price, forecasted_values)\n",
    "rmse = sqrt(mse)\n",
    "print('Test RMSE: %.3f' % rmse)"
   ]
  },
  {
   "cell_type": "code",
   "execution_count": 110,
   "metadata": {},
   "outputs": [
    {
     "data": {
      "image/png": "[encoded data removed]",
      "text/plain": [
       "<Figure size 640x480 with 1 Axes>"
      ]
     },
     "metadata": {},
     "output_type": "display_data"
    }
   ],
   "source": [
    "# Plot the predictions against the true values\n",
    "plt.plot(test_price, label='Actual')\n",
    "plt.plot(forecasted_values, label='Predicted')\n",
    "plt.legend()\n",
    "plt.show()"
   ]
  },
  {
   "cell_type": "markdown",
   "metadata": {},
   "source": [
    "# Simulating Incremental Learning with ARIMA"
   ]
  },
  {
   "cell_type": "code",
   "execution_count": null,
   "metadata": {},
   "outputs": [],
   "source": [
    "model_updated = model_fit.append(new_data, refit=False)\n",
    "forecast = model_updated.forecast(steps=n)"
   ]
  },
  {
   "cell_type": "markdown",
   "metadata": {},
   "source": [
    "# Training LSTM Model Univariate Time Series Forecasting"
   ]
  },
  {
   "cell_type": "code",
   "execution_count": 114,
   "metadata": {},
   "outputs": [],
   "source": [
    "import tensorflow as tf\n",
    "from tensorflow.keras.models import Sequential\n",
    "from sklearn.preprocessing import MinMaxScaler\n",
    "from tensorflow.keras.layers import Dense, LSTM, Dropout, Bidirectional"
   ]
  },
  {
   "cell_type": "code",
   "execution_count": 112,
   "metadata": {},
   "outputs": [],
   "source": [
    "data = df['price'].values.reshape(-1, 1)"
   ]
  },
  {
   "cell_type": "code",
   "execution_count": 115,
   "metadata": {},
   "outputs": [],
   "source": [
    "scaler = MinMaxScaler(feature_range=(0, 1))\n",
    "scaled_data = scaler.fit_transform(data)"
   ]
  },
  {
   "cell_type": "code",
   "execution_count": 116,
   "metadata": {},
   "outputs": [],
   "source": [
    "# Function to create a dataset for LSTM\n",
    "def create_dataset(dataset, time_step=1):\n",
    "    X, y = [], []\n",
    "    for i in range(len(dataset) - time_step - 1):\n",
    "        a = dataset[i:(i + time_step), 0]\n",
    "        X.append(a)\n",
    "        y.append(dataset[i + time_step, 0])\n",
    "    return np.array(X), np.array(y)"
   ]
  },
  {
   "cell_type": "code",
   "execution_count": 117,
   "metadata": {},
   "outputs": [],
   "source": [
    "time_step = 10\n",
    "X, y = create_dataset(scaled_data, time_step)"
   ]
  },
  {
   "cell_type": "code",
   "execution_count": 118,
   "metadata": {},
   "outputs": [],
   "source": [
    "# Reshape input to be [samples, time steps, features] which is required for LSTM\n",
    "X = X.reshape(X.shape[0], X.shape[1], 1)"
   ]
  },
  {
   "cell_type": "code",
   "execution_count": 119,
   "metadata": {},
   "outputs": [],
   "source": [
    "train_size = int(len(X) * 0.8)\n",
    "test_size = len(X) - train_size\n",
    "train_X, test_X = X[0:train_size], X[train_size:len(X)]\n",
    "train_y, test_y = y[0:train_size], y[train_size:len(y)]"
   ]
  },
  {
   "cell_type": "code",
   "execution_count": 127,
   "metadata": {},
   "outputs": [],
   "source": [
    "\n",
    "\n",
    "model = Sequential([\n",
    "    LSTM(50, stateful=True, batch_input_shape=(batch_size, time_step, train_X.shape[2])),\n",
    "    Dense(1)\n",
    "])"
   ]
  },
  {
   "cell_type": "code",
   "execution_count": 121,
   "metadata": {},
   "outputs": [],
   "source": [
    "model.compile(loss='mean_squared_error', optimizer='adam')"
   ]
  },
  {
   "cell_type": "code",
   "execution_count": 122,
   "metadata": {},
   "outputs": [],
   "source": [
    "batch_size = 1  \n",
    "for i in range(len(train_X)):\n",
    "    # Use one sample at a time for training to simulate incremental learning\n",
    "    model.train_on_batch(train_X[i:i+1], train_y[i:i+1])"
   ]
  },
  {
   "cell_type": "code",
   "execution_count": 123,
   "metadata": {},
   "outputs": [
    {
     "name": "stdout",
     "output_type": "stream",
     "text": [
      "4/4 [==============================] - 0s 3ms/step\n"
     ]
    }
   ],
   "source": [
    "test_predict = model.predict(test_X)"
   ]
  },
  {
   "cell_type": "code",
   "execution_count": 124,
   "metadata": {},
   "outputs": [],
   "source": [
    "# Invert the scaling for prediction\n",
    "test_predict = scaler.inverse_transform(test_predict)\n",
    "test_y = scaler.inverse_transform([test_y])"
   ]
  },
  {
   "cell_type": "code",
   "execution_count": 125,
   "metadata": {},
   "outputs": [
    {
     "name": "stdout",
     "output_type": "stream",
     "text": [
      "RMSE: 891.3899078659211\n"
     ]
    }
   ],
   "source": [
    "test_score = np.sqrt(np.mean((test_predict - test_y) ** 2))\n",
    "print(f\"RMSE: {test_score}\")"
   ]
  },
  {
   "cell_type": "markdown",
   "metadata": {},
   "source": [
    "# Incremental Learning with LSTM"
   ]
  },
  {
   "cell_type": "markdown",
   "metadata": {},
   "source": [
    "# Multivariate Time Series Forecasting with LSTM"
   ]
  },
  {
   "cell_type": "code",
   "execution_count": 137,
   "metadata": {},
   "outputs": [
    {
     "data": {
      "text/html": [
       "<div>\n",
       "<style scoped>\n",
       "    .dataframe tbody tr th:only-of-type {\n",
       "        vertical-align: middle;\n",
       "    }\n",
       "\n",
       "    .dataframe tbody tr th {\n",
       "        vertical-align: top;\n",
       "    }\n",
       "\n",
       "    .dataframe thead th {\n",
       "        text-align: right;\n",
       "    }\n",
       "</style>\n",
       "<table border=\"1\" class=\"dataframe\">\n",
       "  <thead>\n",
       "    <tr style=\"text-align: right;\">\n",
       "      <th></th>\n",
       "      <th>price</th>\n",
       "      <th>1h</th>\n",
       "      <th>24h</th>\n",
       "      <th>7d</th>\n",
       "      <th>24h_volume</th>\n",
       "      <th>mkt_cap</th>\n",
       "      <th>price_7d</th>\n",
       "      <th>price_24h</th>\n",
       "      <th>price_1h</th>\n",
       "    </tr>\n",
       "  </thead>\n",
       "  <tbody>\n",
       "    <tr>\n",
       "      <th>0</th>\n",
       "      <td>40859.460000</td>\n",
       "      <td>0.022</td>\n",
       "      <td>0.030</td>\n",
       "      <td>0.055</td>\n",
       "      <td>3.539076e+10</td>\n",
       "      <td>7.709915e+11</td>\n",
       "      <td>40859.515000</td>\n",
       "      <td>40859.490000</td>\n",
       "      <td>40859.482000</td>\n",
       "    </tr>\n",
       "    <tr>\n",
       "      <th>1</th>\n",
       "      <td>2744.410000</td>\n",
       "      <td>0.024</td>\n",
       "      <td>0.034</td>\n",
       "      <td>0.065</td>\n",
       "      <td>1.974870e+10</td>\n",
       "      <td>3.271044e+11</td>\n",
       "      <td>2744.475000</td>\n",
       "      <td>2744.444000</td>\n",
       "      <td>2744.434000</td>\n",
       "    </tr>\n",
       "    <tr>\n",
       "      <th>2</th>\n",
       "      <td>1.000000</td>\n",
       "      <td>-0.001</td>\n",
       "      <td>-0.001</td>\n",
       "      <td>0.000</td>\n",
       "      <td>5.793497e+10</td>\n",
       "      <td>7.996516e+10</td>\n",
       "      <td>1.000000</td>\n",
       "      <td>0.999000</td>\n",
       "      <td>0.999000</td>\n",
       "    </tr>\n",
       "    <tr>\n",
       "      <th>3</th>\n",
       "      <td>383.430000</td>\n",
       "      <td>0.018</td>\n",
       "      <td>0.028</td>\n",
       "      <td>0.004</td>\n",
       "      <td>1.395854e+09</td>\n",
       "      <td>6.404382e+10</td>\n",
       "      <td>383.434000</td>\n",
       "      <td>383.458000</td>\n",
       "      <td>383.448000</td>\n",
       "    </tr>\n",
       "    <tr>\n",
       "      <th>4</th>\n",
       "      <td>0.999874</td>\n",
       "      <td>-0.001</td>\n",
       "      <td>0.000</td>\n",
       "      <td>-0.000</td>\n",
       "      <td>3.872274e+09</td>\n",
       "      <td>5.222214e+10</td>\n",
       "      <td>0.999874</td>\n",
       "      <td>0.999874</td>\n",
       "      <td>0.998874</td>\n",
       "    </tr>\n",
       "  </tbody>\n",
       "</table>\n",
       "</div>"
      ],
      "text/plain": [
       "          price     1h    24h     7d    24h_volume       mkt_cap  \\\n",
       "0  40859.460000  0.022  0.030  0.055  3.539076e+10  7.709915e+11   \n",
       "1   2744.410000  0.024  0.034  0.065  1.974870e+10  3.271044e+11   \n",
       "2      1.000000 -0.001 -0.001  0.000  5.793497e+10  7.996516e+10   \n",
       "3    383.430000  0.018  0.028  0.004  1.395854e+09  6.404382e+10   \n",
       "4      0.999874 -0.001  0.000 -0.000  3.872274e+09  5.222214e+10   \n",
       "\n",
       "       price_7d     price_24h      price_1h  \n",
       "0  40859.515000  40859.490000  40859.482000  \n",
       "1   2744.475000   2744.444000   2744.434000  \n",
       "2      1.000000      0.999000      0.999000  \n",
       "3    383.434000    383.458000    383.448000  \n",
       "4      0.999874      0.999874      0.998874  "
      ]
     },
     "execution_count": 137,
     "metadata": {},
     "output_type": "execute_result"
    }
   ],
   "source": [
    "\n",
    "df_numeric = df.drop(columns=['coin', 'symbol', 'date'])\n",
    "df_numeric.head()"
   ]
  },
  {
   "cell_type": "code",
   "execution_count": 139,
   "metadata": {},
   "outputs": [],
   "source": [
    "def create_multivariate_sequences(data, time_step):\n",
    "    X, y = [], []\n",
    "    for i in range(len(data) - time_step - 1):\n",
    "        X.append(data[i:(i + time_step), :])\n",
    "\n",
    "        y.append(data[i + time_step, -1])\n",
    "    return np.array(X), np.array(y)"
   ]
  },
  {
   "cell_type": "code",
   "execution_count": 140,
   "metadata": {},
   "outputs": [],
   "source": [
    "values = df_numeric.values  # convert to numpy array\n",
    "\n",
    "scaler = MinMaxScaler(feature_range=(0, 1))\n",
    "scaled_values = scaler.fit_transform(values)\n",
    "X, y = create_multivariate_sequences(scaled_values, time_step)\n",
    "\n",
    "X = X.reshape((X.shape[0], time_step, X.shape[2]))"
   ]
  },
  {
   "cell_type": "code",
   "execution_count": 145,
   "metadata": {},
   "outputs": [],
   "source": [
    "train_size = int(len(X) * 0.8)\n",
    "test_size = len(X) - train_size\n",
    "train_X, test_X = X[0:train_size], X[train_size:len(X)]\n",
    "train_y, test_y = y[0:train_size], y[train_size:len(y)]"
   ]
  },
  {
   "cell_type": "code",
   "execution_count": 146,
   "metadata": {},
   "outputs": [],
   "source": [
    "\n",
    "model = Sequential()\n",
    "model.add(LSTM(units=50, return_sequences=True, input_shape=(time_step, X.shape[2])))\n",
    "model.add(LSTM(units=50))\n",
    "model.add(Dense(1))\n",
    "\n",
    "model.compile(loss='mean_squared_error', optimizer='adam')"
   ]
  },
  {
   "cell_type": "code",
   "execution_count": 147,
   "metadata": {},
   "outputs": [
    {
     "name": "stdout",
     "output_type": "stream",
     "text": [
      "Epoch 1/100\n",
      "11/11 [==============================] - 4s 73ms/step - loss: 0.0161 - val_loss: 0.0034\n",
      "Epoch 2/100\n",
      "11/11 [==============================] - 0s 9ms/step - loss: 0.0150 - val_loss: 0.0030\n",
      "Epoch 3/100\n",
      "11/11 [==============================] - 0s 9ms/step - loss: 0.0146 - val_loss: 0.0027\n",
      "Epoch 4/100\n",
      "11/11 [==============================] - 0s 9ms/step - loss: 0.0146 - val_loss: 0.0028\n",
      "Epoch 5/100\n",
      "11/11 [==============================] - 0s 9ms/step - loss: 0.0149 - val_loss: 0.0027\n",
      "Epoch 6/100\n",
      "11/11 [==============================] - 0s 9ms/step - loss: 0.0146 - val_loss: 0.0027\n",
      "Epoch 7/100\n",
      "11/11 [==============================] - 0s 9ms/step - loss: 0.0145 - val_loss: 0.0027\n",
      "Epoch 8/100\n",
      "11/11 [==============================] - 0s 9ms/step - loss: 0.0147 - val_loss: 0.0028\n",
      "Epoch 9/100\n",
      "11/11 [==============================] - 0s 9ms/step - loss: 0.0145 - val_loss: 0.0027\n",
      "Epoch 10/100\n",
      "11/11 [==============================] - 0s 9ms/step - loss: 0.0144 - val_loss: 0.0028\n",
      "Epoch 11/100\n",
      "11/11 [==============================] - 0s 11ms/step - loss: 0.0145 - val_loss: 0.0027\n",
      "Epoch 12/100\n",
      "11/11 [==============================] - 0s 10ms/step - loss: 0.0144 - val_loss: 0.0027\n",
      "Epoch 13/100\n",
      "11/11 [==============================] - 0s 13ms/step - loss: 0.0145 - val_loss: 0.0027\n",
      "Epoch 14/100\n",
      "11/11 [==============================] - 0s 10ms/step - loss: 0.0144 - val_loss: 0.0028\n",
      "Epoch 15/100\n",
      "11/11 [==============================] - 0s 9ms/step - loss: 0.0145 - val_loss: 0.0027\n",
      "Epoch 16/100\n",
      "11/11 [==============================] - 0s 9ms/step - loss: 0.0146 - val_loss: 0.0027\n",
      "Epoch 17/100\n",
      "11/11 [==============================] - 0s 9ms/step - loss: 0.0146 - val_loss: 0.0027\n",
      "Epoch 18/100\n",
      "11/11 [==============================] - 0s 8ms/step - loss: 0.0144 - val_loss: 0.0027\n",
      "Epoch 19/100\n",
      "11/11 [==============================] - 0s 8ms/step - loss: 0.0146 - val_loss: 0.0027\n",
      "Epoch 20/100\n",
      "11/11 [==============================] - 0s 8ms/step - loss: 0.0146 - val_loss: 0.0027\n",
      "Epoch 21/100\n",
      "11/11 [==============================] - 0s 8ms/step - loss: 0.0147 - val_loss: 0.0027\n",
      "Epoch 22/100\n",
      "11/11 [==============================] - 0s 8ms/step - loss: 0.0148 - val_loss: 0.0027\n",
      "Epoch 23/100\n",
      "11/11 [==============================] - 0s 9ms/step - loss: 0.0145 - val_loss: 0.0028\n",
      "Epoch 24/100\n",
      "11/11 [==============================] - 0s 9ms/step - loss: 0.0146 - val_loss: 0.0027\n",
      "Epoch 25/100\n",
      "11/11 [==============================] - 0s 9ms/step - loss: 0.0145 - val_loss: 0.0028\n",
      "Epoch 26/100\n",
      "11/11 [==============================] - 0s 9ms/step - loss: 0.0145 - val_loss: 0.0027\n",
      "Epoch 27/100\n",
      "11/11 [==============================] - 0s 9ms/step - loss: 0.0145 - val_loss: 0.0028\n",
      "Epoch 28/100\n",
      "11/11 [==============================] - 0s 9ms/step - loss: 0.0144 - val_loss: 0.0027\n",
      "Epoch 29/100\n",
      "11/11 [==============================] - 0s 9ms/step - loss: 0.0144 - val_loss: 0.0027\n",
      "Epoch 30/100\n",
      "11/11 [==============================] - 0s 9ms/step - loss: 0.0144 - val_loss: 0.0027\n",
      "Epoch 31/100\n",
      "11/11 [==============================] - 0s 8ms/step - loss: 0.0144 - val_loss: 0.0027\n",
      "Epoch 32/100\n",
      "11/11 [==============================] - 0s 9ms/step - loss: 0.0145 - val_loss: 0.0028\n",
      "Epoch 33/100\n",
      "11/11 [==============================] - 0s 8ms/step - loss: 0.0144 - val_loss: 0.0028\n",
      "Epoch 34/100\n",
      "11/11 [==============================] - 0s 9ms/step - loss: 0.0145 - val_loss: 0.0027\n",
      "Epoch 35/100\n",
      "11/11 [==============================] - 0s 8ms/step - loss: 0.0144 - val_loss: 0.0028\n",
      "Epoch 36/100\n",
      "11/11 [==============================] - 0s 8ms/step - loss: 0.0144 - val_loss: 0.0027\n",
      "Epoch 37/100\n",
      "11/11 [==============================] - 0s 9ms/step - loss: 0.0144 - val_loss: 0.0027\n",
      "Epoch 38/100\n",
      "11/11 [==============================] - 0s 9ms/step - loss: 0.0144 - val_loss: 0.0027\n",
      "Epoch 39/100\n",
      "11/11 [==============================] - 0s 8ms/step - loss: 0.0144 - val_loss: 0.0027\n",
      "Epoch 40/100\n",
      "11/11 [==============================] - 0s 8ms/step - loss: 0.0144 - val_loss: 0.0028\n",
      "Epoch 41/100\n",
      "11/11 [==============================] - 0s 8ms/step - loss: 0.0144 - val_loss: 0.0027\n",
      "Epoch 42/100\n",
      "11/11 [==============================] - 0s 8ms/step - loss: 0.0144 - val_loss: 0.0027\n",
      "Epoch 43/100\n",
      "11/11 [==============================] - 0s 8ms/step - loss: 0.0144 - val_loss: 0.0027\n",
      "Epoch 44/100\n",
      "11/11 [==============================] - 0s 8ms/step - loss: 0.0144 - val_loss: 0.0028\n",
      "Epoch 45/100\n",
      "11/11 [==============================] - 0s 8ms/step - loss: 0.0144 - val_loss: 0.0028\n",
      "Epoch 46/100\n",
      "11/11 [==============================] - 0s 8ms/step - loss: 0.0144 - val_loss: 0.0027\n",
      "Epoch 47/100\n",
      "11/11 [==============================] - 0s 8ms/step - loss: 0.0144 - val_loss: 0.0027\n",
      "Epoch 48/100\n",
      "11/11 [==============================] - 0s 8ms/step - loss: 0.0144 - val_loss: 0.0028\n",
      "Epoch 49/100\n",
      "11/11 [==============================] - 0s 8ms/step - loss: 0.0144 - val_loss: 0.0028\n",
      "Epoch 50/100\n",
      "11/11 [==============================] - 0s 8ms/step - loss: 0.0144 - val_loss: 0.0027\n",
      "Epoch 51/100\n",
      "11/11 [==============================] - 0s 8ms/step - loss: 0.0147 - val_loss: 0.0027\n",
      "Epoch 52/100\n",
      "11/11 [==============================] - 0s 8ms/step - loss: 0.0144 - val_loss: 0.0028\n",
      "Epoch 53/100\n",
      "11/11 [==============================] - 0s 8ms/step - loss: 0.0144 - val_loss: 0.0029\n",
      "Epoch 54/100\n",
      "11/11 [==============================] - 0s 9ms/step - loss: 0.0145 - val_loss: 0.0027\n",
      "Epoch 55/100\n",
      "11/11 [==============================] - 0s 9ms/step - loss: 0.0143 - val_loss: 0.0028\n",
      "Epoch 56/100\n",
      "11/11 [==============================] - 0s 8ms/step - loss: 0.0145 - val_loss: 0.0027\n",
      "Epoch 57/100\n",
      "11/11 [==============================] - 0s 9ms/step - loss: 0.0143 - val_loss: 0.0028\n",
      "Epoch 58/100\n",
      "11/11 [==============================] - 0s 8ms/step - loss: 0.0144 - val_loss: 0.0028\n",
      "Epoch 59/100\n",
      "11/11 [==============================] - 0s 9ms/step - loss: 0.0144 - val_loss: 0.0028\n",
      "Epoch 60/100\n",
      "11/11 [==============================] - 0s 8ms/step - loss: 0.0147 - val_loss: 0.0027\n",
      "Epoch 61/100\n",
      "11/11 [==============================] - 0s 8ms/step - loss: 0.0143 - val_loss: 0.0029\n",
      "Epoch 62/100\n",
      "11/11 [==============================] - 0s 9ms/step - loss: 0.0143 - val_loss: 0.0027\n",
      "Epoch 63/100\n",
      "11/11 [==============================] - 0s 9ms/step - loss: 0.0143 - val_loss: 0.0027\n",
      "Epoch 64/100\n",
      "11/11 [==============================] - 0s 10ms/step - loss: 0.0143 - val_loss: 0.0027\n",
      "Epoch 65/100\n",
      "11/11 [==============================] - 0s 9ms/step - loss: 0.0143 - val_loss: 0.0029\n",
      "Epoch 66/100\n",
      "11/11 [==============================] - 0s 9ms/step - loss: 0.0143 - val_loss: 0.0028\n",
      "Epoch 67/100\n",
      "11/11 [==============================] - 0s 8ms/step - loss: 0.0144 - val_loss: 0.0029\n",
      "Epoch 68/100\n",
      "11/11 [==============================] - 0s 8ms/step - loss: 0.0143 - val_loss: 0.0028\n",
      "Epoch 69/100\n",
      "11/11 [==============================] - 0s 8ms/step - loss: 0.0142 - val_loss: 0.0028\n",
      "Epoch 70/100\n",
      "11/11 [==============================] - 0s 8ms/step - loss: 0.0142 - val_loss: 0.0028\n",
      "Epoch 71/100\n",
      "11/11 [==============================] - 0s 8ms/step - loss: 0.0142 - val_loss: 0.0028\n",
      "Epoch 72/100\n",
      "11/11 [==============================] - 0s 8ms/step - loss: 0.0142 - val_loss: 0.0036\n",
      "Epoch 73/100\n",
      "11/11 [==============================] - 0s 8ms/step - loss: 0.0144 - val_loss: 0.0028\n",
      "Epoch 74/100\n",
      "11/11 [==============================] - 0s 8ms/step - loss: 0.0142 - val_loss: 0.0031\n",
      "Epoch 75/100\n",
      "11/11 [==============================] - 0s 9ms/step - loss: 0.0144 - val_loss: 0.0029\n",
      "Epoch 76/100\n",
      "11/11 [==============================] - 0s 10ms/step - loss: 0.0142 - val_loss: 0.0031\n",
      "Epoch 77/100\n",
      "11/11 [==============================] - 0s 9ms/step - loss: 0.0142 - val_loss: 0.0029\n",
      "Epoch 78/100\n",
      "11/11 [==============================] - 0s 9ms/step - loss: 0.0141 - val_loss: 0.0029\n",
      "Epoch 79/100\n",
      "11/11 [==============================] - 0s 8ms/step - loss: 0.0141 - val_loss: 0.0032\n",
      "Epoch 80/100\n",
      "11/11 [==============================] - 0s 10ms/step - loss: 0.0141 - val_loss: 0.0032\n",
      "Epoch 81/100\n",
      "11/11 [==============================] - 0s 15ms/step - loss: 0.0140 - val_loss: 0.0034\n",
      "Epoch 82/100\n",
      "11/11 [==============================] - 0s 10ms/step - loss: 0.0141 - val_loss: 0.0041\n",
      "Epoch 83/100\n",
      "11/11 [==============================] - 0s 9ms/step - loss: 0.0142 - val_loss: 0.0032\n",
      "Epoch 84/100\n",
      "11/11 [==============================] - 0s 9ms/step - loss: 0.0140 - val_loss: 0.0042\n",
      "Epoch 85/100\n",
      "11/11 [==============================] - 0s 9ms/step - loss: 0.0142 - val_loss: 0.0032\n",
      "Epoch 86/100\n",
      "11/11 [==============================] - 0s 9ms/step - loss: 0.0143 - val_loss: 0.0034\n",
      "Epoch 87/100\n",
      "11/11 [==============================] - 0s 9ms/step - loss: 0.0145 - val_loss: 0.0034\n",
      "Epoch 88/100\n",
      "11/11 [==============================] - 0s 9ms/step - loss: 0.0141 - val_loss: 0.0032\n",
      "Epoch 89/100\n",
      "11/11 [==============================] - 0s 9ms/step - loss: 0.0141 - val_loss: 0.0038\n",
      "Epoch 90/100\n",
      "11/11 [==============================] - 0s 10ms/step - loss: 0.0139 - val_loss: 0.0037\n",
      "Epoch 91/100\n",
      "11/11 [==============================] - 0s 9ms/step - loss: 0.0139 - val_loss: 0.0038\n",
      "Epoch 92/100\n",
      "11/11 [==============================] - 0s 9ms/step - loss: 0.0140 - val_loss: 0.0050\n",
      "Epoch 93/100\n",
      "11/11 [==============================] - 0s 11ms/step - loss: 0.0140 - val_loss: 0.0048\n",
      "Epoch 94/100\n",
      "11/11 [==============================] - 0s 13ms/step - loss: 0.0141 - val_loss: 0.0038\n",
      "Epoch 95/100\n",
      "11/11 [==============================] - 0s 10ms/step - loss: 0.0138 - val_loss: 0.0051\n",
      "Epoch 96/100\n",
      "11/11 [==============================] - 0s 9ms/step - loss: 0.0140 - val_loss: 0.0051\n",
      "Epoch 97/100\n",
      "11/11 [==============================] - 0s 9ms/step - loss: 0.0138 - val_loss: 0.0045\n",
      "Epoch 98/100\n",
      "11/11 [==============================] - 0s 9ms/step - loss: 0.0137 - val_loss: 0.0054\n",
      "Epoch 99/100\n",
      "11/11 [==============================] - 0s 9ms/step - loss: 0.0141 - val_loss: 0.0053\n",
      "Epoch 100/100\n",
      "11/11 [==============================] - 0s 9ms/step - loss: 0.0140 - val_loss: 0.0045\n"
     ]
    },
    {
     "data": {
      "text/plain": [
       "<keras.src.callbacks.History at 0x1671c7940>"
      ]
     },
     "execution_count": 147,
     "metadata": {},
     "output_type": "execute_result"
    }
   ],
   "source": [
    "model.fit(train_X, train_y, epochs=100, batch_size=32, validation_split=0.1, verbose=1)"
   ]
  },
  {
   "cell_type": "code",
   "execution_count": 152,
   "metadata": {},
   "outputs": [
    {
     "name": "stdout",
     "output_type": "stream",
     "text": [
      "4/4 [==============================] - 0s 3ms/step\n",
      "RMSE: 1122.302751521683\n"
     ]
    }
   ],
   "source": [
    "test_predict = model.predict(test_X)\n",
    "\n",
    "dummy_test_array = np.zeros((len(test_predict), test_X.shape[2]))\n",
    "\n",
    "\n",
    "dummy_test_array[:, -1] = test_predict.flatten()\n",
    "\n",
    "test_predict = scaler.inverse_transform(dummy_test_array)[:, -1]\n",
    "dummy_true_array = np.zeros_like(dummy_test_array)\n",
    "dummy_true_array[:, -1] = test_y\n",
    "test_y = scaler.inverse_transform(dummy_true_array)[:, -1]\n",
    "\n",
    "\n",
    "test_score = np.sqrt(np.mean((test_predict - test_y) ** 2))\n",
    "print(f\"RMSE: {test_score}\")"
   ]
  }
 ],
 "metadata": {
  "kernelspec": {
   "display_name": "venv",
   "language": "python",
   "name": "python3"
  },
  "language_info": {
   "codemirror_mode": {
    "name": "ipython",
    "version": 3
   },
   "file_extension": ".py",
   "mimetype": "text/x-python",
   "name": "python",
   "nbconvert_exporter": "python",
   "pygments_lexer": "ipython3",
   "version": "3.10.2"
  }
 },
 "nbformat": 4,
 "nbformat_minor": 2
}
