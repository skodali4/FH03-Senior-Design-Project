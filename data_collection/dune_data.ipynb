{
 "cells": [
  {
   "cell_type": "code",
   "execution_count": 4,
   "metadata": {},
   "outputs": [],
   "source": [
    "import requests\n",
    "from dune_client.types import QueryParameter\n",
    "from dune_client.client import DuneClient\n",
    "from dune_client.query import QueryBase\n",
    "from dotenv import load_dotenv"
   ]
  },
  {
   "cell_type": "code",
   "execution_count": 5,
   "metadata": {},
   "outputs": [
    {
     "data": {
      "text/plain": [
       "True"
      ]
     },
     "execution_count": 5,
     "metadata": {},
     "output_type": "execute_result"
    }
   ],
   "source": [
    "load_dotenv() "
   ]
  },
  {
   "cell_type": "code",
   "execution_count": null,
   "metadata": {},
   "outputs": [],
   "source": [
    "from dune_client.types import QueryParameter\n",
    "from dune_client.client import DuneClient\n",
    "\n",
    "expensive_transactions = \"\"\"\n",
    "    SELECT block_time, hash,\n",
    "    FROM {{Blockchain}}.transactions\n",
    "    ORDER BY CAST(gas_used as uint256) * CAST(gas_price AS uint256) DESC\n",
    "    LIMIT {{N}}\"\"\"\n",
    "\n",
    "client = DuneClient.from_env()\n",
    "results = client.run_sql(\n",
    "    query_sql=expensive_transactions, \n",
    "    params=[\n",
    "        QueryParameter.text_type(\"Blockchain\", \"ethereum\"), \n",
    "        QueryParameter.number_type(\"N\", 10)\n",
    "    ])\n"
   ]
  },
  {
   "cell_type": "code",
   "execution_count": 6,
   "metadata": {},
   "outputs": [
    {
     "name": "stderr",
     "output_type": "stream",
     "text": [
      "2024-02-20 19:57:19,298 ERROR dune_client.models Can't build CreateQueryResponse from {'error': 'CRUD queries is an advanced feature included only in our premium subscription plans. Please upgrade your plan to use it.'} due to KeyError: 'query_id'\n"
     ]
    },
    {
     "ename": "DuneError",
     "evalue": "Can't build CreateQueryResponse from {'error': 'CRUD queries is an advanced feature included only in our premium subscription plans. Please upgrade your plan to use it.'}",
     "output_type": "error",
     "traceback": [
      "\u001b[0;31m---------------------------------------------------------------------------\u001b[0m",
      "\u001b[0;31mKeyError\u001b[0m                                  Traceback (most recent call last)",
      "File \u001b[0;32m~/Documents/UT_Austin/Senior_Design/FH03-Senior-Design-Project/venv/lib/python3.10/site-packages/dune_client/api/query.py:43\u001b[0m, in \u001b[0;36mQueryAPI.create_query\u001b[0;34m(self, name, query_sql, params, is_private)\u001b[0m\n\u001b[1;32m     42\u001b[0m \u001b[38;5;28;01mtry\u001b[39;00m:\n\u001b[0;32m---> 43\u001b[0m     query_id \u001b[38;5;241m=\u001b[39m \u001b[38;5;28mint\u001b[39m(\u001b[43mresponse_json\u001b[49m\u001b[43m[\u001b[49m\u001b[38;5;124;43m\"\u001b[39;49m\u001b[38;5;124;43mquery_id\u001b[39;49m\u001b[38;5;124;43m\"\u001b[39;49m\u001b[43m]\u001b[49m)\n\u001b[1;32m     44\u001b[0m     \u001b[38;5;66;03m# Note that this requires an extra request.\u001b[39;00m\n",
      "\u001b[0;31mKeyError\u001b[0m: 'query_id'",
      "\nThe above exception was the direct cause of the following exception:\n",
      "\u001b[0;31mDuneError\u001b[0m                                 Traceback (most recent call last)",
      "Cell \u001b[0;32mIn[6], line 15\u001b[0m\n\u001b[1;32m      4\u001b[0m usdc_prices_query \u001b[38;5;241m=\u001b[39m \u001b[38;5;124m\"\"\"\u001b[39m\n\u001b[1;32m      5\u001b[0m \u001b[38;5;124mSELECT\u001b[39m\n\u001b[1;32m      6\u001b[0m \u001b[38;5;124m  *\u001b[39m\n\u001b[0;32m   (...)\u001b[0m\n\u001b[1;32m     11\u001b[0m \u001b[38;5;124m  minute DESC\u001b[39m\n\u001b[1;32m     12\u001b[0m \u001b[38;5;124mLIMIT 10000\u001b[39m\u001b[38;5;124m\"\"\"\u001b[39m\n\u001b[1;32m     14\u001b[0m client \u001b[38;5;241m=\u001b[39m DuneClient\u001b[38;5;241m.\u001b[39mfrom_env()\n\u001b[0;32m---> 15\u001b[0m results \u001b[38;5;241m=\u001b[39m \u001b[43mclient\u001b[49m\u001b[38;5;241;43m.\u001b[39;49m\u001b[43mrun_sql\u001b[49m\u001b[43m(\u001b[49m\u001b[43mquery_sql\u001b[49m\u001b[38;5;241;43m=\u001b[39;49m\u001b[43musdc_prices_query\u001b[49m\u001b[43m)\u001b[49m\n\u001b[1;32m     17\u001b[0m \u001b[38;5;66;03m# Process or print the results as needed\u001b[39;00m\n\u001b[1;32m     18\u001b[0m \u001b[38;5;28mprint\u001b[39m(results)\n",
      "File \u001b[0;32m~/Documents/UT_Austin/Senior_Design/FH03-Senior-Design-Project/venv/lib/python3.10/site-packages/dune_client/api/extensions.py:255\u001b[0m, in \u001b[0;36mExtendedAPI.run_sql\u001b[0;34m(self, query_sql, params, is_private, archive_after, performance, ping_frequency, name)\u001b[0m\n\u001b[1;32m    239\u001b[0m \u001b[38;5;28;01mdef\u001b[39;00m \u001b[38;5;21mrun_sql\u001b[39m(\n\u001b[1;32m    240\u001b[0m     \u001b[38;5;28mself\u001b[39m,\n\u001b[1;32m    241\u001b[0m     query_sql: \u001b[38;5;28mstr\u001b[39m,\n\u001b[0;32m   (...)\u001b[0m\n\u001b[1;32m    247\u001b[0m     name: \u001b[38;5;28mstr\u001b[39m \u001b[38;5;241m=\u001b[39m \u001b[38;5;124m\"\u001b[39m\u001b[38;5;124mAPI Query\u001b[39m\u001b[38;5;124m\"\u001b[39m,\n\u001b[1;32m    248\u001b[0m ) \u001b[38;5;241m-\u001b[39m\u001b[38;5;241m>\u001b[39m ResultsResponse:\n\u001b[1;32m    249\u001b[0m \u001b[38;5;250m    \u001b[39m\u001b[38;5;124;03m\"\"\"\u001b[39;00m\n\u001b[1;32m    250\u001b[0m \u001b[38;5;124;03m    Allows user to provide execute raw_sql via the CRUD interface\u001b[39;00m\n\u001b[1;32m    251\u001b[0m \u001b[38;5;124;03m    - create, run, get results with optional archive/delete.\u001b[39;00m\n\u001b[1;32m    252\u001b[0m \u001b[38;5;124;03m    - Query is by default made private and archived after execution.\u001b[39;00m\n\u001b[1;32m    253\u001b[0m \u001b[38;5;124;03m    Requires Plus subscription!\u001b[39;00m\n\u001b[1;32m    254\u001b[0m \u001b[38;5;124;03m    \"\"\"\u001b[39;00m\n\u001b[0;32m--> 255\u001b[0m     query \u001b[38;5;241m=\u001b[39m \u001b[38;5;28;43mself\u001b[39;49m\u001b[38;5;241;43m.\u001b[39;49m\u001b[43mcreate_query\u001b[49m\u001b[43m(\u001b[49m\u001b[43mname\u001b[49m\u001b[43m,\u001b[49m\u001b[43m \u001b[49m\u001b[43mquery_sql\u001b[49m\u001b[43m,\u001b[49m\u001b[43m \u001b[49m\u001b[43mparams\u001b[49m\u001b[43m,\u001b[49m\u001b[43m \u001b[49m\u001b[43mis_private\u001b[49m\u001b[43m)\u001b[49m\n\u001b[1;32m    256\u001b[0m     results \u001b[38;5;241m=\u001b[39m \u001b[38;5;28mself\u001b[39m\u001b[38;5;241m.\u001b[39mrun_query(\n\u001b[1;32m    257\u001b[0m         query\u001b[38;5;241m=\u001b[39mquery\u001b[38;5;241m.\u001b[39mbase, performance\u001b[38;5;241m=\u001b[39mperformance, ping_frequency\u001b[38;5;241m=\u001b[39mping_frequency\n\u001b[1;32m    258\u001b[0m     )\n\u001b[1;32m    259\u001b[0m     \u001b[38;5;28;01mif\u001b[39;00m archive_after:\n",
      "File \u001b[0;32m~/Documents/UT_Austin/Senior_Design/FH03-Senior-Design-Project/venv/lib/python3.10/site-packages/dune_client/api/query.py:47\u001b[0m, in \u001b[0;36mQueryAPI.create_query\u001b[0;34m(self, name, query_sql, params, is_private)\u001b[0m\n\u001b[1;32m     45\u001b[0m     \u001b[38;5;28;01mreturn\u001b[39;00m \u001b[38;5;28mself\u001b[39m\u001b[38;5;241m.\u001b[39mget_query(query_id)\n\u001b[1;32m     46\u001b[0m \u001b[38;5;28;01mexcept\u001b[39;00m \u001b[38;5;167;01mKeyError\u001b[39;00m \u001b[38;5;28;01mas\u001b[39;00m err:\n\u001b[0;32m---> 47\u001b[0m     \u001b[38;5;28;01mraise\u001b[39;00m DuneError(response_json, \u001b[38;5;124m\"\u001b[39m\u001b[38;5;124mCreateQueryResponse\u001b[39m\u001b[38;5;124m\"\u001b[39m, err) \u001b[38;5;28;01mfrom\u001b[39;00m \u001b[38;5;21;01merr\u001b[39;00m\n",
      "\u001b[0;31mDuneError\u001b[0m: Can't build CreateQueryResponse from {'error': 'CRUD queries is an advanced feature included only in our premium subscription plans. Please upgrade your plan to use it.'}"
     ]
    }
   ],
   "source": [
    "from dune_client.client import DuneClient\n",
    "\n",
    "# Your specific query\n",
    "usdc_prices_query = \"\"\"\n",
    "SELECT\n",
    "  *\n",
    "FROM prices.\"usd\"\n",
    "WHERE\n",
    "  contract_address = 0xa0b86991c6218b36c1d19d4a2e9eb0ce3606eb48\n",
    "ORDER BY\n",
    "  minute DESC\n",
    "LIMIT 10000\"\"\"\n",
    "\n",
    "client = DuneClient.from_env()\n",
    "results = client.run_sql(query_sql=usdc_prices_query)\n",
    "\n",
    "# Process or print the results as needed\n",
    "print(results)"
   ]
  },
  {
   "cell_type": "code",
   "execution_count": null,
   "metadata": {},
   "outputs": [],
   "source": [
    "df = pd.DataFrame(results)\n",
    "\n",
    "# Save the DataFrame to a CSV file\n",
    "df.to_csv(\"usdc_prices.csv\", index=False)"
   ]
  }
 ],
 "metadata": {
  "kernelspec": {
   "display_name": "venv",
   "language": "python",
   "name": "python3"
  },
  "language_info": {
   "codemirror_mode": {
    "name": "ipython",
    "version": 3
   },
   "file_extension": ".py",
   "mimetype": "text/x-python",
   "name": "python",
   "nbconvert_exporter": "python",
   "pygments_lexer": "ipython3",
   "version": "3.10.2"
  }
 },
 "nbformat": 4,
 "nbformat_minor": 2
}
