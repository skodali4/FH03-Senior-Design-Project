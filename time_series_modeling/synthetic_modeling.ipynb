{
 "cells": [
  {
   "cell_type": "code",
   "execution_count": 1,
   "metadata": {},
   "outputs": [
    {
     "name": "stderr",
     "output_type": "stream",
     "text": [
      "2024-03-27 12:09:43.024889: I tensorflow/core/platform/cpu_feature_guard.cc:182] This TensorFlow binary is optimized to use available CPU instructions in performance-critical operations.\n",
      "To enable the following instructions: AVX2 AVX512F AVX512_VNNI FMA, in other operations, rebuild TensorFlow with the appropriate compiler flags.\n"
     ]
    }
   ],
   "source": [
    "import numpy as np\n",
    "import pandas as pd  \n",
    "import matplotlib.pyplot as plt \n",
    "import seaborn as sns\n",
    "import warnings\n",
    "from scipy.stats import pearsonr \n",
    "from sklearn.model_selection import train_test_split\n",
    "from sklearn.metrics import mean_squared_error, r2_score\n",
    "from statsmodels.tsa.arima.model import ARIMA\n",
    "import xgboost as xgb\n",
    "import tensorflow as tf\n",
    "from tensorflow.keras.models import Sequential\n",
    "from tensorflow.keras.layers import Dense, LSTM, Dropout, Bidirectional\n",
    "from math import sqrt\n",
    "from keras.models import Sequential\n",
    "from keras.layers import LSTM, Dense, Dropout"
   ]
  },
  {
   "cell_type": "code",
   "execution_count": 6,
   "metadata": {},
   "outputs": [],
   "source": [
    "import tensorflow as tf\n",
    "from tensorflow.keras.models import Sequential\n",
    "from sklearn.preprocessing import MinMaxScaler\n",
    "from tensorflow.keras.layers import Dense, LSTM, Dropout, Bidirectional\n",
    "import numpy as np"
   ]
  },
  {
   "cell_type": "code",
   "execution_count": 3,
   "metadata": {},
   "outputs": [],
   "source": [
    "def json_to_prices(json):\n",
    "    df = pd.read_json(json)\n",
    "    prices = df['prices']\n",
    "    coin_prices = pd.DataFrame(prices.tolist(), columns=['time', 'price'])\n",
    "    prices = coin_prices['price']\n",
    "    return prices"
   ]
  },
  {
   "cell_type": "code",
   "execution_count": 4,
   "metadata": {},
   "outputs": [],
   "source": [
    "daily_prices = json_to_prices('data/dailyethereum.json')"
   ]
  },
  {
   "cell_type": "code",
   "execution_count": 5,
   "metadata": {},
   "outputs": [
    {
     "name": "stdout",
     "output_type": "stream",
     "text": [
      "0      1830.306651\n",
      "1      1913.816249\n",
      "2      1893.714274\n",
      "3      1901.078310\n",
      "4      1874.694885\n",
      "          ...     \n",
      "271    2974.131586\n",
      "272    2926.285913\n",
      "273    2988.317384\n",
      "274    3113.408298\n",
      "275    3173.629947\n",
      "Name: price, Length: 276, dtype: float64\n"
     ]
    }
   ],
   "source": [
    "print(daily_prices)"
   ]
  },
  {
   "cell_type": "markdown",
   "metadata": {},
   "source": [
    "## Linear Extrapolation"
   ]
  },
  {
   "cell_type": "code",
   "execution_count": 7,
   "metadata": {},
   "outputs": [],
   "source": [
    "daily_prices_list = daily_prices.tolist()\n",
    "day_indices = np.arange(len(daily_prices_list))\n",
    "hour_indices = np.linspace(0, len(daily_prices_list) - 1, len(daily_prices_list) * 24)\n",
    "hourly_prices = np.interp(hour_indices, day_indices, daily_prices_list)"
   ]
  },
  {
   "cell_type": "code",
   "execution_count": 8,
   "metadata": {},
   "outputs": [
    {
     "name": "stdout",
     "output_type": "stream",
     "text": [
      "[1830.30665132 1833.77413425 1837.24161718 ... 3168.628904   3171.12942542\n",
      " 3173.62994684]\n"
     ]
    }
   ],
   "source": [
    "print(hourly_prices)"
   ]
  },
  {
   "cell_type": "markdown",
   "metadata": {},
   "source": [
    "## Extrapolation using ARIMA"
   ]
  },
  {
   "cell_type": "code",
   "execution_count": 10,
   "metadata": {},
   "outputs": [],
   "source": [
    "import numpy as np\n",
    "import pandas as pd\n",
    "from statsmodels.tsa.arima.model import ARIMA"
   ]
  },
  {
   "cell_type": "code",
   "execution_count": 25,
   "metadata": {},
   "outputs": [],
   "source": [
    "hourly_prices = []\n",
    "\n",
    "for i in range(5, len(daily_prices_list)-1):\n",
    "    # Fit an ARIMA model to the current day's prices\n",
    "    model = ARIMA(daily_prices_list[:i+2], order=(2,1,0))\n",
    "    model_fit = model.fit()\n",
    "\n",
    "    # Forecast the next day's price\n",
    "    forecast = model_fit.forecast(steps=1)\n",
    "\n",
    "    # Interpolate the hourly prices for the current day\n",
    "    current_day_prices = np.linspace(daily_prices_list[i], forecast[0], 24)\n",
    "\n",
    "    # Add the hourly prices to the list\n",
    "    hourly_prices.extend(current_day_prices)\n",
    "\n",
    "    # Convert the list to a numpy array\n",
    "hourly_prices = np.array(hourly_prices)"
   ]
  },
  {
   "cell_type": "code",
   "execution_count": 27,
   "metadata": {},
   "outputs": [
    {
     "name": "stdout",
     "output_type": "stream",
     "text": [
      "[1861.72538695 1862.3068235  1862.88826006 ... 3166.29657142 3168.81506062\n",
      " 3171.33354982]\n",
      "6480\n"
     ]
    }
   ],
   "source": [
    "print(hourly_prices)\n",
    "print(len(hourly_prices))"
   ]
  }
 ],
 "metadata": {
  "kernelspec": {
   "display_name": "venv",
   "language": "python",
   "name": "python3"
  },
  "language_info": {
   "codemirror_mode": {
    "name": "ipython",
    "version": 3
   },
   "file_extension": ".py",
   "mimetype": "text/x-python",
   "name": "python",
   "nbconvert_exporter": "python",
   "pygments_lexer": "ipython3",
   "version": "3.10.2"
  }
 },
 "nbformat": 4,
 "nbformat_minor": 2
}
