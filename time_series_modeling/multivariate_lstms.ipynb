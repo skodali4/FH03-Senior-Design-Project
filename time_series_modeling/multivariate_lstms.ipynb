
{
 "cells": [
  {
   "cell_type": "code",
   "execution_count": 118,
   "metadata": {},
   "outputs": [],
   "source": [
    "import numpy as np\n",
    "import pandas as pd  \n",
    "import matplotlib.pyplot as plt \n",
    "import seaborn as sns\n",
    "import warnings\n",
    "from scipy.stats import pearsonr \n",
    "from sklearn.model_selection import train_test_split\n",
    "from sklearn.metrics import mean_squared_error, r2_score\n",
    "from statsmodels.tsa.arima.model import ARIMA\n",
    "import xgboost as xgb\n",
    "import tensorflow as tf\n",
    "from tensorflow.keras.models import Sequential\n",
    "from tensorflow.keras.layers import Dense, LSTM, Dropout, Bidirectional\n",
    "from math import sqrt\n",
    "from keras.models import Sequential\n",
    "from keras.layers import LSTM, Dense, Dropout\n",
    "import tensorflow as tf\n",
    "from tensorflow.keras.models import Sequential\n",
    "from sklearn.preprocessing import MinMaxScaler\n",
    "from tensorflow.keras.layers import Dense, LSTM, Dropout, Bidirectional\n",
    "from tensorflow.keras.models import Sequential\n",
    "from tensorflow.keras.layers import LSTM, Dense\n",
    "from sklearn.preprocessing import MinMaxScaler"
   ]
  },
  {
   "cell_type": "code",
   "execution_count": 56,
   "metadata": {},
   "outputs": [],
   "source": [
    "def json_to_prices(json):\n",
    "    df = pd.read_json(json)\n",
    "    prices = df['prices']\n",
    "    coin_prices = pd.DataFrame(prices.tolist(), columns=['time', 'price'])\n",
    "    prices = coin_prices['price']\n",
    "    return prices"
   ]
  },
  {
   "cell_type": "code",
   "execution_count": 85,
   "metadata": {},
   "outputs": [],
   "source": [
    "def normalize_prices(prices):\n",
    "    normalized_prices = (prices - np.mean(prices)) / np.std(prices)\n",
    "    return normalized_prices\n",
    "\n",
    "def split_data(normalized_prices, split=0.8):\n",
    "    train_size = int(len(normalized_prices) * split)\n",
    "    test_size = len(normalized_prices) - train_size\n",
    "    \n",
    "    training_data = normalized_prices[0:train_size]\n",
    "    test_data = normalized_prices[train_size:len(normalized_prices)]\n",
    "    return training_data, test_data\n",
    "\n",
    "def create_dataset_helper(data, time_step=1):\n",
    "    X, y = [], []\n",
    "    # data = data.reset_index(drop=True)\n",
    "\n",
    "    for i in range(len(data) - time_step):      \n",
    "        X.append(data[i:(i + time_step)])\n",
    "        y.append(data[i + time_step])\n",
    "    return np.array(X), np.array(y)\n",
    "\n",
    "def create_dataset(data, time_steps=1):\n",
    "    X, y = create_dataset_helper(data, time_steps)\n",
    "    X = X.reshape(X.shape[0], X.shape[1], 1)\n",
    "    return X, y\n",
    "\n",
    "# def create_sequences(data, time_steps):\n",
    "#     X, y = [], []\n",
    "#     for i in range(time_steps, len(data)):\n",
    "#         X.append(data[i-time_steps:i])\n",
    "#         y.append(data[i, 0])  # Assuming the first column is DAI price\n",
    "#     return np.array(X), np.array(y)\n",
    "\n",
    "# def create_sequences(data, time_steps):\n",
    "#     X, y = [], []\n",
    "#     print(f'data shape: {data.shape}')  # Print the shape of data\n",
    "#     for i in range(time_steps, len(data)):\n",
    "#         print(i)  # Print the current index\n",
    "#         X.append(data[i-time_steps:i])\n",
    "#         y.append(data[i, 0])  # Assuming the first column is DAI price\n",
    "#     return np.array(X), np.array(y)\n",
    "\n",
    "def create_sequences(data, time_steps):\n",
    "    X, y = [], []\n",
    "    for i in range(time_steps, len(data)):\n",
    "        X.append(data[i-time_steps:i].values)  # Use .values to extract as numpy array\n",
    "        y.append(data.iloc[i, 0])  # Use .iloc to access the data by integer location\n",
    "    return np.array(X), np.array(y)"
   ]
  },
  {
   "cell_type": "code",
   "execution_count": 121,
   "metadata": {},
   "outputs": [],
   "source": [
    "def create_model(features, time_step):\n",
    "    model = Sequential()\n",
    "    model.add(LSTM(50, return_sequences=True, input_shape=(time_step, features)))\n",
    "    model.add(LSTM(50, return_sequences=False))\n",
    "    model.add(Dense(1))\n",
    "    model.compile(optimizer='adam', loss='mean_squared_error')\n",
    "    return model\n",
    "\n",
    "# def create_multivariate_model():\n",
    "#     model = Sequential()\n",
    "#     model.add(LSTM(units=50, return_sequences=True, input_shape=(time_step, 3)))\n",
    "#     model.add(LSTM(units=50))\n",
    "#     model.add(Dense(1))\n",
    "#     model.compile(optimizer='adam', loss='mean_squared_error')\n",
    "#     return model\n",
    "\n",
    "def predictions(model, X_train, y_train, X_test, y_test, prices):\n",
    "    train_predictions = model.predict(X_train)\n",
    "    test_predictions = model.predict(X_test)\n",
    "    \n",
    "    train_predict = (train_predictions * np.std(prices)) + np.mean(prices)\n",
    "    y_train = (y_train * np.std(prices)) + np.mean(prices)\n",
    "    test_predict = (test_predictions * np.std(prices)) + np.mean(prices)\n",
    "    y_test = (y_test * np.std(prices)) + np.mean(prices)\n",
    "    \n",
    "    train_score = sqrt(mean_squared_error(y_train, train_predict))\n",
    "    print('Train Score: %.20f RMSE' % (train_score))\n",
    "    test_score = sqrt(mean_squared_error(y_test, test_predict))\n",
    "    print('Test Score: %.20f RMSE' % (test_score))\n",
    "    return train_predict, test_predict\n",
    "    "
   ]
  },
  {
   "cell_type": "code",
   "execution_count": 122,
   "metadata": {},
   "outputs": [],
   "source": [
    "# Load the data\n",
    "\n",
    "dai = json_to_prices('data/dai90days.json')\n",
    "eth = json_to_prices('data/ethereum90days.json')\n",
    "usdc = json_to_prices('data/usdc90days.json')\n",
    "\n",
    "#normalize data\n",
    "\n",
    "normalized_dai = normalize_prices(dai)\n",
    "normalized_eth = normalize_prices(eth)\n",
    "normalized_usdc = normalize_prices(usdc)\n"
   ]
  },
  {
   "cell_type": "code",
   "execution_count": 123,
   "metadata": {},
   "outputs": [],
   "source": [
    "# combine the data\n",
    "\n",
    "combined_data = pd.concat([normalized_dai, normalized_eth, normalized_usdc], axis=1)"
   ]
  },
  {
   "cell_type": "code",
   "execution_count": 124,
   "metadata": {},
   "outputs": [
    {
     "name": "stdout",
     "output_type": "stream",
     "text": [
      "         price     price     price\n",
      "0     1.363371 -1.509895  0.313974\n",
      "1     0.028282 -1.491049 -0.139964\n",
      "2     0.673200 -1.507219 -0.707387\n",
      "3     0.189373 -1.519905 -0.026480\n",
      "4     0.240723 -1.519112 -1.274809\n",
      "...        ...       ...       ...\n",
      "2156  1.143258  3.213437 -0.026480\n",
      "2157  1.341297  3.238812  0.540943\n",
      "2158  2.757049  3.192427 -1.501778\n",
      "2159  0.696315  3.212663  0.087005\n",
      "2160  1.155137       NaN       NaN\n",
      "\n",
      "[2161 rows x 3 columns]\n"
     ]
    }
   ],
   "source": [
    "print(combined_data)"
   ]
  },
  {
   "cell_type": "code",
   "execution_count": 125,
   "metadata": {},
   "outputs": [
    {
     "data": {
      "text/plain": [
       "pandas.core.frame.DataFrame"
      ]
     },
     "execution_count": 125,
     "metadata": {},
     "output_type": "execute_result"
    }
   ],
   "source": [
    "type(combined_data)"
   ]
  },
  {
   "cell_type": "code",
   "execution_count": 126,
   "metadata": {},
   "outputs": [],
   "source": [
    "#split the data\n",
    "time_step = 10\n",
    "\n",
    "combined_training_data, combined_test_data = split_data(combined_data)\n",
    "\n",
    "X_train, y_train = create_sequences(combined_training_data, time_step)\n",
    "X_test, y_test = create_sequences(combined_test_data, time_step)"
   ]
  },
  {
   "cell_type": "code",
   "execution_count": 127,
   "metadata": {},
   "outputs": [
    {
     "name": "stdout",
     "output_type": "stream",
     "text": [
      "(1718, 10, 3) (1718,) (423, 10, 3) (423,)\n"
     ]
    }
   ],
   "source": [
    "print(X_train.shape, y_train.shape, X_test.shape, y_test.shape)"
   ]
  },
  {
   "cell_type": "code",
   "execution_count": 128,
   "metadata": {},
   "outputs": [
    {
     "name": "stdout",
     "output_type": "stream",
     "text": [
      "Epoch 1/50\n",
      "27/27 [==============================] - 3s 7ms/step - loss: 0.8722\n",
      "Epoch 2/50\n",
      "27/27 [==============================] - 0s 7ms/step - loss: 0.8562\n",
      "Epoch 3/50\n",
      "27/27 [==============================] - 0s 7ms/step - loss: 0.8415\n",
      "Epoch 4/50\n",
      "27/27 [==============================] - 0s 7ms/step - loss: 0.8352\n",
      "Epoch 5/50\n",
      "27/27 [==============================] - 0s 7ms/step - loss: 0.8278\n",
      "Epoch 6/50\n",
      "27/27 [==============================] - 0s 7ms/step - loss: 0.8239\n",
      "Epoch 7/50\n",
      "27/27 [==============================] - 0s 7ms/step - loss: 0.8150\n",
      "Epoch 8/50\n",
      "27/27 [==============================] - 0s 7ms/step - loss: 0.8081\n",
      "Epoch 9/50\n",
      "27/27 [==============================] - 0s 7ms/step - loss: 0.8017\n",
      "Epoch 10/50\n",
      "27/27 [==============================] - 0s 7ms/step - loss: 0.7972\n",
      "Epoch 11/50\n",
      "27/27 [==============================] - 0s 7ms/step - loss: 0.7989\n",
      "Epoch 12/50\n",
      "27/27 [==============================] - 0s 7ms/step - loss: 0.7951\n",
      "Epoch 13/50\n",
      "27/27 [==============================] - 0s 7ms/step - loss: 0.7929\n",
      "Epoch 14/50\n",
      "27/27 [==============================] - 0s 7ms/step - loss: 0.7878\n",
      "Epoch 15/50\n",
      "27/27 [==============================] - 0s 7ms/step - loss: 0.7894\n",
      "Epoch 16/50\n",
      "27/27 [==============================] - 0s 7ms/step - loss: 0.7845\n",
      "Epoch 17/50\n",
      "27/27 [==============================] - 0s 7ms/step - loss: 0.7827\n",
      "Epoch 18/50\n",
      "27/27 [==============================] - 0s 7ms/step - loss: 0.7862\n",
      "Epoch 19/50\n",
      "27/27 [==============================] - 0s 7ms/step - loss: 0.7829\n",
      "Epoch 20/50\n",
      "27/27 [==============================] - 0s 7ms/step - loss: 0.7818\n",
      "Epoch 21/50\n",
      "27/27 [==============================] - 0s 7ms/step - loss: 0.7753\n",
      "Epoch 22/50\n",
      "27/27 [==============================] - 0s 7ms/step - loss: 0.7758\n",
      "Epoch 23/50\n",
      "27/27 [==============================] - 0s 9ms/step - loss: 0.7683\n",
      "Epoch 24/50\n",
      "27/27 [==============================] - 0s 7ms/step - loss: 0.7708\n",
      "Epoch 25/50\n",
      "27/27 [==============================] - 0s 7ms/step - loss: 0.7656\n",
      "Epoch 26/50\n",
      "27/27 [==============================] - 0s 8ms/step - loss: 0.7677\n",
      "Epoch 27/50\n",
      "27/27 [==============================] - 0s 7ms/step - loss: 0.7582\n",
      "Epoch 28/50\n",
      "27/27 [==============================] - 0s 7ms/step - loss: 0.7642\n",
      "Epoch 29/50\n",
      "27/27 [==============================] - 0s 7ms/step - loss: 0.7649\n",
      "Epoch 30/50\n",
      "27/27 [==============================] - 0s 7ms/step - loss: 0.7486\n",
      "Epoch 31/50\n",
      "27/27 [==============================] - 0s 7ms/step - loss: 0.7398\n",
      "Epoch 32/50\n",
      "27/27 [==============================] - 0s 7ms/step - loss: 0.7336\n",
      "Epoch 33/50\n",
      "27/27 [==============================] - 0s 8ms/step - loss: 0.7304\n",
      "Epoch 34/50\n",
      "27/27 [==============================] - 0s 8ms/step - loss: 0.7322\n",
      "Epoch 35/50\n",
      "27/27 [==============================] - 0s 7ms/step - loss: 0.7268\n",
      "Epoch 36/50\n",
      "27/27 [==============================] - 0s 7ms/step - loss: 0.7228\n",
      "Epoch 37/50\n",
      "27/27 [==============================] - 0s 7ms/step - loss: 0.7189\n",
      "Epoch 38/50\n",
      "27/27 [==============================] - 0s 7ms/step - loss: 0.7183\n",
      "Epoch 39/50\n",
      "27/27 [==============================] - 0s 7ms/step - loss: 0.7035\n",
      "Epoch 40/50\n",
      "27/27 [==============================] - 0s 7ms/step - loss: 0.6941\n",
      "Epoch 41/50\n",
      "27/27 [==============================] - 0s 7ms/step - loss: 0.6862\n",
      "Epoch 42/50\n",
      "27/27 [==============================] - 0s 7ms/step - loss: 0.6822\n",
      "Epoch 43/50\n",
      "27/27 [==============================] - 0s 7ms/step - loss: 0.6712\n",
      "Epoch 44/50\n",
      "27/27 [==============================] - 0s 10ms/step - loss: 0.6632\n",
      "Epoch 45/50\n",
      "27/27 [==============================] - 0s 7ms/step - loss: 0.6641\n",
      "Epoch 46/50\n",
      "27/27 [==============================] - 0s 8ms/step - loss: 0.6523\n",
      "Epoch 47/50\n",
      "27/27 [==============================] - 0s 7ms/step - loss: 0.6353\n",
      "Epoch 48/50\n",
      "27/27 [==============================] - 0s 7ms/step - loss: 0.6286\n",
      "Epoch 49/50\n",
      "27/27 [==============================] - 0s 7ms/step - loss: 0.6209\n",
      "Epoch 50/50\n",
      "27/27 [==============================] - 0s 7ms/step - loss: 0.6098\n"
     ]
    },
    {
     "data": {
      "text/plain": [
       "<keras.src.callbacks.History at 0x1678ba5c0>"
      ]
     },
     "execution_count": 128,
     "metadata": {},
     "output_type": "execute_result"
    }
   ],
   "source": [
    "dai_multivariate_model = create_model(3, time_step)\n",
    "dai_multivariate_model.fit(X_train, y_train, epochs=50, batch_size=64)"
   ]
  },
  {
   "cell_type": "code",
   "execution_count": 129,
   "metadata": {},
   "outputs": [
    {
     "name": "stdout",
     "output_type": "stream",
     "text": [
      "54/54 [==============================] - 1s 2ms/step\n",
      "14/14 [==============================] - 0s 3ms/step\n",
      "Train Score: 0.00092811072173473177 RMSE\n",
      "Test Score: 0.00142056059492171082 RMSE\n"
     ]
    }
   ],
   "source": [
    "train_predict, test_predict = predictions(dai_multivariate_model, X_train, y_train, X_test, y_test, dai)"
   ]
  },
  {
   "cell_type": "code",
   "execution_count": 130,
   "metadata": {},
   "outputs": [],
   "source": [
    "# add model to pickle file\n",
    "import pickle\n",
    "with open('dai_multivariate_model.pkl', 'wb') as file:\n",
    "    pickle.dump(dai_multivariate_model, file)\n"
   ]
  },
  {
   "cell_type": "markdown",
   "metadata": {},
   "source": [
    "## Ethereum Modeling with Price, Market Cap, and Total Volume"
   ]
  },
  {
   "cell_type": "code",
   "execution_count": 131,
   "metadata": {},
   "outputs": [],
   "source": [
    "def json_to_market_cap(json):\n",
    "    df = pd.read_json(json)\n",
    "    market_caps = df['market_caps']\n",
    "    coin_market_caps = pd.DataFrame(market_caps.tolist(), columns=['time', 'market_caps'])\n",
    "    market_caps = coin_market_caps['market_caps']\n",
    "    return market_caps\n",
    "\n",
    "def json_to_volume(json):\n",
    "    df = pd.read_json(json)\n",
    "    volumes = df['total_volumes']\n",
    "    coin_volumes = pd.DataFrame(volumes.tolist(), columns=['time', 'volume'])\n",
    "    volumes = coin_volumes['volume']\n",
    "    return volumes"
   ]
  },
  {
   "cell_type": "code",
   "execution_count": 132,
   "metadata": {},
   "outputs": [
    {
     "name": "stdout",
     "output_type": "stream",
     "text": [
      "0       1909.047327\n",
      "1       1913.866964\n",
      "2       1888.625330\n",
      "3       1886.630519\n",
      "4       1887.228688\n",
      "           ...     \n",
      "8036    3583.853827\n",
      "8037    3612.419591\n",
      "8038    3601.360086\n",
      "8039    3617.079283\n",
      "8040    3605.308078\n",
      "Name: price, Length: 8041, dtype: float64\n"
     ]
    }
   ],
   "source": [
    "prices_1 = json_to_prices('general_model_data/eth_april_june.json')\n",
    "prices_2 = json_to_prices('general_model_data/eth_june_august.json')\n",
    "prices_3 = json_to_prices('general_model_data/eth_august_october.json')\n",
    "prices_4 = json_to_prices('general_model_data/eth_october_december.json')\n",
    "prices_5 = json_to_prices('general_model_data/eth_december_feb.json')\n",
    "prices_6 = json_to_prices('general_model_data/eth_feb_march.json')\n",
    "\n",
    "prices = pd.concat([prices_1, prices_2, prices_3, prices_4, prices_5, prices_6])\n",
    "\n",
    "#reset the index\n",
    "prices = prices.reset_index(drop=True)\n",
    "print(prices)"
   ]
  },
  {
   "cell_type": "code",
   "execution_count": 133,
   "metadata": {},
   "outputs": [
    {
     "name": "stdout",
     "output_type": "stream",
     "text": [
      "0       2.295167e+11\n",
      "1       2.303356e+11\n",
      "2       2.286543e+11\n",
      "3       2.269938e+11\n",
      "4       2.271579e+11\n",
      "            ...     \n",
      "8036    4.306169e+11\n",
      "8037    4.348205e+11\n",
      "8038    4.324637e+11\n",
      "8039    4.331715e+11\n",
      "8040    4.328914e+11\n",
      "Name: market_caps, Length: 8041, dtype: float64\n"
     ]
    }
   ],
   "source": [
    "market_caps_1 = json_to_market_cap('general_model_data/eth_april_june.json')\n",
    "market_caps_2 = json_to_market_cap('general_model_data/eth_june_august.json')\n",
    "market_caps_3 = json_to_market_cap('general_model_data/eth_august_october.json')\n",
    "market_caps_4 = json_to_market_cap('general_model_data/eth_october_december.json')\n",
    "market_caps_5 = json_to_market_cap('general_model_data/eth_december_feb.json')\n",
    "market_caps_6 = json_to_market_cap('general_model_data/eth_feb_march.json')\n",
    "\n",
    "market_caps = pd.concat([market_caps_1, market_caps_2, market_caps_3, market_caps_4, market_caps_5, market_caps_6])\n",
    "\n",
    "#reset the index\n",
    "market_caps = market_caps.reset_index(drop=True)\n",
    "print(market_caps)"
   ]
  },
  {
   "cell_type": "code",
   "execution_count": 134,
   "metadata": {},
   "outputs": [
    {
     "name": "stdout",
     "output_type": "stream",
     "text": [
      "0       1.862849e+10\n",
      "1       1.894294e+10\n",
      "2       1.894396e+10\n",
      "3       1.948900e+10\n",
      "4       1.941160e+10\n",
      "            ...     \n",
      "8036    1.967639e+10\n",
      "8037    1.915767e+10\n",
      "8038    1.921760e+10\n",
      "8039    1.886316e+10\n",
      "8040    1.826426e+10\n",
      "Name: volume, Length: 8041, dtype: float64\n"
     ]
    }
   ],
   "source": [
    "total_volumes_1 = json_to_volume('general_model_data/eth_april_june.json')\n",
    "total_volumes_2 = json_to_volume('general_model_data/eth_june_august.json')\n",
    "total_volumes_3 = json_to_volume('general_model_data/eth_august_october.json')\n",
    "total_volumes_4 = json_to_volume('general_model_data/eth_october_december.json')\n",
    "total_volumes_5 = json_to_volume('general_model_data/eth_december_feb.json')\n",
    "total_volumes_6 = json_to_volume('general_model_data/eth_feb_march.json')\n",
    "\n",
    "total_volumes = pd.concat([total_volumes_1, total_volumes_2, total_volumes_3, total_volumes_4, total_volumes_5, total_volumes_6])\n",
    "\n",
    "#reset the index\n",
    "total_volumes = total_volumes.reset_index(drop=True)\n",
    "print(total_volumes)"
   ]
  },
  {
   "cell_type": "code",
   "execution_count": 135,
   "metadata": {},
   "outputs": [],
   "source": [
    "normalized_prices = normalize_prices(prices)\n",
    "normalized_market_caps = normalize_prices(market_caps)\n",
    "normalized_volumes = normalize_prices(total_volumes)"
   ]
  },
  {
   "cell_type": "code",
   "execution_count": 136,
   "metadata": {},
   "outputs": [],
   "source": [
    "combined_data = pd.concat([normalized_prices, normalized_market_caps, normalized_volumes], axis=1)"
   ]
  },
  {
   "cell_type": "code",
   "execution_count": 137,
   "metadata": {},
   "outputs": [],
   "source": [
    "# drop rows with NaN values\n",
    "combined_data = combined_data.dropna()\n",
    "combined_data = combined_data.reset_index(drop=True)"
   ]
  },
  {
   "cell_type": "code",
   "execution_count": 138,
   "metadata": {},
   "outputs": [
    {
     "name": "stdout",
     "output_type": "stream",
     "text": [
      "         price  market_caps    volume\n",
      "0    -0.372189    -0.372188  0.710583\n",
      "1    -0.363606    -0.360036  0.747224\n",
      "2    -0.408554    -0.384985  0.747342\n",
      "3    -0.412106    -0.409627  0.810851\n",
      "4    -0.411041    -0.407192  0.801832\n",
      "...        ...          ...       ...\n",
      "8036  2.610128     2.612056  0.832686\n",
      "8037  2.660995     2.674436  0.772244\n",
      "8038  2.641301     2.639462  0.779227\n",
      "8039  2.669292     2.649965  0.737927\n",
      "8040  2.648331     2.645808  0.668143\n",
      "\n",
      "[8041 rows x 3 columns]\n"
     ]
    }
   ],
   "source": [
    "print(combined_data)"
   ]
  },
  {
   "cell_type": "code",
   "execution_count": 139,
   "metadata": {},
   "outputs": [],
   "source": [
    "time_step = 10\n",
    "\n",
    "combined_training_data, combined_test_data = split_data(combined_data)\n",
    "\n",
    "X_train, y_train = create_sequences(combined_training_data, time_step)\n",
    "X_test, y_test = create_sequences(combined_test_data, time_step)"
   ]
  },
  {
   "cell_type": "code",
   "execution_count": 140,
   "metadata": {},
   "outputs": [
    {
     "name": "stdout",
     "output_type": "stream",
     "text": [
      "(6422, 10, 3) (6422,) (1599, 10, 3) (1599,)\n"
     ]
    }
   ],
   "source": [
    "print(X_train.shape, y_train.shape, X_test.shape, y_test.shape)"
   ]
  },
  {
   "cell_type": "code",
   "execution_count": 141,
   "metadata": {},
   "outputs": [
    {
     "name": "stdout",
     "output_type": "stream",
     "text": [
      "Epoch 1/50\n",
      "101/101 [==============================] - 3s 7ms/step - loss: 0.0131\n",
      "Epoch 2/50\n",
      "101/101 [==============================] - 1s 7ms/step - loss: 0.0014\n",
      "Epoch 3/50\n",
      "101/101 [==============================] - 1s 7ms/step - loss: 0.0011\n",
      "Epoch 4/50\n",
      "101/101 [==============================] - 1s 7ms/step - loss: 0.0011\n",
      "Epoch 5/50\n",
      "101/101 [==============================] - 1s 7ms/step - loss: 9.5670e-04\n",
      "Epoch 6/50\n",
      "101/101 [==============================] - 1s 7ms/step - loss: 9.1594e-04\n",
      "Epoch 7/50\n",
      "101/101 [==============================] - 1s 7ms/step - loss: 9.0798e-04\n",
      "Epoch 8/50\n",
      "101/101 [==============================] - 1s 7ms/step - loss: 8.8415e-04\n",
      "Epoch 9/50\n",
      "101/101 [==============================] - 1s 7ms/step - loss: 7.7618e-04\n",
      "Epoch 10/50\n",
      "101/101 [==============================] - 1s 7ms/step - loss: 7.6300e-04\n",
      "Epoch 11/50\n",
      "101/101 [==============================] - 1s 7ms/step - loss: 7.0547e-04\n",
      "Epoch 12/50\n",
      "101/101 [==============================] - 1s 7ms/step - loss: 6.7598e-04\n",
      "Epoch 13/50\n",
      "101/101 [==============================] - 1s 7ms/step - loss: 6.6245e-04\n",
      "Epoch 14/50\n",
      "101/101 [==============================] - 1s 7ms/step - loss: 6.5816e-04\n",
      "Epoch 15/50\n",
      "101/101 [==============================] - 1s 7ms/step - loss: 6.0989e-04\n",
      "Epoch 16/50\n",
      "101/101 [==============================] - 1s 7ms/step - loss: 5.7526e-04\n",
      "Epoch 17/50\n",
      "101/101 [==============================] - 1s 7ms/step - loss: 5.4507e-04\n",
      "Epoch 18/50\n",
      "101/101 [==============================] - 1s 7ms/step - loss: 5.4333e-04\n",
      "Epoch 19/50\n",
      "101/101 [==============================] - 1s 7ms/step - loss: 5.2872e-04\n",
      "Epoch 20/50\n",
      "101/101 [==============================] - 1s 8ms/step - loss: 5.2311e-04\n",
      "Epoch 21/50\n",
      "101/101 [==============================] - 1s 7ms/step - loss: 5.2914e-04\n",
      "Epoch 22/50\n",
      "101/101 [==============================] - 1s 7ms/step - loss: 4.7844e-04\n",
      "Epoch 23/50\n",
      "101/101 [==============================] - 1s 7ms/step - loss: 4.6439e-04\n",
      "Epoch 24/50\n",
      "101/101 [==============================] - 1s 7ms/step - loss: 4.5693e-04\n",
      "Epoch 25/50\n",
      "101/101 [==============================] - 1s 7ms/step - loss: 4.1742e-04\n",
      "Epoch 26/50\n",
      "101/101 [==============================] - 1s 7ms/step - loss: 4.1688e-04\n",
      "Epoch 27/50\n",
      "101/101 [==============================] - 1s 7ms/step - loss: 3.9982e-04\n",
      "Epoch 28/50\n",
      "101/101 [==============================] - 1s 7ms/step - loss: 3.9509e-04\n",
      "Epoch 29/50\n",
      "101/101 [==============================] - 1s 7ms/step - loss: 3.8939e-04\n",
      "Epoch 30/50\n",
      "101/101 [==============================] - 1s 7ms/step - loss: 3.6870e-04\n",
      "Epoch 31/50\n",
      "101/101 [==============================] - 1s 8ms/step - loss: 3.7860e-04\n",
      "Epoch 32/50\n",
      "101/101 [==============================] - 1s 7ms/step - loss: 3.5167e-04\n",
      "Epoch 33/50\n",
      "101/101 [==============================] - 1s 7ms/step - loss: 3.6016e-04\n",
      "Epoch 34/50\n",
      "101/101 [==============================] - 1s 7ms/step - loss: 3.3095e-04\n",
      "Epoch 35/50\n",
      "101/101 [==============================] - 1s 7ms/step - loss: 3.1901e-04\n",
      "Epoch 36/50\n",
      "101/101 [==============================] - 1s 7ms/step - loss: 3.3459e-04\n",
      "Epoch 37/50\n",
      "101/101 [==============================] - 1s 7ms/step - loss: 2.9626e-04\n",
      "Epoch 38/50\n",
      "101/101 [==============================] - 1s 7ms/step - loss: 3.2870e-04\n",
      "Epoch 39/50\n",
      "101/101 [==============================] - 1s 7ms/step - loss: 3.0768e-04\n",
      "Epoch 40/50\n",
      "101/101 [==============================] - 1s 7ms/step - loss: 3.1579e-04\n",
      "Epoch 41/50\n",
      "101/101 [==============================] - 1s 7ms/step - loss: 3.0510e-04\n",
      "Epoch 42/50\n",
      "101/101 [==============================] - 1s 7ms/step - loss: 3.0340e-04\n",
      "Epoch 43/50\n",
      "101/101 [==============================] - 1s 7ms/step - loss: 3.0468e-04\n",
      "Epoch 44/50\n",
      "101/101 [==============================] - 1s 7ms/step - loss: 2.8371e-04\n",
      "Epoch 45/50\n",
      "101/101 [==============================] - 1s 7ms/step - loss: 3.0340e-04\n",
      "Epoch 46/50\n",
      "101/101 [==============================] - 1s 7ms/step - loss: 3.2468e-04\n",
      "Epoch 47/50\n",
      "101/101 [==============================] - 1s 9ms/step - loss: 3.1181e-04\n",
      "Epoch 48/50\n",
      "101/101 [==============================] - 1s 7ms/step - loss: 2.8259e-04\n",
      "Epoch 49/50\n",
      "101/101 [==============================] - 1s 7ms/step - loss: 3.0093e-04\n",
      "Epoch 50/50\n",
      "101/101 [==============================] - 1s 8ms/step - loss: 2.8831e-04\n"
     ]
    },
    {
     "data": {
      "text/plain": [
       "<keras.src.callbacks.History at 0x1691c3910>"
      ]
     },
     "execution_count": 141,
     "metadata": {},
     "output_type": "execute_result"
    }
   ],
   "source": [
    "ethereum_model = create_model(3, time_step)\n",
    "ethereum_model.fit(X_train, y_train, epochs=50, batch_size=64)"
   ]
  },
  {
   "cell_type": "code",
   "execution_count": 143,
   "metadata": {},
   "outputs": [
    {
     "name": "stdout",
     "output_type": "stream",
     "text": [
      "201/201 [==============================] - 0s 2ms/step\n",
      "50/50 [==============================] - 0s 2ms/step\n",
      "Train Score: 10.36554028708870411890 RMSE\n",
      "Test Score: 199.55607401903884579042 RMSE\n"
     ]
    },
    {
     "data": {
      "text/plain": [
       "(array([[1886.5544],\n",
       "        [1891.383 ],\n",
       "        [1899.1042],\n",
       "        ...,\n",
       "        [2501.322 ],\n",
       "        [2488.4229],\n",
       "        [2496.7761]], dtype=float32),\n",
       " array([[2479.994 ],\n",
       "        [2478.5718],\n",
       "        [2474.1982],\n",
       "        ...,\n",
       "        [3355.336 ],\n",
       "        [3354.273 ],\n",
       "        [3357.2144]], dtype=float32))"
      ]
     },
     "execution_count": 143,
     "metadata": {},
     "output_type": "execute_result"
    }
   ],
   "source": [
    "predictions(ethereum_model, X_train, y_train, X_test, y_test, prices)"
   ]
  },
  {
   "cell_type": "code",
   "execution_count": 144,
   "metadata": {},
   "outputs": [],
   "source": [
    "import pickle\n",
    "with open('ethereum_model.pkl', 'wb') as file:\n",
    "    pickle.dump(ethereum_model, file)\n"
   ]
  },
  {
   "cell_type": "markdown",
   "metadata": {},
   "source": [
    "## USDC Generalized Model with Price, Volume, Market Cap"
   ]
  },
  {
   "cell_type": "code",
   "execution_count": 145,
   "metadata": {},
   "outputs": [
    {
     "name": "stdout",
     "output_type": "stream",
     "text": [
      "0       1.000225\n",
      "1       1.001516\n",
      "2       0.999211\n",
      "3       1.000040\n",
      "4       1.000291\n",
      "          ...   \n",
      "8031    0.999038\n",
      "8032    1.001351\n",
      "8033    0.999430\n",
      "8034    1.000355\n",
      "8035    0.999473\n",
      "Name: price, Length: 8036, dtype: float64\n"
     ]
    }
   ],
   "source": [
    "usdc_prices_1 = json_to_prices('usdc_general_data/usdc_april_june.json')\n",
    "usdc_prices_2 = json_to_prices('usdc_general_data/usdc_june_aug.json')\n",
    "usdc_prices_3 = json_to_prices('usdc_general_data/usdc_aug_oct.json')\n",
    "usdc_prices_4 = json_to_prices('usdc_general_data/usdc_oct_dec.json')\n",
    "usdc_prices_5 = json_to_prices('usdc_general_data/usdc_dec_feb.json')\n",
    "usdc_prices_6 = json_to_prices('usdc_general_data/usdc_feb_march.json')\n",
    "\n",
    "usdc_prices = pd.concat([usdc_prices_1, usdc_prices_2, usdc_prices_3, usdc_prices_4, usdc_prices_5, usdc_prices_6])\n",
    "\n",
    "prices = usdc_prices.dropna()\n",
    "all_prices = prices.reset_index(drop=True)\n",
    "print(all_prices)"
   ]
  },
  {
   "cell_type": "code",
   "execution_count": 146,
   "metadata": {},
   "outputs": [
    {
     "name": "stdout",
     "output_type": "stream",
     "text": [
      "0       3.075954e+10\n",
      "1       3.078693e+10\n",
      "2       3.074763e+10\n",
      "3       3.072970e+10\n",
      "4       3.073144e+10\n",
      "            ...     \n",
      "8031    3.224784e+10\n",
      "8032    3.236996e+10\n",
      "8033    3.229050e+10\n",
      "8034    3.232177e+10\n",
      "8035    3.229384e+10\n",
      "Name: market_caps, Length: 8036, dtype: float64\n"
     ]
    }
   ],
   "source": [
    "usdc_market_caps_1 = json_to_market_cap('usdc_general_data/usdc_april_june.json')\n",
    "usdc_market_caps_2 = json_to_market_cap('usdc_general_data/usdc_june_aug.json')\n",
    "usdc_market_caps_3 = json_to_market_cap('usdc_general_data/usdc_aug_oct.json')\n",
    "usdc_market_caps_4 = json_to_market_cap('usdc_general_data/usdc_oct_dec.json')\n",
    "usdc_market_caps_5 = json_to_market_cap('usdc_general_data/usdc_dec_feb.json')\n",
    "usdc_market_caps_6 = json_to_market_cap('usdc_general_data/usdc_feb_march.json')\n",
    "\n",
    "usdc_market_caps = pd.concat([usdc_market_caps_1, usdc_market_caps_2, usdc_market_caps_3, usdc_market_caps_4, usdc_market_caps_5, usdc_market_caps_6])\n",
    "\n",
    "market_caps = usdc_market_caps.dropna()\n",
    "all_market_caps = market_caps.reset_index(drop=True)\n",
    "print(all_market_caps)"
   ]
  },
  {
   "cell_type": "code",
   "execution_count": 147,
   "metadata": {},
   "outputs": [
    {
     "name": "stdout",
     "output_type": "stream",
     "text": [
      "0       6.614025e+09\n",
      "1       6.630742e+09\n",
      "2       6.581552e+09\n",
      "3       6.729557e+09\n",
      "4       6.743844e+09\n",
      "            ...     \n",
      "8031    8.559277e+09\n",
      "8032    8.729863e+09\n",
      "8033    7.669309e+09\n",
      "8034    6.677742e+09\n",
      "8035    9.220244e+09\n",
      "Name: volume, Length: 8036, dtype: float64\n"
     ]
    }
   ],
   "source": [
    "usdc_total_volumes_1 = json_to_volume('usdc_general_data/usdc_april_june.json')\n",
    "usdc_total_volumes_2 = json_to_volume('usdc_general_data/usdc_june_aug.json')\n",
    "usdc_total_volumes_3 = json_to_volume('usdc_general_data/usdc_aug_oct.json')\n",
    "usdc_total_volumes_4 = json_to_volume('usdc_general_data/usdc_oct_dec.json')\n",
    "usdc_total_volumes_5 = json_to_volume('usdc_general_data/usdc_dec_feb.json')\n",
    "usdc_total_volumes_6 = json_to_volume('usdc_general_data/usdc_feb_march.json')\n",
    "\n",
    "usdc_total_volumes = pd.concat([usdc_total_volumes_1, usdc_total_volumes_2, usdc_total_volumes_3, usdc_total_volumes_4, usdc_total_volumes_5, usdc_total_volumes_6])\n",
    "\n",
    "total_volumes = usdc_total_volumes.dropna()\n",
    "all_total_volumes = total_volumes.reset_index(drop=True)\n",
    "print(all_total_volumes)"
   ]
  },
  {
   "cell_type": "code",
   "execution_count": 148,
   "metadata": {},
   "outputs": [
    {
     "name": "stdout",
     "output_type": "stream",
     "text": [
      "         price  market_caps    volume\n",
      "0     0.244814     1.957893  0.093174\n",
      "1     1.668984     1.971594  0.097332\n",
      "2    -0.873066     1.951935  0.085097\n",
      "3     0.041495     1.942966  0.121910\n",
      "4     0.318060     1.943836  0.125463\n",
      "...        ...          ...       ...\n",
      "8031 -1.063126     2.702468  0.577001\n",
      "8032  1.487375     2.763566  0.619429\n",
      "8033 -0.630926     2.723814  0.355646\n",
      "8034  0.389005     2.739454  0.109022\n",
      "8035 -0.584036     2.725481  0.741398\n",
      "\n",
      "[8036 rows x 3 columns]\n"
     ]
    }
   ],
   "source": [
    "normalized_prices = normalize_prices(all_prices)\n",
    "normalized_market_caps = normalize_prices(all_market_caps)\n",
    "normalized_volumes = normalize_prices(all_total_volumes)\n",
    "\n",
    "combined_data = pd.concat([normalized_prices, normalized_market_caps, normalized_volumes], axis=1)\n",
    "\n",
    "# drop rows with NaN values\n",
    "combined_data = combined_data.dropna()\n",
    "combined_data = combined_data.reset_index(drop=True)\n",
    "\n",
    "print(combined_data)"
   ]
  },
  {
   "cell_type": "code",
   "execution_count": 149,
   "metadata": {},
   "outputs": [],
   "source": [
    "time_step = 10\n",
    "\n",
    "combined_training_data, combined_test_data = split_data(combined_data)\n",
    "\n",
    "X_train, y_train = create_sequences(combined_training_data, time_step)\n",
    "X_test, y_test = create_sequences(combined_test_data, time_step)"
   ]
  },
  {
   "cell_type": "code",
   "execution_count": 150,
   "metadata": {},
   "outputs": [
    {
     "name": "stdout",
     "output_type": "stream",
     "text": [
      "Epoch 1/50\n",
      "101/101 [==============================] - 4s 8ms/step - loss: 0.7513\n",
      "Epoch 2/50\n",
      "101/101 [==============================] - 1s 8ms/step - loss: 0.7501\n",
      "Epoch 3/50\n",
      "101/101 [==============================] - 1s 7ms/step - loss: 0.7483\n",
      "Epoch 4/50\n",
      "101/101 [==============================] - 1s 7ms/step - loss: 0.7480\n",
      "Epoch 5/50\n",
      "101/101 [==============================] - 1s 7ms/step - loss: 0.7472\n",
      "Epoch 6/50\n",
      "101/101 [==============================] - 1s 7ms/step - loss: 0.7477\n",
      "Epoch 7/50\n",
      "101/101 [==============================] - 1s 7ms/step - loss: 0.7480\n",
      "Epoch 8/50\n",
      "101/101 [==============================] - 1s 7ms/step - loss: 0.7475\n",
      "Epoch 9/50\n",
      "101/101 [==============================] - 1s 8ms/step - loss: 0.7465\n",
      "Epoch 10/50\n",
      "101/101 [==============================] - 1s 7ms/step - loss: 0.7463\n",
      "Epoch 11/50\n",
      "101/101 [==============================] - 1s 8ms/step - loss: 0.7468\n",
      "Epoch 12/50\n",
      "101/101 [==============================] - 1s 7ms/step - loss: 0.7463\n",
      "Epoch 13/50\n",
      "101/101 [==============================] - 1s 7ms/step - loss: 0.7462\n",
      "Epoch 14/50\n",
      "101/101 [==============================] - 1s 7ms/step - loss: 0.7458\n",
      "Epoch 15/50\n",
      "101/101 [==============================] - 1s 7ms/step - loss: 0.7460\n",
      "Epoch 16/50\n",
      "101/101 [==============================] - 1s 7ms/step - loss: 0.7458\n",
      "Epoch 17/50\n",
      "101/101 [==============================] - 1s 7ms/step - loss: 0.7453\n",
      "Epoch 18/50\n",
      "101/101 [==============================] - 1s 7ms/step - loss: 0.7449\n",
      "Epoch 19/50\n",
      "101/101 [==============================] - 1s 7ms/step - loss: 0.7449\n",
      "Epoch 20/50\n",
      "101/101 [==============================] - 1s 7ms/step - loss: 0.7448\n",
      "Epoch 21/50\n",
      "101/101 [==============================] - 1s 7ms/step - loss: 0.7452\n",
      "Epoch 22/50\n",
      "101/101 [==============================] - 1s 7ms/step - loss: 0.7439\n",
      "Epoch 23/50\n",
      "101/101 [==============================] - 1s 7ms/step - loss: 0.7450\n",
      "Epoch 24/50\n",
      "101/101 [==============================] - 1s 7ms/step - loss: 0.7445\n",
      "Epoch 25/50\n",
      "101/101 [==============================] - 1s 7ms/step - loss: 0.7432\n",
      "Epoch 26/50\n",
      "101/101 [==============================] - 1s 7ms/step - loss: 0.7434\n",
      "Epoch 27/50\n",
      "101/101 [==============================] - 1s 7ms/step - loss: 0.7434\n",
      "Epoch 28/50\n",
      "101/101 [==============================] - 1s 8ms/step - loss: 0.7431\n",
      "Epoch 29/50\n",
      "101/101 [==============================] - 1s 8ms/step - loss: 0.7415\n",
      "Epoch 30/50\n",
      "101/101 [==============================] - 1s 7ms/step - loss: 0.7399\n",
      "Epoch 31/50\n",
      "101/101 [==============================] - 1s 7ms/step - loss: 0.7401\n",
      "Epoch 32/50\n",
      "101/101 [==============================] - 1s 7ms/step - loss: 0.7406\n",
      "Epoch 33/50\n",
      "101/101 [==============================] - 1s 7ms/step - loss: 0.7375\n",
      "Epoch 34/50\n",
      "101/101 [==============================] - 1s 8ms/step - loss: 0.7381\n",
      "Epoch 35/50\n",
      "101/101 [==============================] - 1s 7ms/step - loss: 0.7359\n",
      "Epoch 36/50\n",
      "101/101 [==============================] - 1s 7ms/step - loss: 0.7330\n",
      "Epoch 37/50\n",
      "101/101 [==============================] - 1s 7ms/step - loss: 0.7331\n",
      "Epoch 38/50\n",
      "101/101 [==============================] - 1s 7ms/step - loss: 0.7298\n",
      "Epoch 39/50\n",
      "101/101 [==============================] - 1s 7ms/step - loss: 0.7275\n",
      "Epoch 40/50\n",
      "101/101 [==============================] - 1s 8ms/step - loss: 0.7237\n",
      "Epoch 41/50\n",
      "101/101 [==============================] - 1s 8ms/step - loss: 0.7241\n",
      "Epoch 42/50\n",
      "101/101 [==============================] - 1s 7ms/step - loss: 0.7204\n",
      "Epoch 43/50\n",
      "101/101 [==============================] - 1s 7ms/step - loss: 0.7157\n",
      "Epoch 44/50\n",
      "101/101 [==============================] - 1s 7ms/step - loss: 0.7125\n",
      "Epoch 45/50\n",
      "101/101 [==============================] - 1s 8ms/step - loss: 0.7070\n",
      "Epoch 46/50\n",
      "101/101 [==============================] - 1s 8ms/step - loss: 0.7016\n",
      "Epoch 47/50\n",
      "101/101 [==============================] - 1s 7ms/step - loss: 0.6950\n",
      "Epoch 48/50\n",
      "101/101 [==============================] - 1s 7ms/step - loss: 0.6901\n",
      "Epoch 49/50\n",
      "101/101 [==============================] - 1s 7ms/step - loss: 0.6850\n",
      "Epoch 50/50\n",
      "101/101 [==============================] - 1s 8ms/step - loss: 0.6923\n"
     ]
    },
    {
     "data": {
      "text/plain": [
       "<keras.src.callbacks.History at 0x169c13730>"
      ]
     },
     "execution_count": 150,
     "metadata": {},
     "output_type": "execute_result"
    }
   ],
   "source": [
    "usdc_model = create_model(3, time_step)\n",
    "usdc_model.fit(X_train, y_train, epochs=50, batch_size=64)"
   ]
  },
  {
   "cell_type": "code",
   "execution_count": 151,
   "metadata": {},
   "outputs": [
    {
     "name": "stdout",
     "output_type": "stream",
     "text": [
      "201/201 [==============================] - 1s 2ms/step\n",
      "50/50 [==============================] - 0s 2ms/step\n",
      "Train Score: 0.00074499933187780983 RMSE\n",
      "Test Score: 0.00136117079298918742 RMSE\n"
     ]
    },
    {
     "data": {
      "text/plain": [
       "(array([[1.0000317 ],\n",
       "        [1.0001844 ],\n",
       "        [0.9999051 ],\n",
       "        ...,\n",
       "        [0.99999505],\n",
       "        [1.0001348 ],\n",
       "        [1.000056  ]], dtype=float32),\n",
       " array([[1.0000049],\n",
       "        [1.0000014],\n",
       "        [1.000011 ],\n",
       "        ...,\n",
       "        [1.0000411],\n",
       "        [1.0004889],\n",
       "        [1.0002958]], dtype=float32))"
      ]
     },
     "execution_count": 151,
     "metadata": {},
     "output_type": "execute_result"
    }
   ],
   "source": [
    "predictions(usdc_model, X_train, y_train, X_test, y_test, all_prices)"
   ]
  },
  {
   "cell_type": "code",
   "execution_count": 152,
   "metadata": {},
   "outputs": [],
   "source": [
    "import pickle\n",
    "with open('usdc_model.pkl', 'wb') as file:\n",
    "    pickle.dump(usdc_model, file)"
   ]
  },
  {
   "cell_type": "markdown",
   "metadata": {},
   "source": [
    "## DAI Generalized Model with Price, Volume, Market Cap"
   ]
  },
  {
   "cell_type": "code",
   "execution_count": 154,
   "metadata": {},
   "outputs": [
    {
     "name": "stdout",
     "output_type": "stream",
     "text": [
      "Epoch 1/50\n",
      "101/101 [==============================] - 4s 7ms/step - loss: 0.6845\n",
      "Epoch 2/50\n",
      "101/101 [==============================] - 1s 8ms/step - loss: 0.6616\n",
      "Epoch 3/50\n",
      "101/101 [==============================] - 1s 7ms/step - loss: 0.6532\n",
      "Epoch 4/50\n",
      "101/101 [==============================] - 1s 7ms/step - loss: 0.6509\n",
      "Epoch 5/50\n",
      "101/101 [==============================] - 1s 7ms/step - loss: 0.6419\n",
      "Epoch 6/50\n",
      "101/101 [==============================] - 1s 7ms/step - loss: 0.6427\n",
      "Epoch 7/50\n",
      "101/101 [==============================] - 1s 7ms/step - loss: 0.6417\n",
      "Epoch 8/50\n",
      "101/101 [==============================] - 1s 7ms/step - loss: 0.6381\n",
      "Epoch 9/50\n",
      "101/101 [==============================] - 1s 7ms/step - loss: 0.6380\n",
      "Epoch 10/50\n",
      "101/101 [==============================] - 1s 7ms/step - loss: 0.6364\n",
      "Epoch 11/50\n",
      "101/101 [==============================] - 1s 7ms/step - loss: 0.6347\n",
      "Epoch 12/50\n",
      "101/101 [==============================] - 1s 7ms/step - loss: 0.6349\n",
      "Epoch 13/50\n",
      "101/101 [==============================] - 1s 7ms/step - loss: 0.6348\n",
      "Epoch 14/50\n",
      "101/101 [==============================] - 1s 7ms/step - loss: 0.6360\n",
      "Epoch 15/50\n",
      "101/101 [==============================] - 1s 7ms/step - loss: 0.6346\n",
      "Epoch 16/50\n",
      "101/101 [==============================] - 1s 7ms/step - loss: 0.6322\n",
      "Epoch 17/50\n",
      "101/101 [==============================] - 1s 7ms/step - loss: 0.6325\n",
      "Epoch 18/50\n",
      "101/101 [==============================] - 1s 7ms/step - loss: 0.6308\n",
      "Epoch 19/50\n",
      "101/101 [==============================] - 1s 8ms/step - loss: 0.6301\n",
      "Epoch 20/50\n",
      "101/101 [==============================] - 1s 7ms/step - loss: 0.6297\n",
      "Epoch 21/50\n",
      "101/101 [==============================] - 1s 8ms/step - loss: 0.6281\n",
      "Epoch 22/50\n",
      "101/101 [==============================] - 1s 7ms/step - loss: 0.6261\n",
      "Epoch 23/50\n",
      "101/101 [==============================] - 1s 7ms/step - loss: 0.6271\n",
      "Epoch 24/50\n",
      "101/101 [==============================] - 1s 7ms/step - loss: 0.6244\n",
      "Epoch 25/50\n",
      "101/101 [==============================] - 1s 7ms/step - loss: 0.6234\n",
      "Epoch 26/50\n",
      "101/101 [==============================] - 1s 8ms/step - loss: 0.6215\n",
      "Epoch 27/50\n",
      "101/101 [==============================] - 1s 8ms/step - loss: 0.6210\n",
      "Epoch 28/50\n",
      "101/101 [==============================] - 1s 7ms/step - loss: 0.6185\n",
      "Epoch 29/50\n",
      "101/101 [==============================] - 1s 8ms/step - loss: 0.6162\n",
      "Epoch 30/50\n",
      "101/101 [==============================] - 1s 8ms/step - loss: 0.6133\n",
      "Epoch 31/50\n",
      "101/101 [==============================] - 1s 7ms/step - loss: 0.6109\n",
      "Epoch 32/50\n",
      "101/101 [==============================] - 1s 7ms/step - loss: 0.6097\n",
      "Epoch 33/50\n",
      "101/101 [==============================] - 1s 8ms/step - loss: 0.6080\n",
      "Epoch 34/50\n",
      "101/101 [==============================] - 1s 8ms/step - loss: 0.6042\n",
      "Epoch 35/50\n",
      "101/101 [==============================] - 1s 7ms/step - loss: 0.6027\n",
      "Epoch 36/50\n",
      "101/101 [==============================] - 1s 8ms/step - loss: 0.6020\n",
      "Epoch 37/50\n",
      "101/101 [==============================] - 1s 8ms/step - loss: 0.5981\n",
      "Epoch 38/50\n",
      "101/101 [==============================] - 1s 8ms/step - loss: 0.5937\n",
      "Epoch 39/50\n",
      "101/101 [==============================] - 1s 9ms/step - loss: 0.5920\n",
      "Epoch 40/50\n",
      "101/101 [==============================] - 1s 8ms/step - loss: 0.5887\n",
      "Epoch 41/50\n",
      "101/101 [==============================] - 1s 8ms/step - loss: 0.5860\n",
      "Epoch 42/50\n",
      "101/101 [==============================] - 1s 7ms/step - loss: 0.5837\n",
      "Epoch 43/50\n",
      "101/101 [==============================] - 1s 8ms/step - loss: 0.5817\n",
      "Epoch 44/50\n",
      "101/101 [==============================] - 1s 7ms/step - loss: 0.5734\n",
      "Epoch 45/50\n",
      "101/101 [==============================] - 1s 8ms/step - loss: 0.5736\n",
      "Epoch 46/50\n",
      "101/101 [==============================] - 1s 7ms/step - loss: 0.5686\n",
      "Epoch 47/50\n",
      "101/101 [==============================] - 1s 7ms/step - loss: 0.5658\n",
      "Epoch 48/50\n",
      "101/101 [==============================] - 1s 7ms/step - loss: 0.5624\n",
      "Epoch 49/50\n",
      "101/101 [==============================] - 1s 8ms/step - loss: 0.5567\n",
      "Epoch 50/50\n",
      "101/101 [==============================] - 1s 8ms/step - loss: 0.5567\n",
      "201/201 [==============================] - 1s 2ms/step\n",
      "50/50 [==============================] - 0s 2ms/step\n",
      "Train Score: 0.00075307980192766862 RMSE\n",
      "Test Score: 0.00129730781786372329 RMSE\n"
     ]
    },
    {
     "data": {
      "text/plain": [
       "(array([[0.99977475],\n",
       "        [0.9998273 ],\n",
       "        [0.99978286],\n",
       "        ...,\n",
       "        [0.9985471 ],\n",
       "        [0.9985286 ],\n",
       "        [0.99898535]], dtype=float32),\n",
       " array([[0.9992569 ],\n",
       "        [0.99940795],\n",
       "        [0.9994439 ],\n",
       "        ...,\n",
       "        [0.99955523],\n",
       "        [1.0003151 ],\n",
       "        [1.0004244 ]], dtype=float32))"
      ]
     },
     "execution_count": 154,
     "metadata": {},
     "output_type": "execute_result"
    }
   ],
   "source": [
    "dai_price_1 = json_to_prices('dai_general_data/dai_april_june.json')\n",
    "dai_price_2 = json_to_prices('dai_general_data/dai_june_aug.json')  \n",
    "dai_price_3 = json_to_prices('dai_general_data/dai_aug_oct.json')\n",
    "dai_price_4 = json_to_prices('dai_general_data/dai_oct_dec.json')\n",
    "dai_price_5 = json_to_prices('dai_general_data/dai_dec_feb.json')\n",
    "dai_price_6 = json_to_prices('dai_general_data/dai_feb_march.json')\n",
    "\n",
    "dai_prices = pd.concat([dai_price_1, dai_price_2, dai_price_3, dai_price_4, dai_price_5, dai_price_6])\n",
    "\n",
    "prices = dai_prices.dropna()\n",
    "all_prices = prices.reset_index(drop=True)\n",
    "\n",
    "dai_market_caps_1 = json_to_market_cap('dai_general_data/dai_april_june.json')\n",
    "dai_market_caps_2 = json_to_market_cap('dai_general_data/dai_june_aug.json')\n",
    "dai_market_caps_3 = json_to_market_cap('dai_general_data/dai_aug_oct.json')\n",
    "dai_market_caps_4 = json_to_market_cap('dai_general_data/dai_oct_dec.json')\n",
    "dai_market_caps_5 = json_to_market_cap('dai_general_data/dai_dec_feb.json')\n",
    "dai_market_caps_6 = json_to_market_cap('dai_general_data/dai_feb_march.json')\n",
    "\n",
    "dai_market_caps = pd.concat([dai_market_caps_1, dai_market_caps_2, dai_market_caps_3, dai_market_caps_4, dai_market_caps_5, dai_market_caps_6])\n",
    "\n",
    "market_caps = dai_market_caps.dropna()\n",
    "all_market_caps = market_caps.reset_index(drop=True)\n",
    "\n",
    "dai_total_volumes_1 = json_to_volume('dai_general_data/dai_april_june.json')\n",
    "dai_total_volumes_2 = json_to_volume('dai_general_data/dai_june_aug.json')\n",
    "dai_total_volumes_3 = json_to_volume('dai_general_data/dai_aug_oct.json')\n",
    "dai_total_volumes_4 = json_to_volume('dai_general_data/dai_oct_dec.json')\n",
    "dai_total_volumes_5 = json_to_volume('dai_general_data/dai_dec_feb.json')\n",
    "dai_total_volumes_6 = json_to_volume('dai_general_data/dai_feb_march.json')\n",
    "\n",
    "dai_total_volumes = pd.concat([dai_total_volumes_1, dai_total_volumes_2, dai_total_volumes_3, dai_total_volumes_4, dai_total_volumes_5, dai_total_volumes_6])\n",
    "\n",
    "total_volumes = dai_total_volumes.dropna()\n",
    "all_total_volumes = total_volumes.reset_index(drop=True)\n",
    "\n",
    "normalized_prices = normalize_prices(all_prices)\n",
    "normalized_market_caps = normalize_prices(all_market_caps)\n",
    "normalized_volumes = normalize_prices(all_total_volumes)\n",
    "\n",
    "combined_data = pd.concat([normalized_prices, normalized_market_caps, normalized_volumes], axis=1)\n",
    "\n",
    "# drop rows with NaN values\n",
    "combined_data = combined_data.dropna()\n",
    "combined_data = combined_data.reset_index(drop=True)\n",
    "\n",
    "time_step = 10\n",
    "\n",
    "combined_training_data, combined_test_data = split_data(combined_data)\n",
    "\n",
    "X_train, y_train = create_sequences(combined_training_data, time_step)\n",
    "X_test, y_test = create_sequences(combined_test_data, time_step)\n",
    "\n",
    "dai_price_model = create_model(3, time_step)\n",
    "dai_price_model.fit(X_train, y_train, epochs=50, batch_size=64)\n",
    "\n",
    "predictions(dai_price_model, X_train, y_train, X_test, y_test, all_prices)"
   ]
  },
  {
   "cell_type": "code",
   "execution_count": 155,
   "metadata": {},
   "outputs": [],
   "source": [
    "import pickle\n",
    "with open('dai_price_model.pkl', 'wb') as file:\n",
    "    pickle.dump(dai_price_model, file)"
   ]
  },
  {
   "cell_type": "markdown",
   "metadata": {},
   "source": [
    "## USDT Generalized Model with Price, Volume, Market Cap"
   ]
  },
  {
   "cell_type": "code",
   "execution_count": 160,
   "metadata": {},
   "outputs": [
    {
     "name": "stdout",
     "output_type": "stream",
     "text": [
      "Epoch 1/50\n",
      "101/101 [==============================] - 4s 7ms/step - loss: 0.5863\n",
      "Epoch 2/50\n",
      "101/101 [==============================] - 1s 7ms/step - loss: 0.5687\n",
      "Epoch 3/50\n",
      "101/101 [==============================] - 1s 8ms/step - loss: 0.5657\n",
      "Epoch 4/50\n",
      "101/101 [==============================] - 1s 9ms/step - loss: 0.5641\n",
      "Epoch 5/50\n",
      "101/101 [==============================] - 1s 8ms/step - loss: 0.5653\n",
      "Epoch 6/50\n",
      "101/101 [==============================] - 1s 7ms/step - loss: 0.5621\n",
      "Epoch 7/50\n",
      "101/101 [==============================] - 1s 8ms/step - loss: 0.5620\n",
      "Epoch 8/50\n",
      "101/101 [==============================] - 1s 7ms/step - loss: 0.5605\n",
      "Epoch 9/50\n",
      "101/101 [==============================] - 1s 7ms/step - loss: 0.5616\n",
      "Epoch 10/50\n",
      "101/101 [==============================] - 1s 7ms/step - loss: 0.5616\n",
      "Epoch 11/50\n",
      "101/101 [==============================] - 1s 7ms/step - loss: 0.5601\n",
      "Epoch 12/50\n",
      "101/101 [==============================] - 1s 7ms/step - loss: 0.5589\n",
      "Epoch 13/50\n",
      "101/101 [==============================] - 1s 7ms/step - loss: 0.5576\n",
      "Epoch 14/50\n",
      "101/101 [==============================] - 1s 7ms/step - loss: 0.5570\n",
      "Epoch 15/50\n",
      "101/101 [==============================] - 1s 8ms/step - loss: 0.5584\n",
      "Epoch 16/50\n",
      "101/101 [==============================] - 1s 7ms/step - loss: 0.5564\n",
      "Epoch 17/50\n",
      "101/101 [==============================] - 1s 7ms/step - loss: 0.5544\n",
      "Epoch 18/50\n",
      "101/101 [==============================] - 1s 8ms/step - loss: 0.5540\n",
      "Epoch 19/50\n",
      "101/101 [==============================] - 1s 8ms/step - loss: 0.5525\n",
      "Epoch 20/50\n",
      "101/101 [==============================] - 1s 7ms/step - loss: 0.5526\n",
      "Epoch 21/50\n",
      "101/101 [==============================] - 1s 7ms/step - loss: 0.5522\n",
      "Epoch 22/50\n",
      "101/101 [==============================] - 1s 8ms/step - loss: 0.5521\n",
      "Epoch 23/50\n",
      "101/101 [==============================] - 1s 7ms/step - loss: 0.5509\n",
      "Epoch 24/50\n",
      "101/101 [==============================] - 1s 8ms/step - loss: 0.5498\n",
      "Epoch 25/50\n",
      "101/101 [==============================] - 1s 11ms/step - loss: 0.5496\n",
      "Epoch 26/50\n",
      "101/101 [==============================] - 1s 7ms/step - loss: 0.5478\n",
      "Epoch 27/50\n",
      "101/101 [==============================] - 1s 7ms/step - loss: 0.5463\n",
      "Epoch 28/50\n",
      "101/101 [==============================] - 1s 7ms/step - loss: 0.5477\n",
      "Epoch 29/50\n",
      "101/101 [==============================] - 1s 7ms/step - loss: 0.5470\n",
      "Epoch 30/50\n",
      "101/101 [==============================] - 1s 7ms/step - loss: 0.5451\n",
      "Epoch 31/50\n",
      "101/101 [==============================] - 1s 8ms/step - loss: 0.5435\n",
      "Epoch 32/50\n",
      "101/101 [==============================] - 1s 7ms/step - loss: 0.5425\n",
      "Epoch 33/50\n",
      "101/101 [==============================] - 1s 7ms/step - loss: 0.5415\n",
      "Epoch 34/50\n",
      "101/101 [==============================] - 1s 8ms/step - loss: 0.5387\n",
      "Epoch 35/50\n",
      "101/101 [==============================] - 1s 7ms/step - loss: 0.5429\n",
      "Epoch 36/50\n",
      "101/101 [==============================] - 1s 8ms/step - loss: 0.5380\n",
      "Epoch 37/50\n",
      "101/101 [==============================] - 1s 7ms/step - loss: 0.5361\n",
      "Epoch 38/50\n",
      "101/101 [==============================] - 1s 7ms/step - loss: 0.5359\n",
      "Epoch 39/50\n",
      "101/101 [==============================] - 1s 7ms/step - loss: 0.5334\n",
      "Epoch 40/50\n",
      "101/101 [==============================] - 1s 9ms/step - loss: 0.5333\n",
      "Epoch 41/50\n",
      "101/101 [==============================] - 1s 8ms/step - loss: 0.5294\n",
      "Epoch 42/50\n",
      "101/101 [==============================] - 1s 9ms/step - loss: 0.5361\n",
      "Epoch 43/50\n",
      "101/101 [==============================] - 1s 7ms/step - loss: 0.5291\n",
      "Epoch 44/50\n",
      "101/101 [==============================] - 1s 9ms/step - loss: 0.5233\n",
      "Epoch 45/50\n",
      "101/101 [==============================] - 1s 8ms/step - loss: 0.5230\n",
      "Epoch 46/50\n",
      "101/101 [==============================] - 1s 7ms/step - loss: 0.5217\n",
      "Epoch 47/50\n",
      "101/101 [==============================] - 1s 7ms/step - loss: 0.5192\n",
      "Epoch 48/50\n",
      "101/101 [==============================] - 1s 7ms/step - loss: 0.5160\n",
      "Epoch 49/50\n",
      "101/101 [==============================] - 1s 7ms/step - loss: 0.5137\n",
      "Epoch 50/50\n",
      "101/101 [==============================] - 1s 8ms/step - loss: 0.5148\n",
      "201/201 [==============================] - 1s 2ms/step\n",
      "50/50 [==============================] - 0s 2ms/step\n",
      "Train Score: 0.00064806986045720660 RMSE\n",
      "Test Score: 0.00116912308979104460 RMSE\n"
     ]
    },
    {
     "data": {
      "text/plain": [
       "(array([[1.0004435 ],\n",
       "        [1.0004016 ],\n",
       "        [1.000385  ],\n",
       "        ...,\n",
       "        [0.999188  ],\n",
       "        [0.99916357],\n",
       "        [0.9991735 ]], dtype=float32),\n",
       " array([[0.999182  ],\n",
       "        [0.9991957 ],\n",
       "        [0.99916846],\n",
       "        ...,\n",
       "        [0.9992509 ],\n",
       "        [0.9991336 ],\n",
       "        [0.9992691 ]], dtype=float32))"
      ]
     },
     "execution_count": 160,
     "metadata": {},
     "output_type": "execute_result"
    }
   ],
   "source": [
    "usdt_prices_1 = json_to_prices('usdt_general_data/tether_april_june.json')\n",
    "usdt_prices_2 = json_to_prices('usdt_general_data/tether_june_aug.json')\n",
    "usdt_prices_3 = json_to_prices('usdt_general_data/tether_aug_oct.json')\n",
    "usdt_prices_4 = json_to_prices('usdt_general_data/tether_oct_dec.json')\n",
    "usdt_prices_5 = json_to_prices('usdt_general_data/tether_dec_feb.json')\n",
    "usdt_prices_6 = json_to_prices('usdt_general_data/tether_feb_march.json')\n",
    "\n",
    "usdt_prices = pd.concat([usdt_prices_1, usdt_prices_2, usdt_prices_3, usdt_prices_4, usdt_prices_5, usdt_prices_6])\n",
    "\n",
    "prices = usdt_prices.dropna()\n",
    "all_prices = prices.reset_index(drop=True)\n",
    "\n",
    "usdt_market_caps_1 = json_to_market_cap('usdt_general_data/tether_april_june.json')\n",
    "usdt_market_caps_2 = json_to_market_cap('usdt_general_data/tether_june_aug.json')\n",
    "usdt_market_caps_3 = json_to_market_cap('usdt_general_data/tether_aug_oct.json')\n",
    "usdt_market_caps_4 = json_to_market_cap('usdt_general_data/tether_oct_dec.json')\n",
    "usdt_market_caps_5 = json_to_market_cap('usdt_general_data/tether_dec_feb.json')\n",
    "usdt_market_caps_6 = json_to_market_cap('usdt_general_data/tether_feb_march.json')\n",
    "\n",
    "usdt_market_caps = pd.concat([usdt_market_caps_1, usdt_market_caps_2, usdt_market_caps_3, usdt_market_caps_4, usdt_market_caps_5, usdt_market_caps_6])\n",
    "\n",
    "market_caps = usdt_market_caps.dropna()\n",
    "all_market_caps = market_caps.reset_index(drop=True)\n",
    "\n",
    "usdt_total_volumes_1 = json_to_volume('usdt_general_data/tether_april_june.json')\n",
    "usdt_total_volumes_2 = json_to_volume('usdt_general_data/tether_june_aug.json')\n",
    "usdt_total_volumes_3 = json_to_volume('usdt_general_data/tether_aug_oct.json')\n",
    "usdt_total_volumes_4 = json_to_volume('usdt_general_data/tether_oct_dec.json')\n",
    "usdt_total_volumes_5 = json_to_volume('usdt_general_data/tether_dec_feb.json')\n",
    "usdt_total_volumes_6 = json_to_volume('usdt_general_data/tether_feb_march.json')\n",
    "\n",
    "usdt_total_volumes = pd.concat([usdt_total_volumes_1, usdt_total_volumes_2, usdt_total_volumes_3, usdt_total_volumes_4, usdt_total_volumes_5, usdt_total_volumes_6])\n",
    "\n",
    "total_volumes = usdt_total_volumes.dropna()\n",
    "all_total_volumes = total_volumes.reset_index(drop=True)\n",
    "\n",
    "\n",
    "normalized_prices = normalize_prices(all_prices)\n",
    "normalized_market_caps = normalize_prices(all_market_caps)\n",
    "normalized_volumes = normalize_prices(all_total_volumes)\n",
    "\n",
    "combined_data = pd.concat([normalized_prices, normalized_market_caps, normalized_volumes], axis=1)\n",
    "\n",
    "# drop rows with NaN values\n",
    "combined_data = combined_data.dropna()\n",
    "combined_data = combined_data.reset_index(drop=True)\n",
    "\n",
    "time_step = 10\n",
    "\n",
    "combined_training_data, combined_test_data = split_data(combined_data)\n",
    "\n",
    "X_train, y_train = create_sequences(combined_training_data, time_step)\n",
    "X_test, y_test = create_sequences(combined_test_data, time_step)\n",
    "\n",
    "usdt_model = create_model(3, time_step)\n",
    "usdt_model.fit(X_train, y_train, epochs=50, batch_size=64)\n",
    "\n",
    "predictions(usdt_model, X_train, y_train, X_test, y_test, all_prices)"
   ]
  },
  {
   "cell_type": "code",
   "execution_count": 161,
   "metadata": {},
   "outputs": [],
   "source": [
    "import pickle\n",
    "with open('usdt_model.pkl', 'wb') as file:\n",
    "    pickle.dump(usdt_model, file)"
   ]
  },
  {
   "cell_type": "code",
   "execution_count": 162,
   "metadata": {},
   "outputs": [
    {
     "name": "stdout",
     "output_type": "stream",
     "text": [
      "Model: \"sequential_8\"\n",
      "_________________________________________________________________\n",
      " Layer (type)                Output Shape              Param #   \n",
      "=================================================================\n",
      " lstm_16 (LSTM)              (None, 10, 50)            10800     \n",
      "                                                                 \n",
      " lstm_17 (LSTM)              (None, 50)                20200     \n",
      "                                                                 \n",
      " dense_8 (Dense)             (None, 1)                 51        \n",
      "                                                                 \n",
      "=================================================================\n",
      "Total params: 31051 (121.29 KB)\n",
      "Trainable params: 31051 (121.29 KB)\n",
      "Non-trainable params: 0 (0.00 Byte)\n",
      "_________________________________________________________________\n",
      "None\n"
     ]
    }
   ],
   "source": [
    "# load model back from pickle file\n",
    "with open('usdt_model.pkl', 'rb') as file:\n",
    "    usdt_model = pickle.load(file)\n",
    "    \n",
    "print(usdt_model.summary())"
   ]
  }
 ],
 "metadata": {
  "kernelspec": {
   "display_name": "venv",
   "language": "python",
   "name": "python3"
  },
  "language_info": {
   "codemirror_mode": {
    "name": "ipython",
    "version": 3
   },
   "file_extension": ".py",
   "mimetype": "text/x-python",
   "name": "python",
   "nbconvert_exporter": "python",
   "pygments_lexer": "ipython3",
   "version": "3.10.2"
  }
 },
 "nbformat": 4,
 "nbformat_minor": 2
}
