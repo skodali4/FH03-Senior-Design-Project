{
 "cells": [
  {
   "cell_type": "code",
   "execution_count": 35,
   "metadata": {},
   "outputs": [],
   "source": [
    "import numpy as np\n",
    "import pandas as pd  \n",
    "import matplotlib.pyplot as plt \n",
    "import seaborn as sns\n",
    "import warnings\n",
    "from scipy.stats import pearsonr \n",
    "from sklearn.model_selection import train_test_split\n",
    "from sklearn.metrics import mean_squared_error, r2_score\n",
    "from statsmodels.tsa.arima.model import ARIMA\n",
    "import xgboost as xgb\n",
    "import tensorflow as tf\n",
    "from tensorflow.keras.models import Sequential\n",
    "from tensorflow.keras.layers import Dense, LSTM, Dropout, Bidirectional\n",
    "from math import sqrt\n",
    "from keras.models import Sequential\n",
    "from keras.layers import LSTM, Dense, Dropout\n",
    "import tensorflow as tf\n",
    "from tensorflow.keras.models import Sequential\n",
    "from sklearn.preprocessing import MinMaxScaler\n",
    "from tensorflow.keras.layers import Dense, LSTM, Dropout, Bidirectional\n",
    "from tensorflow.keras.models import Sequential\n",
    "from tensorflow.keras.layers import LSTM, Dense\n",
    "from sklearn.preprocessing import MinMaxScaler"
   ]
  },
  {
   "cell_type": "code",
   "execution_count": 2,
   "metadata": {},
   "outputs": [],
   "source": [
    "def json_to_prices(json):\n",
    "    df = pd.read_json(json)\n",
    "    prices = df['prices']\n",
    "    coin_prices = pd.DataFrame(prices.tolist(), columns=['time', 'price'])\n",
    "    prices = coin_prices['price']\n",
    "    return prices"
   ]
  },
  {
   "cell_type": "code",
   "execution_count": 21,
   "metadata": {},
   "outputs": [],
   "source": [
    "def normalize_prices(prices):\n",
    "    normalized_prices = (prices - np.mean(prices)) / np.std(prices)\n",
    "    return normalized_prices\n",
    "\n",
    "def split_data(normalized_prices, split=0.8):\n",
    "    train_size = int(len(normalized_prices) * split)\n",
    "    test_size = len(normalized_prices) - train_size\n",
    "    \n",
    "    training_data = normalized_prices[0:train_size]\n",
    "    test_data = normalized_prices[train_size:len(normalized_prices)]\n",
    "    return training_data, test_data\n",
    "\n",
    "def create_dataset_helper(data, time_step=1):\n",
    "    X, y = [], []\n",
    "    # data = data.reset_index(drop=True)\n",
    "\n",
    "    for i in range(len(data) - time_step):      \n",
    "        X.append(data[i:(i + time_step)])\n",
    "        y.append(data[i + time_step])\n",
    "    return np.array(X), np.array(y)\n",
    "\n",
    "def create_dataset(data, time_steps=1):\n",
    "    X, y = create_dataset_helper(data, time_steps)\n",
    "    X = X.reshape(X.shape[0], X.shape[1], 1)\n",
    "    return X, y\n",
    "\n",
    "def create_sequences(data, time_steps):\n",
    "    X, y = [], []\n",
    "    for i in range(time_steps, len(data)):\n",
    "        X.append(data[i-time_steps:i])\n",
    "        y.append(data[i, 0])  # Assuming the first column is DAI price\n",
    "    return np.array(X), np.array(y)"
   ]
  },
  {
   "cell_type": "code",
   "execution_count": 29,
   "metadata": {},
   "outputs": [],
   "source": [
    "def create_model(features, time_step):\n",
    "    model = Sequential()\n",
    "    model.add(LSTM(50, return_sequences=True, input_shape=(time_step, features)))\n",
    "    model.add(LSTM(50, return_sequences=False))\n",
    "    model.add(Dense(1))\n",
    "    model.compile(optimizer='adam', loss='mean_squared_error')\n",
    "    return model\n",
    "\n",
    "# def create_multivariate_model():\n",
    "#     model = Sequential()\n",
    "#     model.add(LSTM(units=50, return_sequences=True, input_shape=(time_step, 3)))\n",
    "#     model.add(LSTM(units=50))\n",
    "#     model.add(Dense(1))\n",
    "#     model.compile(optimizer='adam', loss='mean_squared_error')\n",
    "#     return model\n",
    "\n",
    "def predictions(model, X_train, y_train, X_test, y_test, prices):\n",
    "    train_predictions = model.predict(X_train)\n",
    "    test_predictions = model.predict(X_test)\n",
    "    \n",
    "    train_predict = (train_predictions * np.std(prices)) + np.mean(prices)\n",
    "    y_train = (y_train * np.std(prices)) + np.mean(prices)\n",
    "    test_predict = (test_predictions * np.std(prices)) + np.mean(prices)\n",
    "    y_test = (y_test * np.std(prices)) + np.mean(prices)\n",
    "    \n",
    "    train_score = sqrt(mean_squared_error(y_train, train_predict))\n",
    "    print('Train Score: %.20f RMSE' % (train_score))\n",
    "    test_score = sqrt(mean_squared_error(y_test, test_predict))\n",
    "    print('Test Score: %.20f RMSE' % (test_score))\n",
    "    return train_predict, test_predict\n",
    "    "
   ]
  },
  {
   "cell_type": "code",
   "execution_count": 22,
   "metadata": {},
   "outputs": [],
   "source": [
    "# Load the data\n",
    "\n",
    "dai = json_to_prices('dai90days.json')\n",
    "eth = json_to_prices('ethereum90days.json')\n",
    "usdc = json_to_prices('usdc90days.json')\n",
    "\n",
    "#normalize data\n",
    "\n",
    "normalized_dai = normalize_prices(dai)\n",
    "normalized_eth = normalize_prices(eth)\n",
    "normalized_usdc = normalize_prices(usdc)\n"
   ]
  },
  {
   "cell_type": "code",
   "execution_count": 23,
   "metadata": {},
   "outputs": [],
   "source": [
    "# combine the data\n",
    "\n",
    "combined_data = pd.concat([normalized_dai, normalized_eth, normalized_usdc], axis=1)"
   ]
  },
  {
   "cell_type": "code",
   "execution_count": 24,
   "metadata": {},
   "outputs": [
    {
     "name": "stdout",
     "output_type": "stream",
     "text": [
      "[[ 1.36337107 -1.50989476  0.31397376]\n",
      " [ 0.02828203 -1.49104902 -0.13996421]\n",
      " [ 0.67319998 -1.50721905 -0.70738667]\n",
      " ...\n",
      " [ 1.34129665  3.23881176  0.54094275]\n",
      " [ 2.75704907  3.19242724 -1.50177812]\n",
      " [ 0.69631532  3.21266332  0.08700478]]\n"
     ]
    }
   ],
   "source": [
    "# remove null values\n",
    "\n",
    "combined_data = combined_data.dropna()\n",
    "\n",
    "# remove column names\n",
    "combined_data = combined_data.values\n",
    "print(combined_data)"
   ]
  },
  {
   "cell_type": "code",
   "execution_count": 25,
   "metadata": {},
   "outputs": [],
   "source": [
    "#split the data\n",
    "time_step = 10\n",
    "\n",
    "combined_training_data, combined_test_data = split_data(combined_data)\n",
    "\n",
    "X_train, y_train = create_sequences(combined_training_data, time_step)\n",
    "X_test, y_test = create_sequences(combined_test_data, time_step)"
   ]
  },
  {
   "cell_type": "code",
   "execution_count": 26,
   "metadata": {},
   "outputs": [
    {
     "name": "stdout",
     "output_type": "stream",
     "text": [
      "(1718, 10, 3) (1718,) (422, 10, 3) (422,)\n"
     ]
    }
   ],
   "source": [
    "print(X_train.shape, y_train.shape, X_test.shape, y_test.shape)"
   ]
  },
  {
   "cell_type": "code",
   "execution_count": 30,
   "metadata": {},
   "outputs": [
    {
     "name": "stdout",
     "output_type": "stream",
     "text": [
      "Epoch 1/50\n",
      "27/27 [==============================] - 3s 8ms/step - loss: 0.8754\n",
      "Epoch 2/50\n",
      "27/27 [==============================] - 0s 7ms/step - loss: 0.8457\n",
      "Epoch 3/50\n",
      "27/27 [==============================] - 0s 7ms/step - loss: 0.8335\n",
      "Epoch 4/50\n",
      "27/27 [==============================] - 0s 7ms/step - loss: 0.8309\n",
      "Epoch 5/50\n",
      "27/27 [==============================] - 0s 7ms/step - loss: 0.8202\n",
      "Epoch 6/50\n",
      "27/27 [==============================] - 0s 7ms/step - loss: 0.8172\n",
      "Epoch 7/50\n",
      "27/27 [==============================] - 0s 7ms/step - loss: 0.8153\n",
      "Epoch 8/50\n",
      "27/27 [==============================] - 0s 7ms/step - loss: 0.8068\n",
      "Epoch 9/50\n",
      "27/27 [==============================] - 0s 7ms/step - loss: 0.7997\n",
      "Epoch 10/50\n",
      "27/27 [==============================] - 0s 7ms/step - loss: 0.7970\n",
      "Epoch 11/50\n",
      "27/27 [==============================] - 0s 7ms/step - loss: 0.7944\n",
      "Epoch 12/50\n",
      "27/27 [==============================] - 0s 7ms/step - loss: 0.8027\n",
      "Epoch 13/50\n",
      "27/27 [==============================] - 0s 7ms/step - loss: 0.7960\n",
      "Epoch 14/50\n",
      "27/27 [==============================] - 0s 7ms/step - loss: 0.7905\n",
      "Epoch 15/50\n",
      "27/27 [==============================] - 0s 7ms/step - loss: 0.7878\n",
      "Epoch 16/50\n",
      "27/27 [==============================] - 0s 7ms/step - loss: 0.7916\n",
      "Epoch 17/50\n",
      "27/27 [==============================] - 0s 7ms/step - loss: 0.7876\n",
      "Epoch 18/50\n",
      "27/27 [==============================] - 0s 7ms/step - loss: 0.7887\n",
      "Epoch 19/50\n",
      "27/27 [==============================] - 0s 7ms/step - loss: 0.7838\n",
      "Epoch 20/50\n",
      "27/27 [==============================] - 0s 7ms/step - loss: 0.7816\n",
      "Epoch 21/50\n",
      "27/27 [==============================] - 0s 7ms/step - loss: 0.7800\n",
      "Epoch 22/50\n",
      "27/27 [==============================] - 0s 7ms/step - loss: 0.7779\n",
      "Epoch 23/50\n",
      "27/27 [==============================] - 0s 7ms/step - loss: 0.7766\n",
      "Epoch 24/50\n",
      "27/27 [==============================] - 0s 7ms/step - loss: 0.7708\n",
      "Epoch 25/50\n",
      "27/27 [==============================] - 0s 7ms/step - loss: 0.7768\n",
      "Epoch 26/50\n",
      "27/27 [==============================] - 0s 7ms/step - loss: 0.7695\n",
      "Epoch 27/50\n",
      "27/27 [==============================] - 0s 7ms/step - loss: 0.7678\n",
      "Epoch 28/50\n",
      "27/27 [==============================] - 0s 7ms/step - loss: 0.7618\n",
      "Epoch 29/50\n",
      "27/27 [==============================] - 0s 8ms/step - loss: 0.7584\n",
      "Epoch 30/50\n",
      "27/27 [==============================] - 0s 8ms/step - loss: 0.7551\n",
      "Epoch 31/50\n",
      "27/27 [==============================] - 0s 7ms/step - loss: 0.7523\n",
      "Epoch 32/50\n",
      "27/27 [==============================] - 0s 7ms/step - loss: 0.7480\n",
      "Epoch 33/50\n",
      "27/27 [==============================] - 0s 8ms/step - loss: 0.7472\n",
      "Epoch 34/50\n",
      "27/27 [==============================] - 0s 7ms/step - loss: 0.7397\n",
      "Epoch 35/50\n",
      "27/27 [==============================] - 0s 7ms/step - loss: 0.7273\n",
      "Epoch 36/50\n",
      "27/27 [==============================] - 0s 7ms/step - loss: 0.7313\n",
      "Epoch 37/50\n",
      "27/27 [==============================] - 0s 7ms/step - loss: 0.7301\n",
      "Epoch 38/50\n",
      "27/27 [==============================] - 0s 7ms/step - loss: 0.7157\n",
      "Epoch 39/50\n",
      "27/27 [==============================] - 0s 7ms/step - loss: 0.7105\n",
      "Epoch 40/50\n",
      "27/27 [==============================] - 0s 7ms/step - loss: 0.7028\n",
      "Epoch 41/50\n",
      "27/27 [==============================] - 0s 7ms/step - loss: 0.7008\n",
      "Epoch 42/50\n",
      "27/27 [==============================] - 0s 8ms/step - loss: 0.6913\n",
      "Epoch 43/50\n",
      "27/27 [==============================] - 0s 7ms/step - loss: 0.6861\n",
      "Epoch 44/50\n",
      "27/27 [==============================] - 0s 7ms/step - loss: 0.6792\n",
      "Epoch 45/50\n",
      "27/27 [==============================] - 0s 7ms/step - loss: 0.6694\n",
      "Epoch 46/50\n",
      "27/27 [==============================] - 0s 7ms/step - loss: 0.6543\n",
      "Epoch 47/50\n",
      "27/27 [==============================] - 0s 9ms/step - loss: 0.6510\n",
      "Epoch 48/50\n",
      "27/27 [==============================] - 0s 8ms/step - loss: 0.6459\n",
      "Epoch 49/50\n",
      "27/27 [==============================] - 0s 7ms/step - loss: 0.6451\n",
      "Epoch 50/50\n",
      "27/27 [==============================] - 0s 7ms/step - loss: 0.6269\n"
     ]
    },
    {
     "data": {
      "text/plain": [
       "<keras.src.callbacks.History at 0x1676877f0>"
      ]
     },
     "execution_count": 30,
     "metadata": {},
     "output_type": "execute_result"
    }
   ],
   "source": [
    "model = create_model(3, time_step)\n",
    "model.fit(X_train, y_train, epochs=50, batch_size=64)"
   ]
  },
  {
   "cell_type": "code",
   "execution_count": 36,
   "metadata": {},
   "outputs": [
    {
     "name": "stdout",
     "output_type": "stream",
     "text": [
      "54/54 [==============================] - 0s 3ms/step\n",
      "14/14 [==============================] - 0s 2ms/step\n",
      "Train Score: 0.00093112595851800324 RMSE\n",
      "Test Score: 0.00151115447449825949 RMSE\n"
     ]
    }
   ],
   "source": [
    "train_predict, test_predict = predictions(model, X_train, y_train, X_test, y_test, dai_data)"
   ]
  }
 ],
 "metadata": {
  "kernelspec": {
   "display_name": "venv",
   "language": "python",
   "name": "python3"
  },
  "language_info": {
   "codemirror_mode": {
    "name": "ipython",
    "version": 3
   },
   "file_extension": ".py",
   "mimetype": "text/x-python",
   "name": "python",
   "nbconvert_exporter": "python",
   "pygments_lexer": "ipython3",
   "version": "3.10.2"
  }
 },
 "nbformat": 4,
 "nbformat_minor": 2
}
