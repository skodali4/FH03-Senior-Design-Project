{
 "cells": [
  {
   "cell_type": "code",
   "execution_count": 1,
   "metadata": {},
   "outputs": [
    {
     "name": "stderr",
     "output_type": "stream",
     "text": [
      "2024-03-05 17:02:25.677117: I tensorflow/core/platform/cpu_feature_guard.cc:182] This TensorFlow binary is optimized to use available CPU instructions in performance-critical operations.\n",
      "To enable the following instructions: AVX2 AVX512F AVX512_VNNI FMA, in other operations, rebuild TensorFlow with the appropriate compiler flags.\n"
     ]
    }
   ],
   "source": [
    "import numpy as np\n",
    "import pandas as pd  \n",
    "import matplotlib.pyplot as plt \n",
    "import seaborn as sns\n",
    "import warnings\n",
    "from scipy.stats import pearsonr \n",
    "from sklearn.model_selection import train_test_split\n",
    "from sklearn.metrics import mean_squared_error, r2_score\n",
    "from statsmodels.tsa.arima.model import ARIMA\n",
    "import xgboost as xgb\n",
    "import tensorflow as tf\n",
    "from tensorflow.keras.models import Sequential\n",
    "from tensorflow.keras.layers import Dense, LSTM, Dropout, Bidirectional\n",
    "from math import sqrt\n",
    "from keras.models import Sequential\n",
    "from keras.layers import LSTM, Dense, Dropout"
   ]
  },
  {
   "cell_type": "code",
   "execution_count": 2,
   "metadata": {},
   "outputs": [],
   "source": [
    "import tensorflow as tf\n",
    "from tensorflow.keras.models import Sequential\n",
    "from sklearn.preprocessing import MinMaxScaler\n",
    "from tensorflow.keras.layers import Dense, LSTM, Dropout, Bidirectional"
   ]
  },
  {
   "cell_type": "code",
   "execution_count": null,
   "metadata": {},
   "outputs": [],
   "source": [
    "\n",
    "\n",
    "batch_size = 32  # This is the number of samples per gradient update.\n",
    "time_steps = 100  # This is the 'window' of time steps you're looking at to predict the next step.\n",
    "features = 1  # For univariate data, the number of features is 1.\n",
    "\n",
    "model = Sequential([\n",
    "    LSTM(50, activation='relu', return_sequences=True, stateful=True, batch_input_shape=(batch_size, time_steps, features)),\n",
    "    Dropout(0.2),\n",
    "    LSTM(50, activation='relu', return_sequences=True, stateful=True),\n",
    "    Dropout(0.2),\n",
    "    LSTM(50, activation='relu', stateful=True),\n",
    "    Dense(1)\n",
    "])\n",
    "\n",
    "# Compile the model\n",
    "model.compile(optimizer='adam', loss='mean_squared_error')\n"
   ]
  },
  {
   "cell_type": "markdown",
   "metadata": {},
   "source": [
    "# USDC Univariate LSTM Time Series\n",
    "\n",
    "Approximately 2,000 samples"
   ]
  },
  {
   "cell_type": "code",
   "execution_count": 114,
   "metadata": {},
   "outputs": [],
   "source": [
    "def json_to_prices(json):\n",
    "    df = pd.read_json(json)\n",
    "    prices = df['prices']\n",
    "    coin_prices = pd.DataFrame(prices.tolist(), columns=['time', 'price'])\n",
    "    prices = coin_prices['price']\n",
    "    return prices"
   ]
  },
  {
   "cell_type": "code",
   "execution_count": 115,
   "metadata": {},
   "outputs": [],
   "source": [
    "prices = json_to_prices('usdc90days.json')"
   ]
  },
  {
   "cell_type": "code",
   "execution_count": 116,
   "metadata": {},
   "outputs": [],
   "source": [
    "def normalize_prices(prices):\n",
    "    normalized_prices = (prices - np.mean(prices)) / np.std(prices)\n",
    "    return normalized_prices"
   ]
  },
  {
   "cell_type": "code",
   "execution_count": 117,
   "metadata": {},
   "outputs": [
    {
     "name": "stdout",
     "output_type": "stream",
     "text": [
      "0       0.313974\n",
      "1      -0.139964\n",
      "2      -0.707387\n",
      "3      -0.026480\n",
      "4      -1.274809\n",
      "          ...   \n",
      "2155   -2.977077\n",
      "2156   -0.026480\n",
      "2157    0.540943\n",
      "2158   -1.501778\n",
      "2159    0.087005\n",
      "Name: price, Length: 2160, dtype: float64\n"
     ]
    }
   ],
   "source": [
    "# Normalize the prices data\n",
    "normalized_prices = (prices - np.mean(prices)) / np.std(prices)\n",
    "print(normalized_prices)"
   ]
  },
  {
   "cell_type": "code",
   "execution_count": 118,
   "metadata": {},
   "outputs": [],
   "source": [
    "def split_data(normalized_prices, split=0.8):\n",
    "    train_size = int(len(normalized_prices) * split)\n",
    "    test_size = len(normalized_prices) - train_size\n",
    "    \n",
    "    training_data = normalized_prices[0:train_size]\n",
    "    test_data = normalized_prices[train_size:len(normalized_prices)]\n",
    "    return training_data, test_data\n",
    "\n",
    "    # X_train, X_test = X[0:train_size], X[train_size:len(X)]\n",
    "    # y_train, y_test = y[0:train_size], y[train_size:len(y)]"
   ]
  },
  {
   "cell_type": "code",
   "execution_count": 119,
   "metadata": {},
   "outputs": [],
   "source": [
    "def create_dataset_helper(data, time_step=1):\n",
    "    X, y = [], []\n",
    "    data = data.reset_index(drop=True)\n",
    "\n",
    "    for i in range(len(data) - time_step):      \n",
    "        X.append(data[i:(i + time_step)])\n",
    "        y.append(data[i + time_step])\n",
    "    return np.array(X), np.array(y)"
   ]
  },
  {
   "cell_type": "code",
   "execution_count": 120,
   "metadata": {},
   "outputs": [],
   "source": [
    "def create_dataset(data, time_steps=1):\n",
    "    X, y = create_dataset_helper(data, time_steps)\n",
    "    X = X.reshape(X.shape[0], X.shape[1], 1)\n",
    "    return X, y"
   ]
  },
  {
   "cell_type": "code",
   "execution_count": 121,
   "metadata": {},
   "outputs": [
    {
     "name": "stdout",
     "output_type": "stream",
     "text": [
      "1728    0.427458\n",
      "1729   -0.366933\n",
      "1730   -0.253449\n",
      "1731   -0.253449\n",
      "1732    0.313974\n",
      "          ...   \n",
      "2155   -2.977077\n",
      "2156   -0.026480\n",
      "2157    0.540943\n",
      "2158   -1.501778\n",
      "2159    0.087005\n",
      "Name: price, Length: 432, dtype: float64\n"
     ]
    }
   ],
   "source": [
    "print(test_data)"
   ]
  },
  {
   "cell_type": "code",
   "execution_count": 122,
   "metadata": {},
   "outputs": [],
   "source": [
    "time_step = 10 # This is the number of time steps you're looking at to predict the next step.\n",
    "\n",
    "# Split the data into training and testing data\n",
    "training_data, test_data = split_data(normalized_prices)\n",
    "X_train, y_train = create_dataset(training_data, time_step)\n",
    "X_test, y_test = create_dataset(test_data, time_step)\n"
   ]
  },
  {
   "cell_type": "code",
   "execution_count": 124,
   "metadata": {},
   "outputs": [
    {
     "name": "stdout",
     "output_type": "stream",
     "text": [
      "(1718, 10, 1) (1718,) (422, 10, 1) (422,)\n"
     ]
    }
   ],
   "source": [
    "print(X_train.shape, y_train.shape, X_test.shape, y_test.shape)"
   ]
  },
  {
   "cell_type": "code",
   "execution_count": 127,
   "metadata": {},
   "outputs": [
    {
     "name": "stdout",
     "output_type": "stream",
     "text": [
      "1718 422\n"
     ]
    }
   ],
   "source": [
    "train_size = X_train.shape[0]\n",
    "test_size = X_test.shape[0]\n",
    "print(train_size, test_size)"
   ]
  },
  {
   "cell_type": "code",
   "execution_count": 128,
   "metadata": {},
   "outputs": [],
   "source": [
    "def create_model():\n",
    "    model = Sequential()\n",
    "    model.add(LSTM(50, return_sequences=True, input_shape=(time_step, 1)))\n",
    "    model.add(LSTM(50, return_sequences=False))\n",
    "    model.add(Dense(1))\n",
    "    model.compile(optimizer='adam', loss='mean_squared_error')\n",
    "    return model"
   ]
  },
  {
   "cell_type": "code",
   "execution_count": 129,
   "metadata": {},
   "outputs": [
    {
     "name": "stdout",
     "output_type": "stream",
     "text": [
      "Model: \"sequential_3\"\n",
      "_________________________________________________________________\n",
      " Layer (type)                Output Shape              Param #   \n",
      "=================================================================\n",
      " lstm_6 (LSTM)               (None, 10, 50)            10400     \n",
      "                                                                 \n",
      " lstm_7 (LSTM)               (None, 50)                20200     \n",
      "                                                                 \n",
      " dense_3 (Dense)             (None, 1)                 51        \n",
      "                                                                 \n",
      "=================================================================\n",
      "Total params: 30651 (119.73 KB)\n",
      "Trainable params: 30651 (119.73 KB)\n",
      "Non-trainable params: 0 (0.00 Byte)\n",
      "_________________________________________________________________\n"
     ]
    }
   ],
   "source": [
    "model = create_model()\n",
    "model.summary()"
   ]
  },
  {
   "cell_type": "code",
   "execution_count": 130,
   "metadata": {},
   "outputs": [
    {
     "name": "stdout",
     "output_type": "stream",
     "text": [
      "Epoch 1/50\n",
      "54/54 [==============================] - 3s 6ms/step - loss: 0.9172\n",
      "Epoch 2/50\n",
      "54/54 [==============================] - 0s 6ms/step - loss: 0.9115\n",
      "Epoch 3/50\n",
      "54/54 [==============================] - 0s 6ms/step - loss: 0.9112\n",
      "Epoch 4/50\n",
      "54/54 [==============================] - 0s 6ms/step - loss: 0.9103\n",
      "Epoch 5/50\n",
      "54/54 [==============================] - 0s 6ms/step - loss: 0.9101\n",
      "Epoch 6/50\n",
      "54/54 [==============================] - 0s 6ms/step - loss: 0.9110\n",
      "Epoch 7/50\n",
      "54/54 [==============================] - 0s 6ms/step - loss: 0.9097\n",
      "Epoch 8/50\n",
      "54/54 [==============================] - 0s 8ms/step - loss: 0.9083\n",
      "Epoch 9/50\n",
      "54/54 [==============================] - 0s 6ms/step - loss: 0.9067\n",
      "Epoch 10/50\n",
      "54/54 [==============================] - 0s 6ms/step - loss: 0.9109\n",
      "Epoch 11/50\n",
      "54/54 [==============================] - 0s 6ms/step - loss: 0.9065\n",
      "Epoch 12/50\n",
      "54/54 [==============================] - 0s 6ms/step - loss: 0.9081\n",
      "Epoch 13/50\n",
      "54/54 [==============================] - 0s 6ms/step - loss: 0.9090\n",
      "Epoch 14/50\n",
      "54/54 [==============================] - 0s 6ms/step - loss: 0.9060\n",
      "Epoch 15/50\n",
      "54/54 [==============================] - 0s 6ms/step - loss: 0.9068\n",
      "Epoch 16/50\n",
      "54/54 [==============================] - 0s 6ms/step - loss: 0.9052\n",
      "Epoch 17/50\n",
      "54/54 [==============================] - 0s 6ms/step - loss: 0.9055\n",
      "Epoch 18/50\n",
      "54/54 [==============================] - 0s 6ms/step - loss: 0.9055\n",
      "Epoch 19/50\n",
      "54/54 [==============================] - 0s 6ms/step - loss: 0.9039\n",
      "Epoch 20/50\n",
      "54/54 [==============================] - 0s 6ms/step - loss: 0.9059\n",
      "Epoch 21/50\n",
      "54/54 [==============================] - 0s 6ms/step - loss: 0.9037\n",
      "Epoch 22/50\n",
      "54/54 [==============================] - 0s 6ms/step - loss: 0.9045\n",
      "Epoch 23/50\n",
      "54/54 [==============================] - 0s 6ms/step - loss: 0.9035\n",
      "Epoch 24/50\n",
      "54/54 [==============================] - 0s 6ms/step - loss: 0.9018\n",
      "Epoch 25/50\n",
      "54/54 [==============================] - 0s 6ms/step - loss: 0.9026\n",
      "Epoch 26/50\n",
      "54/54 [==============================] - 0s 6ms/step - loss: 0.9024\n",
      "Epoch 27/50\n",
      "54/54 [==============================] - 0s 6ms/step - loss: 0.8995\n",
      "Epoch 28/50\n",
      "54/54 [==============================] - 0s 6ms/step - loss: 0.8987\n",
      "Epoch 29/50\n",
      "54/54 [==============================] - 0s 6ms/step - loss: 0.8987\n",
      "Epoch 30/50\n",
      "54/54 [==============================] - 0s 6ms/step - loss: 0.8989\n",
      "Epoch 31/50\n",
      "54/54 [==============================] - 0s 6ms/step - loss: 0.9001\n",
      "Epoch 32/50\n",
      "54/54 [==============================] - 0s 6ms/step - loss: 0.8936\n",
      "Epoch 33/50\n",
      "54/54 [==============================] - 0s 7ms/step - loss: 0.8971\n",
      "Epoch 34/50\n",
      "54/54 [==============================] - 0s 6ms/step - loss: 0.8963\n",
      "Epoch 35/50\n",
      "54/54 [==============================] - 0s 6ms/step - loss: 0.8971\n",
      "Epoch 36/50\n",
      "54/54 [==============================] - 0s 6ms/step - loss: 0.8906\n",
      "Epoch 37/50\n",
      "54/54 [==============================] - 0s 6ms/step - loss: 0.8898\n",
      "Epoch 38/50\n",
      "54/54 [==============================] - 0s 6ms/step - loss: 0.8889\n",
      "Epoch 39/50\n",
      "54/54 [==============================] - 0s 6ms/step - loss: 0.8863\n",
      "Epoch 40/50\n",
      "54/54 [==============================] - 0s 6ms/step - loss: 0.8845\n",
      "Epoch 41/50\n",
      "54/54 [==============================] - 0s 6ms/step - loss: 0.8821\n",
      "Epoch 42/50\n",
      "54/54 [==============================] - 0s 6ms/step - loss: 0.8807\n",
      "Epoch 43/50\n",
      "54/54 [==============================] - 0s 6ms/step - loss: 0.8783\n",
      "Epoch 44/50\n",
      "54/54 [==============================] - 0s 7ms/step - loss: 0.8745\n",
      "Epoch 45/50\n",
      "54/54 [==============================] - 0s 6ms/step - loss: 0.8730\n",
      "Epoch 46/50\n",
      "54/54 [==============================] - 0s 6ms/step - loss: 0.8716\n",
      "Epoch 47/50\n",
      "54/54 [==============================] - 0s 6ms/step - loss: 0.8653\n",
      "Epoch 48/50\n",
      "54/54 [==============================] - 0s 6ms/step - loss: 0.8578\n",
      "Epoch 49/50\n",
      "54/54 [==============================] - 0s 6ms/step - loss: 0.8565\n",
      "Epoch 50/50\n",
      "54/54 [==============================] - 0s 6ms/step - loss: 0.8464\n"
     ]
    },
    {
     "data": {
      "text/plain": [
       "<keras.src.callbacks.History at 0x1665af280>"
      ]
     },
     "execution_count": 130,
     "metadata": {},
     "output_type": "execute_result"
    }
   ],
   "source": [
    "model.fit(X_train, y_train, epochs=50, batch_size=32, verbose=1)"
   ]
  },
  {
   "cell_type": "code",
   "execution_count": 142,
   "metadata": {},
   "outputs": [],
   "source": [
    "def predictions(model, X_train, y_train, X_test, y_test, prices):\n",
    "    train_predictions = model.predict(X_train)\n",
    "    test_predictions = model.predict(X_test)\n",
    "    \n",
    "    train_predict = (train_predictions * np.std(prices)) + np.mean(prices)\n",
    "    y_train = (y_train * np.std(prices)) + np.mean(prices)\n",
    "    test_predict = (test_predictions * np.std(prices)) + np.mean(prices)\n",
    "    y_test = (y_test * np.std(prices)) + np.mean(prices)\n",
    "    \n",
    "    train_score = sqrt(mean_squared_error(y_train, train_predict))\n",
    "    print('Train Score: %.20f RMSE' % (train_score))\n",
    "    test_score = sqrt(mean_squared_error(y_test, test_predict))\n",
    "    print('Test Score: %.20f RMSE' % (test_score))\n",
    "    return train_predict, test_predict\n",
    "    "
   ]
  },
  {
   "cell_type": "code",
   "execution_count": 143,
   "metadata": {},
   "outputs": [
    {
     "name": "stdout",
     "output_type": "stream",
     "text": [
      "54/54 [==============================] - 0s 2ms/step\n",
      "14/14 [==============================] - 0s 3ms/step\n",
      "Train Score: 0.00080894037840187631 RMSE\n",
      "Test Score: 0.00106814382564748931 RMSE\n"
     ]
    }
   ],
   "source": [
    "train_predict, test_predict = predictions(model, X_train, y_train, X_test, y_test, prices)"
   ]
  },
  {
   "cell_type": "code",
   "execution_count": 139,
   "metadata": {},
   "outputs": [
    {
     "name": "stdout",
     "output_type": "stream",
     "text": [
      "(422, 1)\n"
     ]
    }
   ],
   "source": [
    "print(test_predict.shape)"
   ]
  },
  {
   "cell_type": "code",
   "execution_count": 140,
   "metadata": {},
   "outputs": [
    {
     "name": "stdout",
     "output_type": "stream",
     "text": [
      "(422,)\n"
     ]
    }
   ],
   "source": [
    "train_predict_flattened = train_predict.flatten()\n",
    "test_predict_flattened = test_predict.flatten()"
   ]
  },
  {
   "cell_type": "code",
   "execution_count": 141,
   "metadata": {},
   "outputs": [
    {
     "data": {
      "image/png": "[encoded data removed]",
      "text/plain": [
       "<Figure size 1000x600 with 1 Axes>"
      ]
     },
     "metadata": {},
     "output_type": "display_data"
    }
   ],
   "source": [
    "# graph the results\n",
    "\n",
    "# reshape train_predict and test_predict to the shape of prices\n",
    "\n",
    "plt.figure(figsize=(10, 6))\n",
    "plt.plot(prices, color='blue', label='Actual Price')\n",
    "plt.plot(range(time_step, train_size + time_step), train_predict_flattened, color='green', label='Train Predicted Price')\n",
    "plt.plot(range(train_size + time_step, train_size + time_step + test_size), test_predict_flattened, color='red', label='Test Predicted Price')\n",
    "\n",
    "plt.title('USDC Price Prediction')\n",
    "plt.xlabel('Date')\n",
    "plt.ylabel('Price')\n",
    "plt.legend()\n",
    "plt.show()"
   ]
  },
  {
   "cell_type": "markdown",
   "metadata": {},
   "source": [
    "## USDC Demo"
   ]
  },
  {
   "cell_type": "markdown",
   "metadata": {},
   "source": [
    "# Ethereum Univariate LSTM Time Series"
   ]
  },
  {
   "cell_type": "code",
   "execution_count": 44,
   "metadata": {},
   "outputs": [
    {
     "name": "stdout",
     "output_type": "stream",
     "text": [
      "Epoch 1/100\n",
      "54/54 [==============================] - 5s 29ms/step - loss: 0.9152 - val_loss: 1.3652\n",
      "Epoch 2/100\n",
      "54/54 [==============================] - 1s 12ms/step - loss: 0.9102 - val_loss: 1.3628\n",
      "Epoch 3/100\n",
      "54/54 [==============================] - 1s 12ms/step - loss: 0.9106 - val_loss: 1.3718\n",
      "Epoch 4/100\n",
      "54/54 [==============================] - 1s 12ms/step - loss: 0.9108 - val_loss: 1.3667\n",
      "Epoch 5/100\n",
      "54/54 [==============================] - 1s 11ms/step - loss: 0.9104 - val_loss: 1.3660\n",
      "Epoch 6/100\n",
      "54/54 [==============================] - 1s 11ms/step - loss: 0.9102 - val_loss: 1.3702\n",
      "Epoch 7/100\n",
      "54/54 [==============================] - 1s 11ms/step - loss: 0.9112 - val_loss: 1.3698\n",
      "Epoch 8/100\n",
      "54/54 [==============================] - 1s 11ms/step - loss: 0.9106 - val_loss: 1.3678\n",
      "Epoch 9/100\n",
      "54/54 [==============================] - 1s 13ms/step - loss: 0.9088 - val_loss: 1.3603\n",
      "Epoch 10/100\n",
      "54/54 [==============================] - 1s 12ms/step - loss: 0.9088 - val_loss: 1.3622\n",
      "Epoch 11/100\n",
      "54/54 [==============================] - 1s 12ms/step - loss: 0.9067 - val_loss: 1.3631\n",
      "Epoch 12/100\n",
      "54/54 [==============================] - 1s 10ms/step - loss: 0.9071 - val_loss: 1.3577\n",
      "Epoch 13/100\n",
      "54/54 [==============================] - 1s 10ms/step - loss: 0.9072 - val_loss: 1.3750\n",
      "Epoch 14/100\n",
      "54/54 [==============================] - 1s 10ms/step - loss: 0.9090 - val_loss: 1.3628\n",
      "Epoch 15/100\n",
      "54/54 [==============================] - 1s 10ms/step - loss: 0.9068 - val_loss: 1.3634\n",
      "Epoch 16/100\n",
      "54/54 [==============================] - 1s 11ms/step - loss: 0.9056 - val_loss: 1.3659\n",
      "Epoch 17/100\n",
      "54/54 [==============================] - 1s 10ms/step - loss: 0.9060 - val_loss: 1.3566\n",
      "Epoch 18/100\n",
      "54/54 [==============================] - 1s 10ms/step - loss: 0.9041 - val_loss: 1.3579\n",
      "Epoch 19/100\n",
      "54/54 [==============================] - 1s 10ms/step - loss: 0.9023 - val_loss: 1.3555\n",
      "Epoch 20/100\n",
      "54/54 [==============================] - 1s 9ms/step - loss: 0.9015 - val_loss: 1.3536\n",
      "Epoch 21/100\n",
      "54/54 [==============================] - 1s 10ms/step - loss: 0.9033 - val_loss: 1.3731\n",
      "Epoch 22/100\n",
      "54/54 [==============================] - 1s 10ms/step - loss: 0.9039 - val_loss: 1.3642\n",
      "Epoch 23/100\n",
      "54/54 [==============================] - 1s 10ms/step - loss: 0.8992 - val_loss: 1.3626\n",
      "Epoch 24/100\n",
      "54/54 [==============================] - 1s 11ms/step - loss: 0.8994 - val_loss: 1.3637\n",
      "Epoch 25/100\n",
      "54/54 [==============================] - 1s 12ms/step - loss: 0.8969 - val_loss: 1.3711\n",
      "Epoch 26/100\n",
      "54/54 [==============================] - 1s 12ms/step - loss: 0.8945 - val_loss: 1.3835\n",
      "Epoch 27/100\n",
      "54/54 [==============================] - 1s 10ms/step - loss: 0.8968 - val_loss: 1.3668\n",
      "Epoch 28/100\n",
      "54/54 [==============================] - 1s 11ms/step - loss: 0.8900 - val_loss: 1.3903\n",
      "Epoch 29/100\n",
      "54/54 [==============================] - 1s 11ms/step - loss: 0.8890 - val_loss: 1.3778\n",
      "Epoch 30/100\n",
      "54/54 [==============================] - 1s 12ms/step - loss: 0.8865 - val_loss: 1.4003\n",
      "Epoch 31/100\n",
      "54/54 [==============================] - 1s 11ms/step - loss: 0.8888 - val_loss: 1.4134\n",
      "Epoch 32/100\n",
      "54/54 [==============================] - 1s 11ms/step - loss: 0.8809 - val_loss: 1.3776\n",
      "Epoch 33/100\n",
      "54/54 [==============================] - 1s 11ms/step - loss: 0.8818 - val_loss: 1.3945\n",
      "Epoch 34/100\n",
      "54/54 [==============================] - 1s 10ms/step - loss: 0.8745 - val_loss: 1.3976\n",
      "Epoch 35/100\n",
      "54/54 [==============================] - 1s 10ms/step - loss: 0.8807 - val_loss: 1.4018\n",
      "Epoch 36/100\n",
      "54/54 [==============================] - 1s 10ms/step - loss: 0.8739 - val_loss: 1.3960\n",
      "Epoch 37/100\n",
      "54/54 [==============================] - 1s 10ms/step - loss: 0.8736 - val_loss: 1.4219\n",
      "Epoch 38/100\n",
      "54/54 [==============================] - 1s 11ms/step - loss: 0.8696 - val_loss: 1.4183\n",
      "Epoch 39/100\n",
      "54/54 [==============================] - 1s 10ms/step - loss: 0.8664 - val_loss: 1.3961\n",
      "Epoch 40/100\n",
      "54/54 [==============================] - 1s 10ms/step - loss: 0.8628 - val_loss: 1.4205\n",
      "Epoch 41/100\n",
      "54/54 [==============================] - 1s 11ms/step - loss: 0.8697 - val_loss: 1.4156\n",
      "Epoch 42/100\n",
      "54/54 [==============================] - 1s 11ms/step - loss: 0.8578 - val_loss: 1.4338\n",
      "Epoch 43/100\n",
      "54/54 [==============================] - 1s 10ms/step - loss: 0.8460 - val_loss: 1.4516\n",
      "Epoch 44/100\n",
      "54/54 [==============================] - 1s 10ms/step - loss: 0.8498 - val_loss: 1.4426\n",
      "Epoch 45/100\n",
      "54/54 [==============================] - 1s 10ms/step - loss: 0.8427 - val_loss: 1.4636\n",
      "Epoch 46/100\n",
      "54/54 [==============================] - 1s 10ms/step - loss: 0.8392 - val_loss: 1.4963\n",
      "Epoch 47/100\n",
      "54/54 [==============================] - 1s 10ms/step - loss: 0.8369 - val_loss: 1.4950\n",
      "Epoch 48/100\n",
      "54/54 [==============================] - 1s 10ms/step - loss: 0.8321 - val_loss: 1.4658\n",
      "Epoch 49/100\n",
      "54/54 [==============================] - 1s 11ms/step - loss: 0.8406 - val_loss: 1.5482\n",
      "Epoch 50/100\n",
      "54/54 [==============================] - 1s 11ms/step - loss: 0.8227 - val_loss: 1.5456\n",
      "Epoch 51/100\n",
      "54/54 [==============================] - 1s 11ms/step - loss: 0.8258 - val_loss: 1.5380\n",
      "Epoch 52/100\n",
      "54/54 [==============================] - 1s 13ms/step - loss: 0.8186 - val_loss: 1.5366\n",
      "Epoch 53/100\n",
      "54/54 [==============================] - 1s 11ms/step - loss: 0.8249 - val_loss: 1.5155\n",
      "Epoch 54/100\n",
      "54/54 [==============================] - 1s 12ms/step - loss: 0.7956 - val_loss: 1.6047\n",
      "Epoch 55/100\n",
      "54/54 [==============================] - 1s 12ms/step - loss: 0.7895 - val_loss: 1.5537\n",
      "Epoch 56/100\n",
      "54/54 [==============================] - 1s 14ms/step - loss: 0.7778 - val_loss: 1.6615\n",
      "Epoch 57/100\n",
      "54/54 [==============================] - 1s 12ms/step - loss: 0.7747 - val_loss: 1.6879\n",
      "Epoch 58/100\n",
      "54/54 [==============================] - 1s 10ms/step - loss: 0.7729 - val_loss: 1.6454\n",
      "Epoch 59/100\n",
      "54/54 [==============================] - 1s 10ms/step - loss: 0.7581 - val_loss: 1.5963\n",
      "Epoch 60/100\n",
      "54/54 [==============================] - 1s 12ms/step - loss: 0.7445 - val_loss: 1.7695\n",
      "Epoch 61/100\n",
      "54/54 [==============================] - 1s 12ms/step - loss: 0.7357 - val_loss: 1.7794\n",
      "Epoch 62/100\n",
      "54/54 [==============================] - 1s 11ms/step - loss: 0.7294 - val_loss: 1.7663\n",
      "Epoch 63/100\n",
      "54/54 [==============================] - 1s 11ms/step - loss: 0.7224 - val_loss: 1.7649\n",
      "Epoch 64/100\n",
      "54/54 [==============================] - 1s 11ms/step - loss: 0.7156 - val_loss: 1.7427\n",
      "Epoch 65/100\n",
      "54/54 [==============================] - 1s 12ms/step - loss: 0.7099 - val_loss: 1.8737\n",
      "Epoch 66/100\n",
      "54/54 [==============================] - 1s 11ms/step - loss: 0.6956 - val_loss: 1.8328\n",
      "Epoch 67/100\n",
      "54/54 [==============================] - 1s 14ms/step - loss: 0.6873 - val_loss: 1.8205\n",
      "Epoch 68/100\n",
      "54/54 [==============================] - 1s 13ms/step - loss: 0.6738 - val_loss: 1.9060\n",
      "Epoch 69/100\n",
      "54/54 [==============================] - 1s 12ms/step - loss: 0.6571 - val_loss: 1.9138\n",
      "Epoch 70/100\n",
      "54/54 [==============================] - 1s 12ms/step - loss: 0.6583 - val_loss: 1.9085\n",
      "Epoch 71/100\n",
      "54/54 [==============================] - 1s 11ms/step - loss: 0.6519 - val_loss: 1.8923\n",
      "Epoch 72/100\n",
      "54/54 [==============================] - 1s 13ms/step - loss: 0.6408 - val_loss: 1.9820\n",
      "Epoch 73/100\n",
      "54/54 [==============================] - 1s 11ms/step - loss: 0.6206 - val_loss: 1.8660\n",
      "Epoch 74/100\n",
      "54/54 [==============================] - 1s 11ms/step - loss: 0.6140 - val_loss: 1.9577\n",
      "Epoch 75/100\n",
      "54/54 [==============================] - 1s 11ms/step - loss: 0.5956 - val_loss: 1.9561\n",
      "Epoch 76/100\n",
      "54/54 [==============================] - 1s 12ms/step - loss: 0.5930 - val_loss: 1.9778\n",
      "Epoch 77/100\n",
      "54/54 [==============================] - 1s 11ms/step - loss: 0.5747 - val_loss: 1.9208\n",
      "Epoch 78/100\n",
      "54/54 [==============================] - 1s 12ms/step - loss: 0.5769 - val_loss: 2.0757\n",
      "Epoch 79/100\n",
      "54/54 [==============================] - 1s 11ms/step - loss: 0.5674 - val_loss: 1.9157\n",
      "Epoch 80/100\n",
      "54/54 [==============================] - 1s 10ms/step - loss: 0.5369 - val_loss: 2.0678\n",
      "Epoch 81/100\n",
      "54/54 [==============================] - 1s 11ms/step - loss: 0.5236 - val_loss: 2.0831\n",
      "Epoch 82/100\n",
      "54/54 [==============================] - 1s 10ms/step - loss: 0.5120 - val_loss: 2.0386\n",
      "Epoch 83/100\n",
      "54/54 [==============================] - 1s 12ms/step - loss: 0.5094 - val_loss: 2.1220\n",
      "Epoch 84/100\n",
      "54/54 [==============================] - 1s 11ms/step - loss: 0.4808 - val_loss: 2.1440\n",
      "Epoch 85/100\n",
      "54/54 [==============================] - 1s 12ms/step - loss: 0.4630 - val_loss: 2.1521\n",
      "Epoch 86/100\n",
      "54/54 [==============================] - 1s 10ms/step - loss: 0.4623 - val_loss: 2.1176\n",
      "Epoch 87/100\n",
      "54/54 [==============================] - 1s 11ms/step - loss: 0.4397 - val_loss: 2.1566\n",
      "Epoch 88/100\n",
      "54/54 [==============================] - 1s 10ms/step - loss: 0.4247 - val_loss: 2.0981\n",
      "Epoch 89/100\n",
      "54/54 [==============================] - 1s 11ms/step - loss: 0.4047 - val_loss: 2.2277\n",
      "Epoch 90/100\n",
      "54/54 [==============================] - 1s 11ms/step - loss: 0.3991 - val_loss: 2.2238\n",
      "Epoch 91/100\n",
      "54/54 [==============================] - 1s 13ms/step - loss: 0.3814 - val_loss: 2.1995\n",
      "Epoch 92/100\n",
      "54/54 [==============================] - 1s 11ms/step - loss: 0.3714 - val_loss: 2.2124\n",
      "Epoch 93/100\n",
      "54/54 [==============================] - 1s 10ms/step - loss: 0.3548 - val_loss: 2.1738\n",
      "Epoch 94/100\n",
      "54/54 [==============================] - 1s 11ms/step - loss: 0.3382 - val_loss: 2.2015\n",
      "Epoch 95/100\n",
      "54/54 [==============================] - 1s 11ms/step - loss: 0.3249 - val_loss: 2.1859\n",
      "Epoch 96/100\n",
      "54/54 [==============================] - 1s 11ms/step - loss: 0.3160 - val_loss: 2.2672\n",
      "Epoch 97/100\n",
      "54/54 [==============================] - 1s 13ms/step - loss: 0.3106 - val_loss: 2.2320\n",
      "Epoch 98/100\n",
      "54/54 [==============================] - 1s 10ms/step - loss: 0.2998 - val_loss: 2.2259\n",
      "Epoch 99/100\n",
      "54/54 [==============================] - 1s 12ms/step - loss: 0.2911 - val_loss: 2.2699\n",
      "Epoch 100/100\n",
      "54/54 [==============================] - 1s 11ms/step - loss: 0.2835 - val_loss: 2.4540\n"
     ]
    },
    {
     "data": {
      "text/plain": [
       "<keras.src.callbacks.History at 0x166c34700>"
      ]
     },
     "execution_count": 44,
     "metadata": {},
     "output_type": "execute_result"
    }
   ],
   "source": [
    "time_step = 10\n",
    "\n",
    "prices = json_to_prices('usdc90days.json')\n",
    "normalized_prices = normalize_prices(prices)\n",
    "X, y = create_dataset(normalized_prices, time_step)\n",
    "X_train, x_test = split_data(X)\n",
    "y_train, y_test = split_data(y)\n",
    "\n",
    "lstm = create_model()\n",
    "\n",
    "lstm.fit(X_train, y_train, epochs=100, batch_size=32, verbose=1, validation_data=(X_test, y_test))\n"
   ]
  },
  {
   "cell_type": "code",
   "execution_count": 50,
   "metadata": {},
   "outputs": [
    {
     "name": "stdout",
     "output_type": "stream",
     "text": [
      "54/54 [==============================] - 0s 3ms/step\n",
      "14/14 [==============================] - 0s 3ms/step\n",
      "Train Score: 0.00 RMSE\n",
      "Test Score: 0.00 RMSE\n"
     ]
    }
   ],
   "source": [
    "predictions(lstm, X_train, y_train, X_test, y_test, prices)"
   ]
  }
 ],
 "metadata": {
  "kernelspec": {
   "display_name": "venv",
   "language": "python",
   "name": "python3"
  },
  "language_info": {
   "codemirror_mode": {
    "name": "ipython",
    "version": 3
   },
   "file_extension": ".py",
   "mimetype": "text/x-python",
   "name": "python",
   "nbconvert_exporter": "python",
   "pygments_lexer": "ipython3",
   "version": "3.10.2"
  }
 },
 "nbformat": 4,
 "nbformat_minor": 2
}
